{
 "cells": [
  {
   "cell_type": "code",
   "execution_count": 1,
   "id": "260110f6",
   "metadata": {},
   "outputs": [],
   "source": [
    "import numpy as np \n",
    "import pandas as pd"
   ]
  },
  {
   "cell_type": "code",
   "execution_count": 2,
   "id": "b7255aed",
   "metadata": {
    "execution": {
     "iopub.execute_input": "2022-04-26T03:00:06.850007Z",
     "iopub.status.busy": "2022-04-26T03:00:06.849718Z",
     "iopub.status.idle": "2022-04-26T03:00:09.099194Z",
     "shell.execute_reply": "2022-04-26T03:00:09.098415Z"
    },
    "papermill": {
     "duration": 2.287355,
     "end_time": "2022-04-26T03:00:09.101490",
     "exception": false,
     "start_time": "2022-04-26T03:00:06.814135",
     "status": "completed"
    },
    "tags": []
   },
   "outputs": [],
   "source": [
    "import matplotlib.pyplot as plt\n",
    "from sklearn.model_selection import train_test_split\n",
    "import sklearn.metrics as metrics\n",
    "\n",
    "import plotly.graph_objects as go\n",
    "from plotly.subplots import make_subplots\n",
    "import plotly.express as px"
   ]
  },
  {
   "cell_type": "code",
   "execution_count": 3,
   "id": "f83bb9ed",
   "metadata": {
    "execution": {
     "iopub.execute_input": "2022-04-26T03:00:09.173625Z",
     "iopub.status.busy": "2022-04-26T03:00:09.173317Z",
     "iopub.status.idle": "2022-04-26T03:00:21.511117Z",
     "shell.execute_reply": "2022-04-26T03:00:21.510229Z"
    },
    "papermill": {
     "duration": 12.376307,
     "end_time": "2022-04-26T03:00:21.513692",
     "exception": false,
     "start_time": "2022-04-26T03:00:09.137385",
     "status": "completed"
    },
    "tags": []
   },
   "outputs": [],
   "source": [
    "balanced_train = pd.read_csv(\"emnist-balanced-train.csv\")\n",
    "balanced_test = pd.read_csv(\"emnist-balanced-test.csv\")\n",
    "mapp = pd.read_csv(\"emnist-balanced-mapping.txt\", delimiter = ' ', index_col=0, header=None, squeeze=True)"
   ]
  },
  {
   "cell_type": "code",
   "execution_count": 4,
   "id": "64fa9972",
   "metadata": {
    "execution": {
     "iopub.execute_input": "2022-04-26T03:00:21.584686Z",
     "iopub.status.busy": "2022-04-26T03:00:21.583932Z",
     "iopub.status.idle": "2022-04-26T03:00:21.589200Z",
     "shell.execute_reply": "2022-04-26T03:00:21.588350Z"
    },
    "papermill": {
     "duration": 0.043726,
     "end_time": "2022-04-26T03:00:21.592139",
     "exception": false,
     "start_time": "2022-04-26T03:00:21.548413",
     "status": "completed"
    },
    "tags": []
   },
   "outputs": [
    {
     "name": "stdout",
     "output_type": "stream",
     "text": [
      "Train: (112799, 785), Test: (18799, 785), Map: (47,)\n"
     ]
    }
   ],
   "source": [
    "print(\"Train: %s, Test: %s, Map: %s\" %(balanced_train.shape, balanced_test.shape, mapp.shape))"
   ]
  },
  {
   "cell_type": "code",
   "execution_count": 5,
   "id": "af3549cd",
   "metadata": {
    "execution": {
     "iopub.execute_input": "2022-04-26T03:00:21.667005Z",
     "iopub.status.busy": "2022-04-26T03:00:21.666690Z",
     "iopub.status.idle": "2022-04-26T03:00:21.689875Z",
     "shell.execute_reply": "2022-04-26T03:00:21.688903Z"
    },
    "papermill": {
     "duration": 0.063517,
     "end_time": "2022-04-26T03:00:21.691780",
     "exception": false,
     "start_time": "2022-04-26T03:00:21.628263",
     "status": "completed"
    },
    "tags": []
   },
   "outputs": [
    {
     "data": {
      "text/html": [
       "<div>\n",
       "<style scoped>\n",
       "    .dataframe tbody tr th:only-of-type {\n",
       "        vertical-align: middle;\n",
       "    }\n",
       "\n",
       "    .dataframe tbody tr th {\n",
       "        vertical-align: top;\n",
       "    }\n",
       "\n",
       "    .dataframe thead th {\n",
       "        text-align: right;\n",
       "    }\n",
       "</style>\n",
       "<table border=\"1\" class=\"dataframe\">\n",
       "  <thead>\n",
       "    <tr style=\"text-align: right;\">\n",
       "      <th></th>\n",
       "      <th>45</th>\n",
       "      <th>0</th>\n",
       "      <th>0.1</th>\n",
       "      <th>0.2</th>\n",
       "      <th>0.3</th>\n",
       "      <th>0.4</th>\n",
       "      <th>0.5</th>\n",
       "      <th>0.6</th>\n",
       "      <th>0.7</th>\n",
       "      <th>0.8</th>\n",
       "      <th>...</th>\n",
       "      <th>0.524</th>\n",
       "      <th>0.525</th>\n",
       "      <th>0.526</th>\n",
       "      <th>0.527</th>\n",
       "      <th>0.528</th>\n",
       "      <th>0.529</th>\n",
       "      <th>0.530</th>\n",
       "      <th>0.531</th>\n",
       "      <th>0.532</th>\n",
       "      <th>0.533</th>\n",
       "    </tr>\n",
       "  </thead>\n",
       "  <tbody>\n",
       "    <tr>\n",
       "      <th>0</th>\n",
       "      <td>36</td>\n",
       "      <td>0</td>\n",
       "      <td>0</td>\n",
       "      <td>0</td>\n",
       "      <td>0</td>\n",
       "      <td>0</td>\n",
       "      <td>0</td>\n",
       "      <td>0</td>\n",
       "      <td>0</td>\n",
       "      <td>0</td>\n",
       "      <td>...</td>\n",
       "      <td>0</td>\n",
       "      <td>0</td>\n",
       "      <td>0</td>\n",
       "      <td>0</td>\n",
       "      <td>0</td>\n",
       "      <td>0</td>\n",
       "      <td>0</td>\n",
       "      <td>0</td>\n",
       "      <td>0</td>\n",
       "      <td>0</td>\n",
       "    </tr>\n",
       "    <tr>\n",
       "      <th>1</th>\n",
       "      <td>43</td>\n",
       "      <td>0</td>\n",
       "      <td>0</td>\n",
       "      <td>0</td>\n",
       "      <td>0</td>\n",
       "      <td>0</td>\n",
       "      <td>0</td>\n",
       "      <td>0</td>\n",
       "      <td>0</td>\n",
       "      <td>0</td>\n",
       "      <td>...</td>\n",
       "      <td>0</td>\n",
       "      <td>0</td>\n",
       "      <td>0</td>\n",
       "      <td>0</td>\n",
       "      <td>0</td>\n",
       "      <td>0</td>\n",
       "      <td>0</td>\n",
       "      <td>0</td>\n",
       "      <td>0</td>\n",
       "      <td>0</td>\n",
       "    </tr>\n",
       "    <tr>\n",
       "      <th>2</th>\n",
       "      <td>15</td>\n",
       "      <td>0</td>\n",
       "      <td>0</td>\n",
       "      <td>0</td>\n",
       "      <td>0</td>\n",
       "      <td>0</td>\n",
       "      <td>0</td>\n",
       "      <td>0</td>\n",
       "      <td>0</td>\n",
       "      <td>0</td>\n",
       "      <td>...</td>\n",
       "      <td>0</td>\n",
       "      <td>0</td>\n",
       "      <td>0</td>\n",
       "      <td>0</td>\n",
       "      <td>0</td>\n",
       "      <td>0</td>\n",
       "      <td>0</td>\n",
       "      <td>0</td>\n",
       "      <td>0</td>\n",
       "      <td>0</td>\n",
       "    </tr>\n",
       "    <tr>\n",
       "      <th>3</th>\n",
       "      <td>4</td>\n",
       "      <td>0</td>\n",
       "      <td>0</td>\n",
       "      <td>0</td>\n",
       "      <td>0</td>\n",
       "      <td>0</td>\n",
       "      <td>0</td>\n",
       "      <td>0</td>\n",
       "      <td>0</td>\n",
       "      <td>0</td>\n",
       "      <td>...</td>\n",
       "      <td>0</td>\n",
       "      <td>0</td>\n",
       "      <td>0</td>\n",
       "      <td>0</td>\n",
       "      <td>0</td>\n",
       "      <td>0</td>\n",
       "      <td>0</td>\n",
       "      <td>0</td>\n",
       "      <td>0</td>\n",
       "      <td>0</td>\n",
       "    </tr>\n",
       "    <tr>\n",
       "      <th>4</th>\n",
       "      <td>42</td>\n",
       "      <td>0</td>\n",
       "      <td>0</td>\n",
       "      <td>0</td>\n",
       "      <td>0</td>\n",
       "      <td>0</td>\n",
       "      <td>0</td>\n",
       "      <td>0</td>\n",
       "      <td>0</td>\n",
       "      <td>0</td>\n",
       "      <td>...</td>\n",
       "      <td>0</td>\n",
       "      <td>0</td>\n",
       "      <td>0</td>\n",
       "      <td>0</td>\n",
       "      <td>0</td>\n",
       "      <td>0</td>\n",
       "      <td>0</td>\n",
       "      <td>0</td>\n",
       "      <td>0</td>\n",
       "      <td>0</td>\n",
       "    </tr>\n",
       "  </tbody>\n",
       "</table>\n",
       "<p>5 rows × 785 columns</p>\n",
       "</div>"
      ],
      "text/plain": [
       "   45  0  0.1  0.2  0.3  0.4  0.5  0.6  0.7  0.8  ...  0.524  0.525  0.526  \\\n",
       "0  36  0    0    0    0    0    0    0    0    0  ...      0      0      0   \n",
       "1  43  0    0    0    0    0    0    0    0    0  ...      0      0      0   \n",
       "2  15  0    0    0    0    0    0    0    0    0  ...      0      0      0   \n",
       "3   4  0    0    0    0    0    0    0    0    0  ...      0      0      0   \n",
       "4  42  0    0    0    0    0    0    0    0    0  ...      0      0      0   \n",
       "\n",
       "   0.527  0.528  0.529  0.530  0.531  0.532  0.533  \n",
       "0      0      0      0      0      0      0      0  \n",
       "1      0      0      0      0      0      0      0  \n",
       "2      0      0      0      0      0      0      0  \n",
       "3      0      0      0      0      0      0      0  \n",
       "4      0      0      0      0      0      0      0  \n",
       "\n",
       "[5 rows x 785 columns]"
      ]
     },
     "execution_count": 5,
     "metadata": {},
     "output_type": "execute_result"
    }
   ],
   "source": [
    "balanced_train.head()"
   ]
  },
  {
   "cell_type": "code",
   "execution_count": 6,
   "id": "a6572ee9",
   "metadata": {
    "execution": {
     "iopub.execute_input": "2022-04-26T03:00:21.765154Z",
     "iopub.status.busy": "2022-04-26T03:00:21.764350Z",
     "iopub.status.idle": "2022-04-26T03:00:21.781873Z",
     "shell.execute_reply": "2022-04-26T03:00:21.780862Z"
    },
    "papermill": {
     "duration": 0.056415,
     "end_time": "2022-04-26T03:00:21.783941",
     "exception": false,
     "start_time": "2022-04-26T03:00:21.727526",
     "status": "completed"
    },
    "tags": []
   },
   "outputs": [
    {
     "data": {
      "text/html": [
       "<div>\n",
       "<style scoped>\n",
       "    .dataframe tbody tr th:only-of-type {\n",
       "        vertical-align: middle;\n",
       "    }\n",
       "\n",
       "    .dataframe tbody tr th {\n",
       "        vertical-align: top;\n",
       "    }\n",
       "\n",
       "    .dataframe thead th {\n",
       "        text-align: right;\n",
       "    }\n",
       "</style>\n",
       "<table border=\"1\" class=\"dataframe\">\n",
       "  <thead>\n",
       "    <tr style=\"text-align: right;\">\n",
       "      <th></th>\n",
       "      <th>41</th>\n",
       "      <th>0</th>\n",
       "      <th>0.1</th>\n",
       "      <th>0.2</th>\n",
       "      <th>0.3</th>\n",
       "      <th>0.4</th>\n",
       "      <th>0.5</th>\n",
       "      <th>0.6</th>\n",
       "      <th>0.7</th>\n",
       "      <th>0.8</th>\n",
       "      <th>...</th>\n",
       "      <th>0.523</th>\n",
       "      <th>0.524</th>\n",
       "      <th>0.525</th>\n",
       "      <th>0.526</th>\n",
       "      <th>0.527</th>\n",
       "      <th>0.528</th>\n",
       "      <th>0.529</th>\n",
       "      <th>0.530</th>\n",
       "      <th>0.531</th>\n",
       "      <th>0.532</th>\n",
       "    </tr>\n",
       "  </thead>\n",
       "  <tbody>\n",
       "    <tr>\n",
       "      <th>0</th>\n",
       "      <td>39</td>\n",
       "      <td>0</td>\n",
       "      <td>0</td>\n",
       "      <td>0</td>\n",
       "      <td>0</td>\n",
       "      <td>0</td>\n",
       "      <td>0</td>\n",
       "      <td>0</td>\n",
       "      <td>0</td>\n",
       "      <td>0</td>\n",
       "      <td>...</td>\n",
       "      <td>0</td>\n",
       "      <td>0</td>\n",
       "      <td>0</td>\n",
       "      <td>0</td>\n",
       "      <td>0</td>\n",
       "      <td>0</td>\n",
       "      <td>0</td>\n",
       "      <td>0</td>\n",
       "      <td>0</td>\n",
       "      <td>0</td>\n",
       "    </tr>\n",
       "    <tr>\n",
       "      <th>1</th>\n",
       "      <td>9</td>\n",
       "      <td>0</td>\n",
       "      <td>0</td>\n",
       "      <td>0</td>\n",
       "      <td>0</td>\n",
       "      <td>0</td>\n",
       "      <td>0</td>\n",
       "      <td>0</td>\n",
       "      <td>0</td>\n",
       "      <td>0</td>\n",
       "      <td>...</td>\n",
       "      <td>0</td>\n",
       "      <td>0</td>\n",
       "      <td>0</td>\n",
       "      <td>0</td>\n",
       "      <td>0</td>\n",
       "      <td>0</td>\n",
       "      <td>0</td>\n",
       "      <td>0</td>\n",
       "      <td>0</td>\n",
       "      <td>0</td>\n",
       "    </tr>\n",
       "    <tr>\n",
       "      <th>2</th>\n",
       "      <td>26</td>\n",
       "      <td>0</td>\n",
       "      <td>0</td>\n",
       "      <td>0</td>\n",
       "      <td>0</td>\n",
       "      <td>0</td>\n",
       "      <td>0</td>\n",
       "      <td>0</td>\n",
       "      <td>0</td>\n",
       "      <td>0</td>\n",
       "      <td>...</td>\n",
       "      <td>0</td>\n",
       "      <td>0</td>\n",
       "      <td>0</td>\n",
       "      <td>0</td>\n",
       "      <td>0</td>\n",
       "      <td>0</td>\n",
       "      <td>0</td>\n",
       "      <td>0</td>\n",
       "      <td>0</td>\n",
       "      <td>0</td>\n",
       "    </tr>\n",
       "    <tr>\n",
       "      <th>3</th>\n",
       "      <td>44</td>\n",
       "      <td>0</td>\n",
       "      <td>0</td>\n",
       "      <td>0</td>\n",
       "      <td>0</td>\n",
       "      <td>0</td>\n",
       "      <td>0</td>\n",
       "      <td>0</td>\n",
       "      <td>0</td>\n",
       "      <td>0</td>\n",
       "      <td>...</td>\n",
       "      <td>0</td>\n",
       "      <td>0</td>\n",
       "      <td>0</td>\n",
       "      <td>0</td>\n",
       "      <td>0</td>\n",
       "      <td>0</td>\n",
       "      <td>0</td>\n",
       "      <td>0</td>\n",
       "      <td>0</td>\n",
       "      <td>0</td>\n",
       "    </tr>\n",
       "    <tr>\n",
       "      <th>4</th>\n",
       "      <td>33</td>\n",
       "      <td>0</td>\n",
       "      <td>0</td>\n",
       "      <td>0</td>\n",
       "      <td>0</td>\n",
       "      <td>0</td>\n",
       "      <td>0</td>\n",
       "      <td>0</td>\n",
       "      <td>0</td>\n",
       "      <td>0</td>\n",
       "      <td>...</td>\n",
       "      <td>0</td>\n",
       "      <td>0</td>\n",
       "      <td>0</td>\n",
       "      <td>0</td>\n",
       "      <td>0</td>\n",
       "      <td>0</td>\n",
       "      <td>0</td>\n",
       "      <td>0</td>\n",
       "      <td>0</td>\n",
       "      <td>0</td>\n",
       "    </tr>\n",
       "  </tbody>\n",
       "</table>\n",
       "<p>5 rows × 785 columns</p>\n",
       "</div>"
      ],
      "text/plain": [
       "   41  0  0.1  0.2  0.3  0.4  0.5  0.6  0.7  0.8  ...  0.523  0.524  0.525  \\\n",
       "0  39  0    0    0    0    0    0    0    0    0  ...      0      0      0   \n",
       "1   9  0    0    0    0    0    0    0    0    0  ...      0      0      0   \n",
       "2  26  0    0    0    0    0    0    0    0    0  ...      0      0      0   \n",
       "3  44  0    0    0    0    0    0    0    0    0  ...      0      0      0   \n",
       "4  33  0    0    0    0    0    0    0    0    0  ...      0      0      0   \n",
       "\n",
       "   0.526  0.527  0.528  0.529  0.530  0.531  0.532  \n",
       "0      0      0      0      0      0      0      0  \n",
       "1      0      0      0      0      0      0      0  \n",
       "2      0      0      0      0      0      0      0  \n",
       "3      0      0      0      0      0      0      0  \n",
       "4      0      0      0      0      0      0      0  \n",
       "\n",
       "[5 rows x 785 columns]"
      ]
     },
     "execution_count": 6,
     "metadata": {},
     "output_type": "execute_result"
    }
   ],
   "source": [
    "balanced_test.head()"
   ]
  },
  {
   "cell_type": "code",
   "execution_count": 7,
   "id": "91c7cba1",
   "metadata": {
    "execution": {
     "iopub.execute_input": "2022-04-26T03:00:21.859968Z",
     "iopub.status.busy": "2022-04-26T03:00:21.859115Z",
     "iopub.status.idle": "2022-04-26T03:00:21.866757Z",
     "shell.execute_reply": "2022-04-26T03:00:21.866160Z"
    },
    "papermill": {
     "duration": 0.047515,
     "end_time": "2022-04-26T03:00:21.868443",
     "exception": false,
     "start_time": "2022-04-26T03:00:21.820928",
     "status": "completed"
    },
    "tags": []
   },
   "outputs": [
    {
     "data": {
      "text/plain": [
       "0         36\n",
       "1         43\n",
       "2         15\n",
       "3          4\n",
       "4         42\n",
       "          ..\n",
       "112794    22\n",
       "112795    17\n",
       "112796    23\n",
       "112797    31\n",
       "112798     8\n",
       "Name: 45, Length: 112799, dtype: int64"
      ]
     },
     "execution_count": 7,
     "metadata": {},
     "output_type": "execute_result"
    }
   ],
   "source": [
    "# label of data\n",
    "balanced_train[\"45\"]"
   ]
  },
  {
   "cell_type": "code",
   "execution_count": 8,
   "id": "9795f828",
   "metadata": {
    "execution": {
     "iopub.execute_input": "2022-04-26T03:00:21.944370Z",
     "iopub.status.busy": "2022-04-26T03:00:21.943984Z",
     "iopub.status.idle": "2022-04-26T03:00:21.949752Z",
     "shell.execute_reply": "2022-04-26T03:00:21.949048Z"
    },
    "papermill": {
     "duration": 0.045679,
     "end_time": "2022-04-26T03:00:21.951462",
     "exception": false,
     "start_time": "2022-04-26T03:00:21.905783",
     "status": "completed"
    },
    "tags": []
   },
   "outputs": [
    {
     "data": {
      "text/plain": [
       "0        39\n",
       "1         9\n",
       "2        26\n",
       "3        44\n",
       "4        33\n",
       "         ..\n",
       "18794    45\n",
       "18795    15\n",
       "18796     1\n",
       "18797    26\n",
       "18798    33\n",
       "Name: 41, Length: 18799, dtype: int64"
      ]
     },
     "execution_count": 8,
     "metadata": {},
     "output_type": "execute_result"
    }
   ],
   "source": [
    "# label of data\n",
    "balanced_test[\"41\"]"
   ]
  },
  {
   "cell_type": "code",
   "execution_count": 9,
   "id": "78292bea",
   "metadata": {
    "execution": {
     "iopub.execute_input": "2022-04-26T03:00:22.027070Z",
     "iopub.status.busy": "2022-04-26T03:00:22.026626Z",
     "iopub.status.idle": "2022-04-26T03:00:22.032613Z",
     "shell.execute_reply": "2022-04-26T03:00:22.031771Z"
    },
    "papermill": {
     "duration": 0.045993,
     "end_time": "2022-04-26T03:00:22.034350",
     "exception": false,
     "start_time": "2022-04-26T03:00:21.988357",
     "status": "completed"
    },
    "tags": []
   },
   "outputs": [
    {
     "name": "stdout",
     "output_type": "stream",
     "text": [
      "number of classes:  47\n"
     ]
    }
   ],
   "source": [
    "classes = len(balanced_train['45'].value_counts())\n",
    "print('number of classes: ', classes)"
   ]
  },
  {
   "cell_type": "code",
   "execution_count": 10,
   "id": "2c028076",
   "metadata": {
    "execution": {
     "iopub.execute_input": "2022-04-26T03:00:22.111460Z",
     "iopub.status.busy": "2022-04-26T03:00:22.110966Z",
     "iopub.status.idle": "2022-04-26T03:00:22.116089Z",
     "shell.execute_reply": "2022-04-26T03:00:22.115409Z"
    },
    "papermill": {
     "duration": 0.045998,
     "end_time": "2022-04-26T03:00:22.117813",
     "exception": false,
     "start_time": "2022-04-26T03:00:22.071815",
     "status": "completed"
    },
    "tags": []
   },
   "outputs": [],
   "source": [
    "train_x = balanced_train.iloc[:,1:]\n",
    "train_y = balanced_train.iloc[:,0]\n",
    "\n",
    "test_x = balanced_test.iloc[:,1:]\n",
    "test_y = balanced_test.iloc[:,0]"
   ]
  },
  {
   "cell_type": "code",
   "execution_count": 11,
   "id": "8b98e670",
   "metadata": {
    "execution": {
     "iopub.execute_input": "2022-04-26T03:00:22.194825Z",
     "iopub.status.busy": "2022-04-26T03:00:22.194401Z",
     "iopub.status.idle": "2022-04-26T03:00:22.199155Z",
     "shell.execute_reply": "2022-04-26T03:00:22.198289Z"
    },
    "papermill": {
     "duration": 0.045635,
     "end_time": "2022-04-26T03:00:22.201221",
     "exception": false,
     "start_time": "2022-04-26T03:00:22.155586",
     "status": "completed"
    },
    "tags": []
   },
   "outputs": [
    {
     "name": "stdout",
     "output_type": "stream",
     "text": [
      "(112799, 784) (112799,) (18799, 784) (18799,)\n"
     ]
    }
   ],
   "source": [
    "print(train_x.shape,train_y.shape,test_x.shape,test_y.shape)"
   ]
  },
  {
   "cell_type": "code",
   "execution_count": 12,
   "id": "e67433a8",
   "metadata": {
    "execution": {
     "iopub.execute_input": "2022-04-26T03:00:22.278704Z",
     "iopub.status.busy": "2022-04-26T03:00:22.277952Z",
     "iopub.status.idle": "2022-04-26T03:00:22.995815Z",
     "shell.execute_reply": "2022-04-26T03:00:22.994857Z"
    },
    "papermill": {
     "duration": 0.759211,
     "end_time": "2022-04-26T03:00:22.998230",
     "exception": false,
     "start_time": "2022-04-26T03:00:22.239019",
     "status": "completed"
    },
    "tags": []
   },
   "outputs": [],
   "source": [
    "# Normalise data\n",
    "x_train = np.array(train_x) / 255.0\n",
    "y_train = np.array(train_y)\n",
    "x_test = np.array(test_x) / 255.0\n",
    "y_test = np.array(test_y)"
   ]
  },
  {
   "cell_type": "code",
   "execution_count": 13,
   "id": "2835ecb9",
   "metadata": {
    "execution": {
     "iopub.execute_input": "2022-04-26T03:00:23.077170Z",
     "iopub.status.busy": "2022-04-26T03:00:23.076413Z",
     "iopub.status.idle": "2022-04-26T03:00:23.237356Z",
     "shell.execute_reply": "2022-04-26T03:00:23.236758Z"
    },
    "papermill": {
     "duration": 0.202912,
     "end_time": "2022-04-26T03:00:23.239076",
     "exception": false,
     "start_time": "2022-04-26T03:00:23.036164",
     "status": "completed"
    },
    "tags": []
   },
   "outputs": [
    {
     "data": {
      "text/plain": [
       "array([[0., 0., 0., ..., 0., 0., 0.],\n",
       "       [0., 0., 0., ..., 0., 0., 0.],\n",
       "       [0., 0., 0., ..., 0., 0., 0.],\n",
       "       ...,\n",
       "       [0., 0., 0., ..., 0., 0., 0.],\n",
       "       [0., 0., 0., ..., 0., 0., 0.],\n",
       "       [0., 0., 0., ..., 0., 0., 0.]], dtype=float32)"
      ]
     },
     "execution_count": 13,
     "metadata": {},
     "output_type": "execute_result"
    }
   ],
   "source": [
    "x_train.astype('float32')\n",
    "x_test.astype('float32')"
   ]
  },
  {
   "cell_type": "code",
   "execution_count": 14,
   "id": "624d6fe1",
   "metadata": {
    "execution": {
     "iopub.execute_input": "2022-04-26T03:00:23.317462Z",
     "iopub.status.busy": "2022-04-26T03:00:23.316655Z",
     "iopub.status.idle": "2022-04-26T03:00:23.322452Z",
     "shell.execute_reply": "2022-04-26T03:00:23.321459Z"
    },
    "papermill": {
     "duration": 0.046838,
     "end_time": "2022-04-26T03:00:23.324267",
     "exception": false,
     "start_time": "2022-04-26T03:00:23.277429",
     "status": "completed"
    },
    "tags": []
   },
   "outputs": [
    {
     "name": "stdout",
     "output_type": "stream",
     "text": [
      "(112799, 28, 28) (18799, 28, 28)\n"
     ]
    }
   ],
   "source": [
    "#Reshaping all images into 28*28 for pre-processing\n",
    "x_train = x_train.reshape(x_train.shape[0], 28, 28)\n",
    "x_test = x_test.reshape(x_test.shape[0], 28, 28)\n",
    "print(x_train.shape,x_test.shape)"
   ]
  },
  {
   "cell_type": "code",
   "execution_count": 15,
   "id": "7f71c963",
   "metadata": {
    "execution": {
     "iopub.execute_input": "2022-04-26T03:00:23.404267Z",
     "iopub.status.busy": "2022-04-26T03:00:23.403996Z",
     "iopub.status.idle": "2022-04-26T03:00:23.409357Z",
     "shell.execute_reply": "2022-04-26T03:00:23.408443Z"
    },
    "papermill": {
     "duration": 0.047886,
     "end_time": "2022-04-26T03:00:23.411207",
     "exception": false,
     "start_time": "2022-04-26T03:00:23.363321",
     "status": "completed"
    },
    "tags": []
   },
   "outputs": [],
   "source": [
    "def image(data):\n",
    "        image = np.fliplr(data)\n",
    "        image = np.rot90(image)\n",
    "        return image\n",
    "\n",
    "def create_images(data, start, end):\n",
    "    images = []\n",
    "    for i in range(start,end):\n",
    "        images.append(image(data[i]))\n",
    "    return images"
   ]
  },
  {
   "cell_type": "code",
   "execution_count": 16,
   "id": "a6cd2092",
   "metadata": {
    "execution": {
     "iopub.execute_input": "2022-04-26T03:00:23.489809Z",
     "iopub.status.busy": "2022-04-26T03:00:23.489526Z",
     "iopub.status.idle": "2022-04-26T03:00:23.493878Z",
     "shell.execute_reply": "2022-04-26T03:00:23.492923Z"
    },
    "papermill": {
     "duration": 0.046092,
     "end_time": "2022-04-26T03:00:23.495629",
     "exception": false,
     "start_time": "2022-04-26T03:00:23.449537",
     "status": "completed"
    },
    "tags": []
   },
   "outputs": [],
   "source": [
    "y = create_images(x_train, 100,115)"
   ]
  },
  {
   "cell_type": "code",
   "execution_count": 17,
   "id": "b9025781",
   "metadata": {
    "execution": {
     "iopub.execute_input": "2022-04-26T03:00:23.574114Z",
     "iopub.status.busy": "2022-04-26T03:00:23.573834Z",
     "iopub.status.idle": "2022-04-26T03:00:25.089153Z",
     "shell.execute_reply": "2022-04-26T03:00:25.088258Z"
    },
    "papermill": {
     "duration": 1.556995,
     "end_time": "2022-04-26T03:00:25.091228",
     "exception": false,
     "start_time": "2022-04-26T03:00:23.534233",
     "status": "completed"
    },
    "tags": []
   },
   "outputs": [
    {
     "data": {
      "image/png": "[encoded data removed]",
      "text/plain": [
       "<Figure size 1152x1152 with 15 Axes>"
      ]
     },
     "metadata": {
      "needs_background": "light"
     },
     "output_type": "display_data"
    }
   ],
   "source": [
    "rows = len(y)//2\n",
    "cols = (len(y)//2)+1\n",
    "axes=[]\n",
    "fig=plt.figure(figsize=(16, 16))\n",
    "for a in range(rows+cols):\n",
    "    axes.append( fig.add_subplot(rows, cols, a+1))\n",
    "    plt.imshow(y[a])\n",
    "fig.tight_layout()    \n",
    "plt.show()"
   ]
  },
  {
   "cell_type": "code",
   "execution_count": 18,
   "id": "5bd8d2b9",
   "metadata": {
    "execution": {
     "iopub.execute_input": "2022-04-26T03:00:25.173380Z",
     "iopub.status.busy": "2022-04-26T03:00:25.172656Z",
     "iopub.status.idle": "2022-04-26T03:00:31.055332Z",
     "shell.execute_reply": "2022-04-26T03:00:31.054569Z"
    },
    "papermill": {
     "duration": 5.926204,
     "end_time": "2022-04-26T03:00:31.057679",
     "exception": false,
     "start_time": "2022-04-26T03:00:25.131475",
     "status": "completed"
    },
    "tags": []
   },
   "outputs": [],
   "source": [
    "import tensorflow as tf\n",
    "from tensorflow import keras\n",
    "from tensorflow.keras import layers\n",
    "from tensorflow.keras.models import Sequential\n",
    "from tensorflow.keras.layers import Dense,Dropout\n",
    "from tensorflow.keras import utils\n",
    "from tensorflow.keras.utils import to_categorical\n",
    "from tensorflow.keras import callbacks"
   ]
  },
  {
   "cell_type": "code",
   "execution_count": 19,
   "id": "d9ba7e32",
   "metadata": {
    "execution": {
     "iopub.execute_input": "2022-04-26T03:00:31.139374Z",
     "iopub.status.busy": "2022-04-26T03:00:31.138913Z",
     "iopub.status.idle": "2022-04-26T03:00:31.151693Z",
     "shell.execute_reply": "2022-04-26T03:00:31.150532Z"
    },
    "papermill": {
     "duration": 0.05623,
     "end_time": "2022-04-26T03:00:31.153945",
     "exception": false,
     "start_time": "2022-04-26T03:00:31.097715",
     "status": "completed"
    },
    "tags": []
   },
   "outputs": [
    {
     "name": "stdout",
     "output_type": "stream",
     "text": [
      "train_y:  (112799, 47)\n",
      "test_y:  (18799, 47)\n"
     ]
    }
   ],
   "source": [
    "# One hot encoding\n",
    "train_y = to_categorical(train_y, classes)\n",
    "test_y = to_categorical(test_y, classes)\n",
    "print(\"train_y: \", train_y.shape)\n",
    "print(\"test_y: \", test_y.shape)"
   ]
  },
  {
   "cell_type": "code",
   "execution_count": 20,
   "id": "07cdbd79",
   "metadata": {
    "execution": {
     "iopub.execute_input": "2022-04-26T03:00:31.235968Z",
     "iopub.status.busy": "2022-04-26T03:00:31.235697Z",
     "iopub.status.idle": "2022-04-26T03:00:31.241021Z",
     "shell.execute_reply": "2022-04-26T03:00:31.240065Z"
    },
    "papermill": {
     "duration": 0.048973,
     "end_time": "2022-04-26T03:00:31.243285",
     "exception": false,
     "start_time": "2022-04-26T03:00:31.194312",
     "status": "completed"
    },
    "tags": []
   },
   "outputs": [
    {
     "name": "stdout",
     "output_type": "stream",
     "text": [
      "train_x_oo:  (112799, 28, 28, 1)\n"
     ]
    }
   ],
   "source": [
    "# Reshape image for CNN\n",
    "train_x = x_train.reshape(-1, 28, 28, 1)\n",
    "test_x = x_test.reshape(-1, 28, 28, 1)\n",
    "print(\"train_x_oo: \", train_x.shape)"
   ]
  },
  {
   "cell_type": "code",
   "execution_count": 21,
   "id": "38f50e79",
   "metadata": {
    "execution": {
     "iopub.execute_input": "2022-04-26T03:00:31.326236Z",
     "iopub.status.busy": "2022-04-26T03:00:31.325670Z",
     "iopub.status.idle": "2022-04-26T03:00:32.373535Z",
     "shell.execute_reply": "2022-04-26T03:00:32.372658Z"
    },
    "papermill": {
     "duration": 1.091904,
     "end_time": "2022-04-26T03:00:32.375812",
     "exception": false,
     "start_time": "2022-04-26T03:00:31.283908",
     "status": "completed"
    },
    "tags": []
   },
   "outputs": [],
   "source": [
    "# Partition to train and val\n",
    "train_xx, label_x, train_yy, label_y = train_test_split(train_x, train_y,  test_size=0.2, random_state = 42)"
   ]
  },
  {
   "cell_type": "code",
   "execution_count": 22,
   "id": "f49a3ec2",
   "metadata": {
    "execution": {
     "iopub.execute_input": "2022-04-26T03:00:32.458665Z",
     "iopub.status.busy": "2022-04-26T03:00:32.458340Z",
     "iopub.status.idle": "2022-04-26T03:00:32.621991Z",
     "shell.execute_reply": "2022-04-26T03:00:32.620255Z"
    },
    "papermill": {
     "duration": 0.207755,
     "end_time": "2022-04-26T03:00:32.624166",
     "exception": false,
     "start_time": "2022-04-26T03:00:32.416411",
     "status": "completed"
    },
    "tags": []
   },
   "outputs": [
    {
     "name": "stderr",
     "output_type": "stream",
     "text": [
      "2022-04-26 03:00:32.497302: I tensorflow/core/common_runtime/process_util.cc:146] Creating new thread pool with default inter op setting: 2. Tune using inter_op_parallelism_threads for best performance.\n"
     ]
    }
   ],
   "source": [
    "model = Sequential()\n",
    "\n",
    "model.add(layers.Conv2D(filters = 32,\n",
    "                        kernel_size = (3,3),\n",
    "                        padding = 'same',\n",
    "                        activation = 'relu',\n",
    "                        input_shape = (28, 28,1)))\n",
    "model.add(layers.MaxPooling2D(pool_size = (2,2)))\n",
    "\n",
    "model.add(layers.Conv2D(filters = 64,\n",
    "                        kernel_size = (3,3),\n",
    "                        padding = 'same',\n",
    "                        activation = 'relu'))\n",
    "model.add(layers.MaxPooling2D(pool_size = (2,2)))\n",
    "model.add(layers.Conv2D(filters = 64,\n",
    "                        kernel_size = (3,3),\n",
    "                        padding = 'same',\n",
    "                        activation = 'relu'))\n",
    "model.add(layers.MaxPooling2D(pool_size=(2,2)))\n",
    "\n",
    "model.add(layers.Flatten())\n",
    "model.add(layers.Dense(units = 64,\n",
    "                       activation = 'relu'))\n",
    "model.add(layers.Dropout(.5))\n",
    "model.add(layers.Dense(units = classes,\n",
    "                       activation = 'softmax'))"
   ]
  },
  {
   "cell_type": "code",
   "execution_count": 23,
   "id": "25c04b8d",
   "metadata": {
    "execution": {
     "iopub.execute_input": "2022-04-26T03:00:32.708494Z",
     "iopub.status.busy": "2022-04-26T03:00:32.708015Z",
     "iopub.status.idle": "2022-04-26T03:00:32.717453Z",
     "shell.execute_reply": "2022-04-26T03:00:32.716713Z"
    },
    "papermill": {
     "duration": 0.054044,
     "end_time": "2022-04-26T03:00:32.719291",
     "exception": false,
     "start_time": "2022-04-26T03:00:32.665247",
     "status": "completed"
    },
    "tags": []
   },
   "outputs": [
    {
     "name": "stdout",
     "output_type": "stream",
     "text": [
      "Model: \"sequential\"\n",
      "_________________________________________________________________\n",
      "Layer (type)                 Output Shape              Param #   \n",
      "=================================================================\n",
      "conv2d (Conv2D)              (None, 28, 28, 32)        320       \n",
      "_________________________________________________________________\n",
      "max_pooling2d (MaxPooling2D) (None, 14, 14, 32)        0         \n",
      "_________________________________________________________________\n",
      "conv2d_1 (Conv2D)            (None, 14, 14, 64)        18496     \n",
      "_________________________________________________________________\n",
      "max_pooling2d_1 (MaxPooling2 (None, 7, 7, 64)          0         \n",
      "_________________________________________________________________\n",
      "conv2d_2 (Conv2D)            (None, 7, 7, 64)          36928     \n",
      "_________________________________________________________________\n",
      "max_pooling2d_2 (MaxPooling2 (None, 3, 3, 64)          0         \n",
      "_________________________________________________________________\n",
      "flatten (Flatten)            (None, 576)               0         \n",
      "_________________________________________________________________\n",
      "dense (Dense)                (None, 64)                36928     \n",
      "_________________________________________________________________\n",
      "dropout (Dropout)            (None, 64)                0         \n",
      "_________________________________________________________________\n",
      "dense_1 (Dense)              (None, 47)                3055      \n",
      "=================================================================\n",
      "Total params: 95,727\n",
      "Trainable params: 95,727\n",
      "Non-trainable params: 0\n",
      "_________________________________________________________________\n"
     ]
    }
   ],
   "source": [
    "model.summary()"
   ]
  },
  {
   "cell_type": "code",
   "execution_count": 24,
   "id": "1829e24d",
   "metadata": {
    "execution": {
     "iopub.execute_input": "2022-04-26T03:00:32.803350Z",
     "iopub.status.busy": "2022-04-26T03:00:32.803052Z",
     "iopub.status.idle": "2022-04-26T03:00:32.816636Z",
     "shell.execute_reply": "2022-04-26T03:00:32.816011Z"
    },
    "papermill": {
     "duration": 0.057809,
     "end_time": "2022-04-26T03:00:32.818430",
     "exception": false,
     "start_time": "2022-04-26T03:00:32.760621",
     "status": "completed"
    },
    "tags": []
   },
   "outputs": [],
   "source": [
    "model.compile(loss = 'categorical_crossentropy', optimizer = 'adam', metrics = ['accuracy'])"
   ]
  },
  {
   "cell_type": "code",
   "execution_count": 25,
   "id": "0e941141",
   "metadata": {
    "execution": {
     "iopub.execute_input": "2022-04-26T03:00:32.902113Z",
     "iopub.status.busy": "2022-04-26T03:00:32.901680Z",
     "iopub.status.idle": "2022-04-26T03:00:32.907111Z",
     "shell.execute_reply": "2022-04-26T03:00:32.906230Z"
    },
    "papermill": {
     "duration": 0.049581,
     "end_time": "2022-04-26T03:00:32.909291",
     "exception": false,
     "start_time": "2022-04-26T03:00:32.859710",
     "status": "completed"
    },
    "tags": []
   },
   "outputs": [],
   "source": [
    "# Set callback functions to stop training early and save the best model so far\n",
    "keras_callbacks   = [\n",
    "    callbacks.EarlyStopping(monitor = 'val_loss', patience =50,\n",
    "                            mode = 'auto', verbose = 1),\n",
    "    callbacks.ModelCheckpoint(filepath = 'best_model_cnn_emnist.h5', monitor = 'val_loss',\n",
    "                              save_best_only = True, mode = 'auto', verbose = 1)\n",
    "]"
   ]
  },
  {
   "cell_type": "code",
   "execution_count": 26,
   "id": "1abb4a57",
   "metadata": {
    "execution": {
     "iopub.execute_input": "2022-04-26T03:00:32.994457Z",
     "iopub.status.busy": "2022-04-26T03:00:32.994160Z",
     "iopub.status.idle": "2022-04-26T03:50:23.893076Z",
     "shell.execute_reply": "2022-04-26T03:50:23.891819Z"
    },
    "papermill": {
     "duration": 2990.943883,
     "end_time": "2022-04-26T03:50:23.895502",
     "exception": false,
     "start_time": "2022-04-26T03:00:32.951619",
     "status": "completed"
    },
    "tags": []
   },
   "outputs": [
    {
     "name": "stderr",
     "output_type": "stream",
     "text": [
      "2022-04-26 03:00:33.483289: I tensorflow/compiler/mlir/mlir_graph_optimization_pass.cc:185] None of the MLIR Optimization Passes are enabled (registered 2)\n"
     ]
    },
    {
     "name": "stdout",
     "output_type": "stream",
     "text": [
      "Epoch 1/100\n",
      "353/353 [==============================] - 41s 113ms/step - loss: 1.9672 - accuracy: 0.4381 - val_loss: 0.6470 - val_accuracy: 0.7891\n",
      "\n",
      "Epoch 00001: val_loss improved from inf to 0.64704, saving model to /kaggle/working/best_model_cnn_emnist.h5\n",
      "Epoch 2/100\n",
      "353/353 [==============================] - 39s 111ms/step - loss: 1.0137 - accuracy: 0.6772 - val_loss: 0.5092 - val_accuracy: 0.8228\n",
      "\n",
      "Epoch 00002: val_loss improved from 0.64704 to 0.50924, saving model to /kaggle/working/best_model_cnn_emnist.h5\n",
      "Epoch 3/100\n",
      "353/353 [==============================] - 39s 111ms/step - loss: 0.8404 - accuracy: 0.7276 - val_loss: 0.4664 - val_accuracy: 0.8358\n",
      "\n",
      "Epoch 00003: val_loss improved from 0.50924 to 0.46640, saving model to /kaggle/working/best_model_cnn_emnist.h5\n",
      "Epoch 4/100\n",
      "353/353 [==============================] - 40s 112ms/step - loss: 0.7588 - accuracy: 0.7526 - val_loss: 0.4240 - val_accuracy: 0.8468\n",
      "\n",
      "Epoch 00004: val_loss improved from 0.46640 to 0.42396, saving model to /kaggle/working/best_model_cnn_emnist.h5\n",
      "Epoch 5/100\n",
      "353/353 [==============================] - 39s 112ms/step - loss: 0.7041 - accuracy: 0.7689 - val_loss: 0.4360 - val_accuracy: 0.8466\n",
      "\n",
      "Epoch 00005: val_loss did not improve from 0.42396\n",
      "Epoch 6/100\n",
      "353/353 [==============================] - 40s 114ms/step - loss: 0.6696 - accuracy: 0.7797 - val_loss: 0.3992 - val_accuracy: 0.8569\n",
      "\n",
      "Epoch 00006: val_loss improved from 0.42396 to 0.39924, saving model to /kaggle/working/best_model_cnn_emnist.h5\n",
      "Epoch 7/100\n",
      "353/353 [==============================] - 39s 112ms/step - loss: 0.6308 - accuracy: 0.7896 - val_loss: 0.3943 - val_accuracy: 0.8590\n",
      "\n",
      "Epoch 00007: val_loss improved from 0.39924 to 0.39428, saving model to /kaggle/working/best_model_cnn_emnist.h5\n",
      "Epoch 8/100\n",
      "353/353 [==============================] - 40s 114ms/step - loss: 0.6063 - accuracy: 0.7974 - val_loss: 0.3753 - val_accuracy: 0.8607\n",
      "\n",
      "Epoch 00008: val_loss improved from 0.39428 to 0.37526, saving model to /kaggle/working/best_model_cnn_emnist.h5\n",
      "Epoch 9/100\n",
      "353/353 [==============================] - 40s 112ms/step - loss: 0.5866 - accuracy: 0.8031 - val_loss: 0.3689 - val_accuracy: 0.8646\n",
      "\n",
      "Epoch 00009: val_loss improved from 0.37526 to 0.36894, saving model to /kaggle/working/best_model_cnn_emnist.h5\n",
      "Epoch 10/100\n",
      "353/353 [==============================] - 40s 114ms/step - loss: 0.5687 - accuracy: 0.8095 - val_loss: 0.3679 - val_accuracy: 0.8659\n",
      "\n",
      "Epoch 00010: val_loss improved from 0.36894 to 0.36793, saving model to /kaggle/working/best_model_cnn_emnist.h5\n",
      "Epoch 11/100\n",
      "353/353 [==============================] - 40s 113ms/step - loss: 0.5537 - accuracy: 0.8136 - val_loss: 0.3606 - val_accuracy: 0.8716\n",
      "\n",
      "Epoch 00011: val_loss improved from 0.36793 to 0.36059, saving model to /kaggle/working/best_model_cnn_emnist.h5\n",
      "Epoch 12/100\n",
      "353/353 [==============================] - 40s 113ms/step - loss: 0.5367 - accuracy: 0.8184 - val_loss: 0.3555 - val_accuracy: 0.8679\n",
      "\n",
      "Epoch 00012: val_loss improved from 0.36059 to 0.35555, saving model to /kaggle/working/best_model_cnn_emnist.h5\n",
      "Epoch 13/100\n",
      "353/353 [==============================] - 41s 118ms/step - loss: 0.5269 - accuracy: 0.8215 - val_loss: 0.3534 - val_accuracy: 0.8711\n",
      "\n",
      "Epoch 00013: val_loss improved from 0.35555 to 0.35340, saving model to /kaggle/working/best_model_cnn_emnist.h5\n",
      "Epoch 14/100\n",
      "353/353 [==============================] - 41s 115ms/step - loss: 0.5186 - accuracy: 0.8242 - val_loss: 0.3493 - val_accuracy: 0.8727\n",
      "\n",
      "Epoch 00014: val_loss improved from 0.35340 to 0.34926, saving model to /kaggle/working/best_model_cnn_emnist.h5\n",
      "Epoch 15/100\n",
      "353/353 [==============================] - 40s 114ms/step - loss: 0.5053 - accuracy: 0.8296 - val_loss: 0.3549 - val_accuracy: 0.8718\n",
      "\n",
      "Epoch 00015: val_loss did not improve from 0.34926\n",
      "Epoch 16/100\n",
      "353/353 [==============================] - 40s 112ms/step - loss: 0.4974 - accuracy: 0.8291 - val_loss: 0.3520 - val_accuracy: 0.8741\n",
      "\n",
      "Epoch 00016: val_loss did not improve from 0.34926\n",
      "Epoch 17/100\n",
      "353/353 [==============================] - 43s 121ms/step - loss: 0.4863 - accuracy: 0.8336 - val_loss: 0.3449 - val_accuracy: 0.8767\n",
      "\n",
      "Epoch 00017: val_loss improved from 0.34926 to 0.34493, saving model to /kaggle/working/best_model_cnn_emnist.h5\n",
      "Epoch 18/100\n",
      "353/353 [==============================] - 41s 116ms/step - loss: 0.4799 - accuracy: 0.8339 - val_loss: 0.3436 - val_accuracy: 0.8767\n",
      "\n",
      "Epoch 00018: val_loss improved from 0.34493 to 0.34358, saving model to /kaggle/working/best_model_cnn_emnist.h5\n",
      "Epoch 19/100\n",
      "353/353 [==============================] - 43s 121ms/step - loss: 0.4690 - accuracy: 0.8374 - val_loss: 0.3422 - val_accuracy: 0.8779\n",
      "\n",
      "Epoch 00019: val_loss improved from 0.34358 to 0.34224, saving model to /kaggle/working/best_model_cnn_emnist.h5\n",
      "Epoch 20/100\n",
      "353/353 [==============================] - 41s 115ms/step - loss: 0.4639 - accuracy: 0.8386 - val_loss: 0.3398 - val_accuracy: 0.8781\n",
      "\n",
      "Epoch 00020: val_loss improved from 0.34224 to 0.33981, saving model to /kaggle/working/best_model_cnn_emnist.h5\n",
      "Epoch 21/100\n",
      "353/353 [==============================] - 41s 116ms/step - loss: 0.4548 - accuracy: 0.8418 - val_loss: 0.3384 - val_accuracy: 0.8783\n",
      "\n",
      "Epoch 00021: val_loss improved from 0.33981 to 0.33843, saving model to /kaggle/working/best_model_cnn_emnist.h5\n",
      "Epoch 22/100\n",
      "353/353 [==============================] - 39s 112ms/step - loss: 0.4507 - accuracy: 0.8420 - val_loss: 0.3395 - val_accuracy: 0.8772\n",
      "\n",
      "Epoch 00022: val_loss did not improve from 0.33843\n",
      "Epoch 23/100\n",
      "353/353 [==============================] - 41s 115ms/step - loss: 0.4400 - accuracy: 0.8450 - val_loss: 0.3446 - val_accuracy: 0.8787\n",
      "\n",
      "Epoch 00023: val_loss did not improve from 0.33843\n",
      "Epoch 24/100\n",
      "353/353 [==============================] - 39s 110ms/step - loss: 0.4356 - accuracy: 0.8477 - val_loss: 0.3349 - val_accuracy: 0.8811\n",
      "\n",
      "Epoch 00024: val_loss improved from 0.33843 to 0.33486, saving model to /kaggle/working/best_model_cnn_emnist.h5\n",
      "Epoch 25/100\n",
      "353/353 [==============================] - 41s 116ms/step - loss: 0.4301 - accuracy: 0.8472 - val_loss: 0.3435 - val_accuracy: 0.8790\n",
      "\n",
      "Epoch 00025: val_loss did not improve from 0.33486\n",
      "Epoch 26/100\n",
      "353/353 [==============================] - 41s 117ms/step - loss: 0.4243 - accuracy: 0.8497 - val_loss: 0.3372 - val_accuracy: 0.8802\n",
      "\n",
      "Epoch 00026: val_loss did not improve from 0.33486\n",
      "Epoch 27/100\n",
      "353/353 [==============================] - 39s 112ms/step - loss: 0.4188 - accuracy: 0.8516 - val_loss: 0.3353 - val_accuracy: 0.8829\n",
      "\n",
      "Epoch 00027: val_loss did not improve from 0.33486\n",
      "Epoch 28/100\n",
      "353/353 [==============================] - 41s 117ms/step - loss: 0.4139 - accuracy: 0.8539 - val_loss: 0.3441 - val_accuracy: 0.8788\n",
      "\n",
      "Epoch 00028: val_loss did not improve from 0.33486\n",
      "Epoch 29/100\n",
      "353/353 [==============================] - 39s 110ms/step - loss: 0.4087 - accuracy: 0.8545 - val_loss: 0.3386 - val_accuracy: 0.8823\n",
      "\n",
      "Epoch 00029: val_loss did not improve from 0.33486\n",
      "Epoch 30/100\n",
      "353/353 [==============================] - 41s 117ms/step - loss: 0.4059 - accuracy: 0.8549 - val_loss: 0.3414 - val_accuracy: 0.8795\n",
      "\n",
      "Epoch 00030: val_loss did not improve from 0.33486\n",
      "Epoch 31/100\n",
      "353/353 [==============================] - 42s 118ms/step - loss: 0.3970 - accuracy: 0.8574 - val_loss: 0.3371 - val_accuracy: 0.8834\n",
      "\n",
      "Epoch 00031: val_loss did not improve from 0.33486\n",
      "Epoch 32/100\n",
      "353/353 [==============================] - 39s 111ms/step - loss: 0.3942 - accuracy: 0.8589 - val_loss: 0.3396 - val_accuracy: 0.8813\n",
      "\n",
      "Epoch 00032: val_loss did not improve from 0.33486\n",
      "Epoch 33/100\n",
      "353/353 [==============================] - 42s 118ms/step - loss: 0.3937 - accuracy: 0.8575 - val_loss: 0.3404 - val_accuracy: 0.8831\n",
      "\n",
      "Epoch 00033: val_loss did not improve from 0.33486\n",
      "Epoch 34/100\n",
      "353/353 [==============================] - 39s 110ms/step - loss: 0.3897 - accuracy: 0.8580 - val_loss: 0.3423 - val_accuracy: 0.8810\n",
      "\n",
      "Epoch 00034: val_loss did not improve from 0.33486\n",
      "Epoch 35/100\n",
      "353/353 [==============================] - 42s 119ms/step - loss: 0.3849 - accuracy: 0.8601 - val_loss: 0.3422 - val_accuracy: 0.8839\n",
      "\n",
      "Epoch 00035: val_loss did not improve from 0.33486\n",
      "Epoch 36/100\n",
      "353/353 [==============================] - 39s 111ms/step - loss: 0.3765 - accuracy: 0.8629 - val_loss: 0.3406 - val_accuracy: 0.8828\n",
      "\n",
      "Epoch 00036: val_loss did not improve from 0.33486\n",
      "Epoch 37/100\n",
      "353/353 [==============================] - 42s 120ms/step - loss: 0.3762 - accuracy: 0.8629 - val_loss: 0.3484 - val_accuracy: 0.8835\n",
      "\n",
      "Epoch 00037: val_loss did not improve from 0.33486\n",
      "Epoch 38/100\n",
      "353/353 [==============================] - 42s 119ms/step - loss: 0.3717 - accuracy: 0.8633 - val_loss: 0.3458 - val_accuracy: 0.8828\n",
      "\n",
      "Epoch 00038: val_loss did not improve from 0.33486\n",
      "Epoch 39/100\n",
      "353/353 [==============================] - 40s 113ms/step - loss: 0.3715 - accuracy: 0.8645 - val_loss: 0.3510 - val_accuracy: 0.8810\n",
      "\n",
      "Epoch 00039: val_loss did not improve from 0.33486\n",
      "Epoch 40/100\n",
      "353/353 [==============================] - 43s 121ms/step - loss: 0.3649 - accuracy: 0.8661 - val_loss: 0.3451 - val_accuracy: 0.8801\n",
      "\n",
      "Epoch 00040: val_loss did not improve from 0.33486\n",
      "Epoch 41/100\n",
      "353/353 [==============================] - 39s 110ms/step - loss: 0.3643 - accuracy: 0.8663 - val_loss: 0.3482 - val_accuracy: 0.8844\n",
      "\n",
      "Epoch 00041: val_loss did not improve from 0.33486\n",
      "Epoch 42/100\n",
      "353/353 [==============================] - 43s 121ms/step - loss: 0.3600 - accuracy: 0.8673 - val_loss: 0.3512 - val_accuracy: 0.8828\n",
      "\n",
      "Epoch 00042: val_loss did not improve from 0.33486\n",
      "Epoch 43/100\n",
      "353/353 [==============================] - 38s 109ms/step - loss: 0.3575 - accuracy: 0.8679 - val_loss: 0.3542 - val_accuracy: 0.8831\n",
      "\n",
      "Epoch 00043: val_loss did not improve from 0.33486\n",
      "Epoch 44/100\n",
      "353/353 [==============================] - 43s 123ms/step - loss: 0.3540 - accuracy: 0.8706 - val_loss: 0.3545 - val_accuracy: 0.8810\n",
      "\n",
      "Epoch 00044: val_loss did not improve from 0.33486\n",
      "Epoch 45/100\n",
      "353/353 [==============================] - 39s 110ms/step - loss: 0.3543 - accuracy: 0.8682 - val_loss: 0.3524 - val_accuracy: 0.8831\n",
      "\n",
      "Epoch 00045: val_loss did not improve from 0.33486\n",
      "Epoch 46/100\n",
      "353/353 [==============================] - 38s 109ms/step - loss: 0.3514 - accuracy: 0.8703 - val_loss: 0.3474 - val_accuracy: 0.8801\n",
      "\n",
      "Epoch 00046: val_loss did not improve from 0.33486\n",
      "Epoch 47/100\n",
      "353/353 [==============================] - 43s 122ms/step - loss: 0.3471 - accuracy: 0.8713 - val_loss: 0.3551 - val_accuracy: 0.8823\n",
      "\n",
      "Epoch 00047: val_loss did not improve from 0.33486\n",
      "Epoch 48/100\n",
      "353/353 [==============================] - 39s 110ms/step - loss: 0.3426 - accuracy: 0.8728 - val_loss: 0.3561 - val_accuracy: 0.8814\n",
      "\n",
      "Epoch 00048: val_loss did not improve from 0.33486\n",
      "Epoch 49/100\n",
      "353/353 [==============================] - 39s 111ms/step - loss: 0.3442 - accuracy: 0.8700 - val_loss: 0.3593 - val_accuracy: 0.8805\n",
      "\n",
      "Epoch 00049: val_loss did not improve from 0.33486\n",
      "Epoch 50/100\n",
      "353/353 [==============================] - 38s 109ms/step - loss: 0.3382 - accuracy: 0.8731 - val_loss: 0.3534 - val_accuracy: 0.8832\n",
      "\n",
      "Epoch 00050: val_loss did not improve from 0.33486\n",
      "Epoch 51/100\n",
      "353/353 [==============================] - 44s 124ms/step - loss: 0.3356 - accuracy: 0.8745 - val_loss: 0.3624 - val_accuracy: 0.8842\n",
      "\n",
      "Epoch 00051: val_loss did not improve from 0.33486\n",
      "Epoch 52/100\n",
      "353/353 [==============================] - 39s 110ms/step - loss: 0.3353 - accuracy: 0.8750 - val_loss: 0.3588 - val_accuracy: 0.8835\n",
      "\n",
      "Epoch 00052: val_loss did not improve from 0.33486\n",
      "Epoch 53/100\n",
      "353/353 [==============================] - 39s 112ms/step - loss: 0.3334 - accuracy: 0.8746 - val_loss: 0.3663 - val_accuracy: 0.8807\n",
      "\n",
      "Epoch 00053: val_loss did not improve from 0.33486\n",
      "Epoch 54/100\n",
      "353/353 [==============================] - 43s 123ms/step - loss: 0.3322 - accuracy: 0.8747 - val_loss: 0.3609 - val_accuracy: 0.8823\n",
      "\n",
      "Epoch 00054: val_loss did not improve from 0.33486\n",
      "Epoch 55/100\n",
      "353/353 [==============================] - 38s 109ms/step - loss: 0.3277 - accuracy: 0.8759 - val_loss: 0.3627 - val_accuracy: 0.8830\n",
      "\n",
      "Epoch 00055: val_loss did not improve from 0.33486\n",
      "Epoch 56/100\n",
      "353/353 [==============================] - 38s 109ms/step - loss: 0.3269 - accuracy: 0.8760 - val_loss: 0.3722 - val_accuracy: 0.8813\n",
      "\n",
      "Epoch 00056: val_loss did not improve from 0.33486\n",
      "Epoch 57/100\n",
      "353/353 [==============================] - 42s 120ms/step - loss: 0.3251 - accuracy: 0.8764 - val_loss: 0.3695 - val_accuracy: 0.8825\n",
      "\n",
      "Epoch 00057: val_loss did not improve from 0.33486\n",
      "Epoch 58/100\n",
      "353/353 [==============================] - 41s 116ms/step - loss: 0.3241 - accuracy: 0.8764 - val_loss: 0.3735 - val_accuracy: 0.8822\n",
      "\n",
      "Epoch 00058: val_loss did not improve from 0.33486\n",
      "Epoch 59/100\n",
      "353/353 [==============================] - 38s 109ms/step - loss: 0.3232 - accuracy: 0.8766 - val_loss: 0.3693 - val_accuracy: 0.8843\n",
      "\n",
      "Epoch 00059: val_loss did not improve from 0.33486\n",
      "Epoch 60/100\n",
      "353/353 [==============================] - 39s 109ms/step - loss: 0.3184 - accuracy: 0.8792 - val_loss: 0.3662 - val_accuracy: 0.8828\n",
      "\n",
      "Epoch 00060: val_loss did not improve from 0.33486\n",
      "Epoch 61/100\n",
      "353/353 [==============================] - 45s 128ms/step - loss: 0.3187 - accuracy: 0.8790 - val_loss: 0.3730 - val_accuracy: 0.8802\n",
      "\n",
      "Epoch 00061: val_loss did not improve from 0.33486\n",
      "Epoch 62/100\n",
      "353/353 [==============================] - 39s 109ms/step - loss: 0.3166 - accuracy: 0.8795 - val_loss: 0.3704 - val_accuracy: 0.8831\n",
      "\n",
      "Epoch 00062: val_loss did not improve from 0.33486\n",
      "Epoch 63/100\n",
      "353/353 [==============================] - 38s 109ms/step - loss: 0.3142 - accuracy: 0.8797 - val_loss: 0.3795 - val_accuracy: 0.8818\n",
      "\n",
      "Epoch 00063: val_loss did not improve from 0.33486\n",
      "Epoch 64/100\n",
      "353/353 [==============================] - 44s 126ms/step - loss: 0.3140 - accuracy: 0.8800 - val_loss: 0.3943 - val_accuracy: 0.8793\n",
      "\n",
      "Epoch 00064: val_loss did not improve from 0.33486\n",
      "Epoch 65/100\n",
      "353/353 [==============================] - 41s 115ms/step - loss: 0.3123 - accuracy: 0.8792 - val_loss: 0.3770 - val_accuracy: 0.8809\n",
      "\n",
      "Epoch 00065: val_loss did not improve from 0.33486\n",
      "Epoch 66/100\n",
      "353/353 [==============================] - 39s 109ms/step - loss: 0.3071 - accuracy: 0.8822 - val_loss: 0.3797 - val_accuracy: 0.8848\n",
      "\n",
      "Epoch 00066: val_loss did not improve from 0.33486\n",
      "Epoch 67/100\n",
      "353/353 [==============================] - 38s 109ms/step - loss: 0.3054 - accuracy: 0.8830 - val_loss: 0.3870 - val_accuracy: 0.8839\n",
      "\n",
      "Epoch 00067: val_loss did not improve from 0.33486\n",
      "Epoch 68/100\n",
      "353/353 [==============================] - 45s 128ms/step - loss: 0.3074 - accuracy: 0.8816 - val_loss: 0.3809 - val_accuracy: 0.8826\n",
      "\n",
      "Epoch 00068: val_loss did not improve from 0.33486\n",
      "Epoch 69/100\n",
      "353/353 [==============================] - 38s 109ms/step - loss: 0.3060 - accuracy: 0.8813 - val_loss: 0.3836 - val_accuracy: 0.8810\n",
      "\n",
      "Epoch 00069: val_loss did not improve from 0.33486\n",
      "Epoch 70/100\n",
      "353/353 [==============================] - 39s 110ms/step - loss: 0.3033 - accuracy: 0.8819 - val_loss: 0.3891 - val_accuracy: 0.8810\n",
      "\n",
      "Epoch 00070: val_loss did not improve from 0.33486\n",
      "Epoch 71/100\n",
      "353/353 [==============================] - 44s 125ms/step - loss: 0.3028 - accuracy: 0.8841 - val_loss: 0.3965 - val_accuracy: 0.8812\n",
      "\n",
      "Epoch 00071: val_loss did not improve from 0.33486\n",
      "Epoch 72/100\n",
      "353/353 [==============================] - 40s 114ms/step - loss: 0.3035 - accuracy: 0.8823 - val_loss: 0.3919 - val_accuracy: 0.8825\n",
      "\n",
      "Epoch 00072: val_loss did not improve from 0.33486\n",
      "Epoch 73/100\n",
      "353/353 [==============================] - 38s 109ms/step - loss: 0.2967 - accuracy: 0.8841 - val_loss: 0.4016 - val_accuracy: 0.8810\n",
      "\n",
      "Epoch 00073: val_loss did not improve from 0.33486\n",
      "Epoch 74/100\n",
      "353/353 [==============================] - 39s 111ms/step - loss: 0.3001 - accuracy: 0.8844 - val_loss: 0.3967 - val_accuracy: 0.8810\n",
      "\n",
      "Epoch 00074: val_loss did not improve from 0.33486\n",
      "Epoch 00074: early stopping\n"
     ]
    }
   ],
   "source": [
    "model_history = model.fit(train_xx, train_yy,\n",
    "                    epochs = 100,\n",
    "                    batch_size = 256,\n",
    "                    verbose = 1,\n",
    "                    validation_data=(label_x, label_y),\n",
    "                         callbacks=keras_callbacks)"
   ]
  },
  {
   "cell_type": "code",
   "execution_count": 27,
   "id": "bc581d25",
   "metadata": {
    "execution": {
     "iopub.execute_input": "2022-04-26T03:50:43.185379Z",
     "iopub.status.busy": "2022-04-26T03:50:43.185035Z",
     "iopub.status.idle": "2022-04-26T03:50:43.192346Z",
     "shell.execute_reply": "2022-04-26T03:50:43.191536Z"
    },
    "papermill": {
     "duration": 9.60718,
     "end_time": "2022-04-26T03:50:43.194408",
     "exception": false,
     "start_time": "2022-04-26T03:50:33.587228",
     "status": "completed"
    },
    "tags": []
   },
   "outputs": [],
   "source": [
    "# Variables - Function definition for plot accuracy\n",
    "accuracy = model_history.history['accuracy']\n",
    "val_accuracy = model_history.history['val_accuracy']\n",
    "loss = model_history.history['loss']\n",
    "val_loss = model_history.history['val_loss']\n",
    "epochs = list(range(1,len(val_accuracy)+1))"
   ]
  },
  {
   "cell_type": "code",
   "execution_count": 28,
   "id": "ff35783b",
   "metadata": {
    "execution": {
     "iopub.execute_input": "2022-04-26T03:51:02.788921Z",
     "iopub.status.busy": "2022-04-26T03:51:02.788650Z",
     "iopub.status.idle": "2022-04-26T03:51:02.795247Z",
     "shell.execute_reply": "2022-04-26T03:51:02.794400Z"
    },
    "papermill": {
     "duration": 9.846074,
     "end_time": "2022-04-26T03:51:02.797241",
     "exception": false,
     "start_time": "2022-04-26T03:50:52.951167",
     "status": "completed"
    },
    "tags": []
   },
   "outputs": [],
   "source": [
    "import json\n",
    "data = {\"accuracy\":accuracy, \"val_accuracy\":val_accuracy, \"loss\":loss, \"val_loss\": val_loss, \"epochs\":epochs}\n",
    "json_data = json.dumps(data)\n",
    "with open(\"data.json\", \"w\") as outfile:\n",
    "    outfile.write(json_data)"
   ]
  },
  {
   "cell_type": "code",
   "execution_count": 29,
   "id": "a79ea07e",
   "metadata": {
    "execution": {
     "iopub.execute_input": "2022-04-26T03:51:22.037050Z",
     "iopub.status.busy": "2022-04-26T03:51:22.036770Z",
     "iopub.status.idle": "2022-04-26T03:51:22.042395Z",
     "shell.execute_reply": "2022-04-26T03:51:22.041808Z"
    },
    "papermill": {
     "duration": 9.56227,
     "end_time": "2022-04-26T03:51:22.044223",
     "exception": false,
     "start_time": "2022-04-26T03:51:12.481953",
     "status": "completed"
    },
    "tags": []
   },
   "outputs": [],
   "source": [
    "f = open(\"data.json\", mode=\"r\")\n",
    "data = json.load(f)\n",
    "accuracy = data[\"accuracy\"]\n",
    "val_accuracy = data[\"val_accuracy\"]\n",
    "loss = data[\"loss\"]\n",
    "val_loss = data[\"val_loss\"]\n",
    "epochs = data[\"epochs\"]"
   ]
  },
  {
   "cell_type": "code",
   "execution_count": 30,
   "id": "0f6c32a4",
   "metadata": {
    "execution": {
     "iopub.execute_input": "2022-04-26T03:51:41.305126Z",
     "iopub.status.busy": "2022-04-26T03:51:41.304826Z",
     "iopub.status.idle": "2022-04-26T03:51:41.484631Z",
     "shell.execute_reply": "2022-04-26T03:51:41.483812Z"
    },
    "papermill": {
     "duration": 9.81586,
     "end_time": "2022-04-26T03:51:41.486624",
     "exception": false,
     "start_time": "2022-04-26T03:51:31.670764",
     "status": "completed"
    },
    "tags": []
   },
   "outputs": [
    {
     "data": {
      "text/html": [
       "        <script type=\"text/javascript\">\n",
       "        window.PlotlyConfig = {MathJaxConfig: 'local'};\n",
       "        if (window.MathJax) {MathJax.Hub.Config({SVG: {font: \"STIX-Web\"}});}\n",
       "        if (typeof require !== 'undefined') {\n",
       "        require.undef(\"plotly\");\n",
       "        requirejs.config({\n",
       "            paths: {\n",
       "                'plotly': ['https://cdn.plot.ly/plotly-2.11.1.min']\n",
       "            }\n",
       "        });\n",
       "        require(['plotly'], function(Plotly) {\n",
       "            window._Plotly = Plotly;\n",
       "        });\n",
       "        }\n",
       "        </script>\n",
       "        "
      ]
     },
     "metadata": {},
     "output_type": "display_data"
    },
    {
     "data": {
      "text/html": [
       "<div>                            <div id=\"7c607936-cff5-401b-8263-bc09d50b585c\" class=\"plotly-graph-div\" style=\"height:525px; width:100%;\"></div>            <script type=\"text/javascript\">                require([\"plotly\"], function(Plotly) {                    window.PLOTLYENV=window.PLOTLYENV || {};                                    if (document.getElementById(\"7c607936-cff5-401b-8263-bc09d50b585c\")) {                    Plotly.newPlot(                        \"7c607936-cff5-401b-8263-bc09d50b585c\",                        [{\"name\":\"Training\",\"x\":[1,2,3,4,5,6,7,8,9,10,11,12,13,14,15,16,17,18,19,20,21,22,23,24,25,26,27,28,29,30,31,32,33,34,35,36,37,38,39,40,41,42,43,44,45,46,47,48,49,50,51,52,53,54,55,56,57,58,59,60,61,62,63,64,65,66,67,68,69,70,71,72,73,74],\"y\":[0.7890957593917847,0.8228279948234558,0.8358156085014343,0.8468084931373596,0.8465868830680847,0.8569148778915405,0.8590425252914429,0.8607269525527954,0.8645833134651184,0.8659130930900574,0.8715868592262268,0.8679078221321106,0.871143639087677,0.8727393746376038,0.8717641830444336,0.8741135001182556,0.8767287135124207,0.8766843676567078,0.8778812289237976,0.8780584931373596,0.8783244490623474,0.8772163391113281,0.878679096698761,0.881117045879364,0.8789893388748169,0.8802304863929749,0.8828900456428528,0.878767728805542,0.8823138475418091,0.8794769644737244,0.8833776712417603,0.881294310092926,0.8831117153167725,0.8810283541679382,0.883865237236023,0.8828014135360718,0.8834663033485413,0.8827570676803589,0.8809840679168701,0.8801418542861938,0.8843528628349304,0.8828457593917847,0.8830673694610596,0.8809840679168701,0.8831117153167725,0.8801418542861938,0.8823138475418091,0.8814272880554199,0.8804964423179626,0.8832003474235535,0.8841755390167236,0.8835106492042542,0.8807181119918823,0.8823138475418091,0.8829787373542786,0.8812500238418579,0.8824911117553711,0.8822251558303833,0.8842641711235046,0.8827570676803589,0.880186140537262,0.8831117153167725,0.8818262219429016,0.8793439865112305,0.8808953762054443,0.8848404288291931,0.883865237236023,0.8825798034667969,0.8809840679168701,0.8810283541679382,0.8811613321304321,0.882535457611084,0.8810283541679382,0.8809840679168701],\"type\":\"scatter\"},{\"name\":\"Validation\",\"x\":[1,2,3,4,5,6,7,8,9,10,11,12,13,14,15,16,17,18,19,20,21,22,23,24,25,26,27,28,29,30,31,32,33,34,35,36,37,38,39,40,41,42,43,44,45,46,47,48,49,50,51,52,53,54,55,56,57,58,59,60,61,62,63,64,65,66,67,68,69,70,71,72,73,74],\"y\":[0.4380810856819153,0.677223801612854,0.7276343703269958,0.7526014447212219,0.7688804268836975,0.7797071933746338,0.7896142601966858,0.797448992729187,0.8030673861503601,0.8094615340232849,0.8135839104652405,0.8184044361114502,0.8214629888534546,0.824155867099762,0.8296301960945129,0.8290650248527527,0.8335642218589783,0.833863377571106,0.8373762965202332,0.83856201171875,0.8418200612068176,0.841975212097168,0.8450115919113159,0.8477154970169067,0.8471503257751465,0.8496547937393188,0.8516495227813721,0.853854775428772,0.854497492313385,0.8548742532730103,0.8574341535568237,0.8588747382164001,0.857533872127533,0.8580436110496521,0.8600937724113464,0.8629084825515747,0.8628641963005066,0.8633185029029846,0.864493191242218,0.8660556674003601,0.8663437962532043,0.8673079013824463,0.8678508996963501,0.8706434965133667,0.8682277202606201,0.8702778220176697,0.8712530136108398,0.8727712035179138,0.8700451254844666,0.8730815052986145,0.8744999170303345,0.8750208020210266,0.8745664358139038,0.8746550679206848,0.8759405612945557,0.8760070204734802,0.8764170408248901,0.8764392137527466,0.8765943646430969,0.8791653513908386,0.8790102005004883,0.8794866800308228,0.8797305226325989,0.8800185918807983,0.879220724105835,0.8822017312049866,0.8830106854438782,0.8816143870353699,0.8813262581825256,0.8818803429603577,0.8840523362159729,0.8822792768478394,0.8840634226799011,0.8844291567802429],\"type\":\"scatter\"}],                        {\"template\":{\"data\":{\"histogram2dcontour\":[{\"type\":\"histogram2dcontour\",\"colorbar\":{\"outlinewidth\":0,\"ticks\":\"\"},\"colorscale\":[[0.0,\"#0d0887\"],[0.1111111111111111,\"#46039f\"],[0.2222222222222222,\"#7201a8\"],[0.3333333333333333,\"#9c179e\"],[0.4444444444444444,\"#bd3786\"],[0.5555555555555556,\"#d8576b\"],[0.6666666666666666,\"#ed7953\"],[0.7777777777777778,\"#fb9f3a\"],[0.8888888888888888,\"#fdca26\"],[1.0,\"#f0f921\"]]}],\"choropleth\":[{\"type\":\"choropleth\",\"colorbar\":{\"outlinewidth\":0,\"ticks\":\"\"}}],\"histogram2d\":[{\"type\":\"histogram2d\",\"colorbar\":{\"outlinewidth\":0,\"ticks\":\"\"},\"colorscale\":[[0.0,\"#0d0887\"],[0.1111111111111111,\"#46039f\"],[0.2222222222222222,\"#7201a8\"],[0.3333333333333333,\"#9c179e\"],[0.4444444444444444,\"#bd3786\"],[0.5555555555555556,\"#d8576b\"],[0.6666666666666666,\"#ed7953\"],[0.7777777777777778,\"#fb9f3a\"],[0.8888888888888888,\"#fdca26\"],[1.0,\"#f0f921\"]]}],\"heatmap\":[{\"type\":\"heatmap\",\"colorbar\":{\"outlinewidth\":0,\"ticks\":\"\"},\"colorscale\":[[0.0,\"#0d0887\"],[0.1111111111111111,\"#46039f\"],[0.2222222222222222,\"#7201a8\"],[0.3333333333333333,\"#9c179e\"],[0.4444444444444444,\"#bd3786\"],[0.5555555555555556,\"#d8576b\"],[0.6666666666666666,\"#ed7953\"],[0.7777777777777778,\"#fb9f3a\"],[0.8888888888888888,\"#fdca26\"],[1.0,\"#f0f921\"]]}],\"heatmapgl\":[{\"type\":\"heatmapgl\",\"colorbar\":{\"outlinewidth\":0,\"ticks\":\"\"},\"colorscale\":[[0.0,\"#0d0887\"],[0.1111111111111111,\"#46039f\"],[0.2222222222222222,\"#7201a8\"],[0.3333333333333333,\"#9c179e\"],[0.4444444444444444,\"#bd3786\"],[0.5555555555555556,\"#d8576b\"],[0.6666666666666666,\"#ed7953\"],[0.7777777777777778,\"#fb9f3a\"],[0.8888888888888888,\"#fdca26\"],[1.0,\"#f0f921\"]]}],\"contourcarpet\":[{\"type\":\"contourcarpet\",\"colorbar\":{\"outlinewidth\":0,\"ticks\":\"\"}}],\"contour\":[{\"type\":\"contour\",\"colorbar\":{\"outlinewidth\":0,\"ticks\":\"\"},\"colorscale\":[[0.0,\"#0d0887\"],[0.1111111111111111,\"#46039f\"],[0.2222222222222222,\"#7201a8\"],[0.3333333333333333,\"#9c179e\"],[0.4444444444444444,\"#bd3786\"],[0.5555555555555556,\"#d8576b\"],[0.6666666666666666,\"#ed7953\"],[0.7777777777777778,\"#fb9f3a\"],[0.8888888888888888,\"#fdca26\"],[1.0,\"#f0f921\"]]}],\"surface\":[{\"type\":\"surface\",\"colorbar\":{\"outlinewidth\":0,\"ticks\":\"\"},\"colorscale\":[[0.0,\"#0d0887\"],[0.1111111111111111,\"#46039f\"],[0.2222222222222222,\"#7201a8\"],[0.3333333333333333,\"#9c179e\"],[0.4444444444444444,\"#bd3786\"],[0.5555555555555556,\"#d8576b\"],[0.6666666666666666,\"#ed7953\"],[0.7777777777777778,\"#fb9f3a\"],[0.8888888888888888,\"#fdca26\"],[1.0,\"#f0f921\"]]}],\"mesh3d\":[{\"type\":\"mesh3d\",\"colorbar\":{\"outlinewidth\":0,\"ticks\":\"\"}}],\"scatter\":[{\"fillpattern\":{\"fillmode\":\"overlay\",\"size\":10,\"solidity\":0.2},\"type\":\"scatter\"}],\"parcoords\":[{\"type\":\"parcoords\",\"line\":{\"colorbar\":{\"outlinewidth\":0,\"ticks\":\"\"}}}],\"scatterpolargl\":[{\"type\":\"scatterpolargl\",\"marker\":{\"colorbar\":{\"outlinewidth\":0,\"ticks\":\"\"}}}],\"bar\":[{\"error_x\":{\"color\":\"#2a3f5f\"},\"error_y\":{\"color\":\"#2a3f5f\"},\"marker\":{\"line\":{\"color\":\"#E5ECF6\",\"width\":0.5},\"pattern\":{\"fillmode\":\"overlay\",\"size\":10,\"solidity\":0.2}},\"type\":\"bar\"}],\"scattergeo\":[{\"type\":\"scattergeo\",\"marker\":{\"colorbar\":{\"outlinewidth\":0,\"ticks\":\"\"}}}],\"scatterpolar\":[{\"type\":\"scatterpolar\",\"marker\":{\"colorbar\":{\"outlinewidth\":0,\"ticks\":\"\"}}}],\"histogram\":[{\"marker\":{\"pattern\":{\"fillmode\":\"overlay\",\"size\":10,\"solidity\":0.2}},\"type\":\"histogram\"}],\"scattergl\":[{\"type\":\"scattergl\",\"marker\":{\"colorbar\":{\"outlinewidth\":0,\"ticks\":\"\"}}}],\"scatter3d\":[{\"type\":\"scatter3d\",\"line\":{\"colorbar\":{\"outlinewidth\":0,\"ticks\":\"\"}},\"marker\":{\"colorbar\":{\"outlinewidth\":0,\"ticks\":\"\"}}}],\"scattermapbox\":[{\"type\":\"scattermapbox\",\"marker\":{\"colorbar\":{\"outlinewidth\":0,\"ticks\":\"\"}}}],\"scatterternary\":[{\"type\":\"scatterternary\",\"marker\":{\"colorbar\":{\"outlinewidth\":0,\"ticks\":\"\"}}}],\"scattercarpet\":[{\"type\":\"scattercarpet\",\"marker\":{\"colorbar\":{\"outlinewidth\":0,\"ticks\":\"\"}}}],\"carpet\":[{\"aaxis\":{\"endlinecolor\":\"#2a3f5f\",\"gridcolor\":\"white\",\"linecolor\":\"white\",\"minorgridcolor\":\"white\",\"startlinecolor\":\"#2a3f5f\"},\"baxis\":{\"endlinecolor\":\"#2a3f5f\",\"gridcolor\":\"white\",\"linecolor\":\"white\",\"minorgridcolor\":\"white\",\"startlinecolor\":\"#2a3f5f\"},\"type\":\"carpet\"}],\"table\":[{\"cells\":{\"fill\":{\"color\":\"#EBF0F8\"},\"line\":{\"color\":\"white\"}},\"header\":{\"fill\":{\"color\":\"#C8D4E3\"},\"line\":{\"color\":\"white\"}},\"type\":\"table\"}],\"barpolar\":[{\"marker\":{\"line\":{\"color\":\"#E5ECF6\",\"width\":0.5},\"pattern\":{\"fillmode\":\"overlay\",\"size\":10,\"solidity\":0.2}},\"type\":\"barpolar\"}],\"pie\":[{\"automargin\":true,\"type\":\"pie\"}]},\"layout\":{\"autotypenumbers\":\"strict\",\"colorway\":[\"#636efa\",\"#EF553B\",\"#00cc96\",\"#ab63fa\",\"#FFA15A\",\"#19d3f3\",\"#FF6692\",\"#B6E880\",\"#FF97FF\",\"#FECB52\"],\"font\":{\"color\":\"#2a3f5f\"},\"hovermode\":\"closest\",\"hoverlabel\":{\"align\":\"left\"},\"paper_bgcolor\":\"white\",\"plot_bgcolor\":\"#E5ECF6\",\"polar\":{\"bgcolor\":\"#E5ECF6\",\"angularaxis\":{\"gridcolor\":\"white\",\"linecolor\":\"white\",\"ticks\":\"\"},\"radialaxis\":{\"gridcolor\":\"white\",\"linecolor\":\"white\",\"ticks\":\"\"}},\"ternary\":{\"bgcolor\":\"#E5ECF6\",\"aaxis\":{\"gridcolor\":\"white\",\"linecolor\":\"white\",\"ticks\":\"\"},\"baxis\":{\"gridcolor\":\"white\",\"linecolor\":\"white\",\"ticks\":\"\"},\"caxis\":{\"gridcolor\":\"white\",\"linecolor\":\"white\",\"ticks\":\"\"}},\"coloraxis\":{\"colorbar\":{\"outlinewidth\":0,\"ticks\":\"\"}},\"colorscale\":{\"sequential\":[[0.0,\"#0d0887\"],[0.1111111111111111,\"#46039f\"],[0.2222222222222222,\"#7201a8\"],[0.3333333333333333,\"#9c179e\"],[0.4444444444444444,\"#bd3786\"],[0.5555555555555556,\"#d8576b\"],[0.6666666666666666,\"#ed7953\"],[0.7777777777777778,\"#fb9f3a\"],[0.8888888888888888,\"#fdca26\"],[1.0,\"#f0f921\"]],\"sequentialminus\":[[0.0,\"#0d0887\"],[0.1111111111111111,\"#46039f\"],[0.2222222222222222,\"#7201a8\"],[0.3333333333333333,\"#9c179e\"],[0.4444444444444444,\"#bd3786\"],[0.5555555555555556,\"#d8576b\"],[0.6666666666666666,\"#ed7953\"],[0.7777777777777778,\"#fb9f3a\"],[0.8888888888888888,\"#fdca26\"],[1.0,\"#f0f921\"]],\"diverging\":[[0,\"#8e0152\"],[0.1,\"#c51b7d\"],[0.2,\"#de77ae\"],[0.3,\"#f1b6da\"],[0.4,\"#fde0ef\"],[0.5,\"#f7f7f7\"],[0.6,\"#e6f5d0\"],[0.7,\"#b8e186\"],[0.8,\"#7fbc41\"],[0.9,\"#4d9221\"],[1,\"#276419\"]]},\"xaxis\":{\"gridcolor\":\"white\",\"linecolor\":\"white\",\"ticks\":\"\",\"title\":{\"standoff\":15},\"zerolinecolor\":\"white\",\"automargin\":true,\"zerolinewidth\":2},\"yaxis\":{\"gridcolor\":\"white\",\"linecolor\":\"white\",\"ticks\":\"\",\"title\":{\"standoff\":15},\"zerolinecolor\":\"white\",\"automargin\":true,\"zerolinewidth\":2},\"scene\":{\"xaxis\":{\"backgroundcolor\":\"#E5ECF6\",\"gridcolor\":\"white\",\"linecolor\":\"white\",\"showbackground\":true,\"ticks\":\"\",\"zerolinecolor\":\"white\",\"gridwidth\":2},\"yaxis\":{\"backgroundcolor\":\"#E5ECF6\",\"gridcolor\":\"white\",\"linecolor\":\"white\",\"showbackground\":true,\"ticks\":\"\",\"zerolinecolor\":\"white\",\"gridwidth\":2},\"zaxis\":{\"backgroundcolor\":\"#E5ECF6\",\"gridcolor\":\"white\",\"linecolor\":\"white\",\"showbackground\":true,\"ticks\":\"\",\"zerolinecolor\":\"white\",\"gridwidth\":2}},\"shapedefaults\":{\"line\":{\"color\":\"#2a3f5f\"}},\"annotationdefaults\":{\"arrowcolor\":\"#2a3f5f\",\"arrowhead\":0,\"arrowwidth\":1},\"geo\":{\"bgcolor\":\"white\",\"landcolor\":\"#E5ECF6\",\"subunitcolor\":\"white\",\"showland\":true,\"showlakes\":true,\"lakecolor\":\"white\"},\"title\":{\"x\":0.05},\"mapbox\":{\"style\":\"light\"}}},\"font\":{\"family\":\"Courier New, monospace\",\"size\":18,\"color\":\"RebeccaPurple\"},\"title\":{\"text\":\"Model Accuracy\"},\"xaxis\":{\"title\":{\"text\":\"Epoch\"}},\"yaxis\":{\"title\":{\"text\":\"Accuracy\"}},\"legend\":{\"title\":{\"text\":\"Accuracy vs Epochs\"}}},                        {\"responsive\": true}                    ).then(function(){\n",
       "                            \n",
       "var gd = document.getElementById('7c607936-cff5-401b-8263-bc09d50b585c');\n",
       "var x = new MutationObserver(function (mutations, observer) {{\n",
       "        var display = window.getComputedStyle(gd).display;\n",
       "        if (!display || display === 'none') {{\n",
       "            console.log([gd, 'removed!']);\n",
       "            Plotly.purge(gd);\n",
       "            observer.disconnect();\n",
       "        }}\n",
       "}});\n",
       "\n",
       "// Listen for the removal of the full notebook cells\n",
       "var notebookContainer = gd.closest('#notebook-container');\n",
       "if (notebookContainer) {{\n",
       "    x.observe(notebookContainer, {childList: true});\n",
       "}}\n",
       "\n",
       "// Listen for the clearing of the current output cell\n",
       "var outputEl = gd.closest('.output');\n",
       "if (outputEl) {{\n",
       "    x.observe(outputEl, {childList: true});\n",
       "}}\n",
       "\n",
       "                        })                };                });            </script>        </div>"
      ]
     },
     "metadata": {},
     "output_type": "display_data"
    }
   ],
   "source": [
    "fig = go.Figure()\n",
    "\n",
    "fig.add_trace(go.Scatter(\n",
    "    x=epochs,\n",
    "    y=val_accuracy,\n",
    "    name=\"Training\"       # this sets its legend entry\n",
    "))\n",
    "\n",
    "\n",
    "fig.add_trace(go.Scatter(\n",
    "    x=epochs,\n",
    "    y=accuracy,\n",
    "    name=\"Validation\"\n",
    "))\n",
    "\n",
    "fig.update_layout(\n",
    "    title=\"Model Accuracy\",\n",
    "    xaxis_title=\"Epoch\",\n",
    "    yaxis_title=\"Accuracy\",\n",
    "    legend_title=\"Accuracy vs Epochs\",\n",
    "    font=dict(\n",
    "        family=\"Courier New, monospace\",\n",
    "        size=18,\n",
    "        color=\"RebeccaPurple\"\n",
    "    )\n",
    ")\n",
    "\n",
    "fig.show()"
   ]
  },
  {
   "cell_type": "code",
   "execution_count": 31,
   "id": "a0770ce0",
   "metadata": {
    "execution": {
     "iopub.execute_input": "2022-04-26T03:52:00.755894Z",
     "iopub.status.busy": "2022-04-26T03:52:00.754926Z",
     "iopub.status.idle": "2022-04-26T03:52:00.775785Z",
     "shell.execute_reply": "2022-04-26T03:52:00.775010Z"
    },
    "papermill": {
     "duration": 9.568025,
     "end_time": "2022-04-26T03:52:00.777752",
     "exception": false,
     "start_time": "2022-04-26T03:51:51.209727",
     "status": "completed"
    },
    "tags": []
   },
   "outputs": [
    {
     "data": {
      "text/html": [
       "<div>                            <div id=\"4642bba8-00b0-4664-978d-2e89d806eeec\" class=\"plotly-graph-div\" style=\"height:525px; width:100%;\"></div>            <script type=\"text/javascript\">                require([\"plotly\"], function(Plotly) {                    window.PLOTLYENV=window.PLOTLYENV || {};                                    if (document.getElementById(\"4642bba8-00b0-4664-978d-2e89d806eeec\")) {                    Plotly.newPlot(                        \"4642bba8-00b0-4664-978d-2e89d806eeec\",                        [{\"name\":\"Training\",\"x\":[1,2,3,4,5,6,7,8,9,10,11,12,13,14,15,16,17,18,19,20,21,22,23,24,25,26,27,28,29,30,31,32,33,34,35,36,37,38,39,40,41,42,43,44,45,46,47,48,49,50,51,52,53,54,55,56,57,58,59,60,61,62,63,64,65,66,67,68,69,70,71,72,73,74],\"y\":[1.9672397375106812,1.0136792659759521,0.8403577208518982,0.7588271498680115,0.7041072249412537,0.6696178913116455,0.6307840943336487,0.6062602400779724,0.5865827202796936,0.5687344670295715,0.5536831617355347,0.5366915464401245,0.5268679261207581,0.5185725688934326,0.50531005859375,0.4973510801792145,0.48631685972213745,0.47986865043640137,0.4690426290035248,0.4638679623603821,0.45475462079048157,0.4506750702857971,0.43996092677116394,0.43560507893562317,0.43011969327926636,0.4242817163467407,0.4188312888145447,0.41391077637672424,0.40874481201171875,0.40585625171661377,0.39703670144081116,0.3942332863807678,0.39368894696235657,0.3897196054458618,0.38490888476371765,0.37654832005500793,0.37619319558143616,0.37171950936317444,0.3714781105518341,0.36493372917175293,0.364286869764328,0.359968364238739,0.35748475790023804,0.353971928358078,0.3542744517326355,0.35141104459762573,0.3471052944660187,0.34262746572494507,0.34415218234062195,0.33823204040527344,0.33564111590385437,0.3352772295475006,0.33338889479637146,0.332190603017807,0.32770073413848877,0.32688096165657043,0.32514509558677673,0.3240973949432373,0.32322660088539124,0.3184085786342621,0.3187074065208435,0.31659838557243347,0.31418147683143616,0.313992440700531,0.3122952878475189,0.30708444118499756,0.3054000735282898,0.3074439465999603,0.30601218342781067,0.30330920219421387,0.30275654792785645,0.30351880192756653,0.29674002528190613,0.30011236667633057],\"type\":\"scatter\"},{\"name\":\"Validation\",\"x\":[1,2,3,4,5,6,7,8,9,10,11,12,13,14,15,16,17,18,19,20,21,22,23,24,25,26,27,28,29,30,31,32,33,34,35,36,37,38,39,40,41,42,43,44,45,46,47,48,49,50,51,52,53,54,55,56,57,58,59,60,61,62,63,64,65,66,67,68,69,70,71,72,73,74],\"y\":[0.6470375657081604,0.5092443823814392,0.46639755368232727,0.4239594638347626,0.435992032289505,0.39923733472824097,0.39428430795669556,0.3752612769603729,0.36893972754478455,0.36793047189712524,0.36058709025382996,0.3555455803871155,0.35339516401290894,0.34925657510757446,0.3548537790775299,0.35199466347694397,0.34493470191955566,0.3435822129249573,0.34224241971969604,0.33980920910835266,0.3384276330471039,0.3395291864871979,0.34461575746536255,0.33485689759254456,0.34354114532470703,0.3372066617012024,0.3352598547935486,0.3441328704357147,0.33856892585754395,0.34140074253082275,0.3371458649635315,0.33963069319725037,0.340377539396286,0.34225544333457947,0.34220486879348755,0.34060072898864746,0.34840744733810425,0.3457942605018616,0.3510480225086212,0.3450554311275482,0.3481559157371521,0.3512272536754608,0.35422199964523315,0.3545239269733429,0.3523722290992737,0.34736716747283936,0.3551073670387268,0.35607361793518066,0.35934603214263916,0.35338538885116577,0.3624243438243866,0.35878273844718933,0.36628299951553345,0.36093419790267944,0.36266443133354187,0.3722448945045471,0.36946454644203186,0.37352749705314636,0.36928191781044006,0.3661903738975525,0.3729744851589203,0.3704175055027008,0.3795316517353058,0.39432573318481445,0.3770018517971039,0.37967419624328613,0.38699769973754883,0.38086801767349243,0.38359352946281433,0.3891218602657318,0.39645442366600037,0.39194443821907043,0.4015713632106781,0.39671993255615234],\"type\":\"scatter\"}],                        {\"template\":{\"data\":{\"histogram2dcontour\":[{\"type\":\"histogram2dcontour\",\"colorbar\":{\"outlinewidth\":0,\"ticks\":\"\"},\"colorscale\":[[0.0,\"#0d0887\"],[0.1111111111111111,\"#46039f\"],[0.2222222222222222,\"#7201a8\"],[0.3333333333333333,\"#9c179e\"],[0.4444444444444444,\"#bd3786\"],[0.5555555555555556,\"#d8576b\"],[0.6666666666666666,\"#ed7953\"],[0.7777777777777778,\"#fb9f3a\"],[0.8888888888888888,\"#fdca26\"],[1.0,\"#f0f921\"]]}],\"choropleth\":[{\"type\":\"choropleth\",\"colorbar\":{\"outlinewidth\":0,\"ticks\":\"\"}}],\"histogram2d\":[{\"type\":\"histogram2d\",\"colorbar\":{\"outlinewidth\":0,\"ticks\":\"\"},\"colorscale\":[[0.0,\"#0d0887\"],[0.1111111111111111,\"#46039f\"],[0.2222222222222222,\"#7201a8\"],[0.3333333333333333,\"#9c179e\"],[0.4444444444444444,\"#bd3786\"],[0.5555555555555556,\"#d8576b\"],[0.6666666666666666,\"#ed7953\"],[0.7777777777777778,\"#fb9f3a\"],[0.8888888888888888,\"#fdca26\"],[1.0,\"#f0f921\"]]}],\"heatmap\":[{\"type\":\"heatmap\",\"colorbar\":{\"outlinewidth\":0,\"ticks\":\"\"},\"colorscale\":[[0.0,\"#0d0887\"],[0.1111111111111111,\"#46039f\"],[0.2222222222222222,\"#7201a8\"],[0.3333333333333333,\"#9c179e\"],[0.4444444444444444,\"#bd3786\"],[0.5555555555555556,\"#d8576b\"],[0.6666666666666666,\"#ed7953\"],[0.7777777777777778,\"#fb9f3a\"],[0.8888888888888888,\"#fdca26\"],[1.0,\"#f0f921\"]]}],\"heatmapgl\":[{\"type\":\"heatmapgl\",\"colorbar\":{\"outlinewidth\":0,\"ticks\":\"\"},\"colorscale\":[[0.0,\"#0d0887\"],[0.1111111111111111,\"#46039f\"],[0.2222222222222222,\"#7201a8\"],[0.3333333333333333,\"#9c179e\"],[0.4444444444444444,\"#bd3786\"],[0.5555555555555556,\"#d8576b\"],[0.6666666666666666,\"#ed7953\"],[0.7777777777777778,\"#fb9f3a\"],[0.8888888888888888,\"#fdca26\"],[1.0,\"#f0f921\"]]}],\"contourcarpet\":[{\"type\":\"contourcarpet\",\"colorbar\":{\"outlinewidth\":0,\"ticks\":\"\"}}],\"contour\":[{\"type\":\"contour\",\"colorbar\":{\"outlinewidth\":0,\"ticks\":\"\"},\"colorscale\":[[0.0,\"#0d0887\"],[0.1111111111111111,\"#46039f\"],[0.2222222222222222,\"#7201a8\"],[0.3333333333333333,\"#9c179e\"],[0.4444444444444444,\"#bd3786\"],[0.5555555555555556,\"#d8576b\"],[0.6666666666666666,\"#ed7953\"],[0.7777777777777778,\"#fb9f3a\"],[0.8888888888888888,\"#fdca26\"],[1.0,\"#f0f921\"]]}],\"surface\":[{\"type\":\"surface\",\"colorbar\":{\"outlinewidth\":0,\"ticks\":\"\"},\"colorscale\":[[0.0,\"#0d0887\"],[0.1111111111111111,\"#46039f\"],[0.2222222222222222,\"#7201a8\"],[0.3333333333333333,\"#9c179e\"],[0.4444444444444444,\"#bd3786\"],[0.5555555555555556,\"#d8576b\"],[0.6666666666666666,\"#ed7953\"],[0.7777777777777778,\"#fb9f3a\"],[0.8888888888888888,\"#fdca26\"],[1.0,\"#f0f921\"]]}],\"mesh3d\":[{\"type\":\"mesh3d\",\"colorbar\":{\"outlinewidth\":0,\"ticks\":\"\"}}],\"scatter\":[{\"fillpattern\":{\"fillmode\":\"overlay\",\"size\":10,\"solidity\":0.2},\"type\":\"scatter\"}],\"parcoords\":[{\"type\":\"parcoords\",\"line\":{\"colorbar\":{\"outlinewidth\":0,\"ticks\":\"\"}}}],\"scatterpolargl\":[{\"type\":\"scatterpolargl\",\"marker\":{\"colorbar\":{\"outlinewidth\":0,\"ticks\":\"\"}}}],\"bar\":[{\"error_x\":{\"color\":\"#2a3f5f\"},\"error_y\":{\"color\":\"#2a3f5f\"},\"marker\":{\"line\":{\"color\":\"#E5ECF6\",\"width\":0.5},\"pattern\":{\"fillmode\":\"overlay\",\"size\":10,\"solidity\":0.2}},\"type\":\"bar\"}],\"scattergeo\":[{\"type\":\"scattergeo\",\"marker\":{\"colorbar\":{\"outlinewidth\":0,\"ticks\":\"\"}}}],\"scatterpolar\":[{\"type\":\"scatterpolar\",\"marker\":{\"colorbar\":{\"outlinewidth\":0,\"ticks\":\"\"}}}],\"histogram\":[{\"marker\":{\"pattern\":{\"fillmode\":\"overlay\",\"size\":10,\"solidity\":0.2}},\"type\":\"histogram\"}],\"scattergl\":[{\"type\":\"scattergl\",\"marker\":{\"colorbar\":{\"outlinewidth\":0,\"ticks\":\"\"}}}],\"scatter3d\":[{\"type\":\"scatter3d\",\"line\":{\"colorbar\":{\"outlinewidth\":0,\"ticks\":\"\"}},\"marker\":{\"colorbar\":{\"outlinewidth\":0,\"ticks\":\"\"}}}],\"scattermapbox\":[{\"type\":\"scattermapbox\",\"marker\":{\"colorbar\":{\"outlinewidth\":0,\"ticks\":\"\"}}}],\"scatterternary\":[{\"type\":\"scatterternary\",\"marker\":{\"colorbar\":{\"outlinewidth\":0,\"ticks\":\"\"}}}],\"scattercarpet\":[{\"type\":\"scattercarpet\",\"marker\":{\"colorbar\":{\"outlinewidth\":0,\"ticks\":\"\"}}}],\"carpet\":[{\"aaxis\":{\"endlinecolor\":\"#2a3f5f\",\"gridcolor\":\"white\",\"linecolor\":\"white\",\"minorgridcolor\":\"white\",\"startlinecolor\":\"#2a3f5f\"},\"baxis\":{\"endlinecolor\":\"#2a3f5f\",\"gridcolor\":\"white\",\"linecolor\":\"white\",\"minorgridcolor\":\"white\",\"startlinecolor\":\"#2a3f5f\"},\"type\":\"carpet\"}],\"table\":[{\"cells\":{\"fill\":{\"color\":\"#EBF0F8\"},\"line\":{\"color\":\"white\"}},\"header\":{\"fill\":{\"color\":\"#C8D4E3\"},\"line\":{\"color\":\"white\"}},\"type\":\"table\"}],\"barpolar\":[{\"marker\":{\"line\":{\"color\":\"#E5ECF6\",\"width\":0.5},\"pattern\":{\"fillmode\":\"overlay\",\"size\":10,\"solidity\":0.2}},\"type\":\"barpolar\"}],\"pie\":[{\"automargin\":true,\"type\":\"pie\"}]},\"layout\":{\"autotypenumbers\":\"strict\",\"colorway\":[\"#636efa\",\"#EF553B\",\"#00cc96\",\"#ab63fa\",\"#FFA15A\",\"#19d3f3\",\"#FF6692\",\"#B6E880\",\"#FF97FF\",\"#FECB52\"],\"font\":{\"color\":\"#2a3f5f\"},\"hovermode\":\"closest\",\"hoverlabel\":{\"align\":\"left\"},\"paper_bgcolor\":\"white\",\"plot_bgcolor\":\"#E5ECF6\",\"polar\":{\"bgcolor\":\"#E5ECF6\",\"angularaxis\":{\"gridcolor\":\"white\",\"linecolor\":\"white\",\"ticks\":\"\"},\"radialaxis\":{\"gridcolor\":\"white\",\"linecolor\":\"white\",\"ticks\":\"\"}},\"ternary\":{\"bgcolor\":\"#E5ECF6\",\"aaxis\":{\"gridcolor\":\"white\",\"linecolor\":\"white\",\"ticks\":\"\"},\"baxis\":{\"gridcolor\":\"white\",\"linecolor\":\"white\",\"ticks\":\"\"},\"caxis\":{\"gridcolor\":\"white\",\"linecolor\":\"white\",\"ticks\":\"\"}},\"coloraxis\":{\"colorbar\":{\"outlinewidth\":0,\"ticks\":\"\"}},\"colorscale\":{\"sequential\":[[0.0,\"#0d0887\"],[0.1111111111111111,\"#46039f\"],[0.2222222222222222,\"#7201a8\"],[0.3333333333333333,\"#9c179e\"],[0.4444444444444444,\"#bd3786\"],[0.5555555555555556,\"#d8576b\"],[0.6666666666666666,\"#ed7953\"],[0.7777777777777778,\"#fb9f3a\"],[0.8888888888888888,\"#fdca26\"],[1.0,\"#f0f921\"]],\"sequentialminus\":[[0.0,\"#0d0887\"],[0.1111111111111111,\"#46039f\"],[0.2222222222222222,\"#7201a8\"],[0.3333333333333333,\"#9c179e\"],[0.4444444444444444,\"#bd3786\"],[0.5555555555555556,\"#d8576b\"],[0.6666666666666666,\"#ed7953\"],[0.7777777777777778,\"#fb9f3a\"],[0.8888888888888888,\"#fdca26\"],[1.0,\"#f0f921\"]],\"diverging\":[[0,\"#8e0152\"],[0.1,\"#c51b7d\"],[0.2,\"#de77ae\"],[0.3,\"#f1b6da\"],[0.4,\"#fde0ef\"],[0.5,\"#f7f7f7\"],[0.6,\"#e6f5d0\"],[0.7,\"#b8e186\"],[0.8,\"#7fbc41\"],[0.9,\"#4d9221\"],[1,\"#276419\"]]},\"xaxis\":{\"gridcolor\":\"white\",\"linecolor\":\"white\",\"ticks\":\"\",\"title\":{\"standoff\":15},\"zerolinecolor\":\"white\",\"automargin\":true,\"zerolinewidth\":2},\"yaxis\":{\"gridcolor\":\"white\",\"linecolor\":\"white\",\"ticks\":\"\",\"title\":{\"standoff\":15},\"zerolinecolor\":\"white\",\"automargin\":true,\"zerolinewidth\":2},\"scene\":{\"xaxis\":{\"backgroundcolor\":\"#E5ECF6\",\"gridcolor\":\"white\",\"linecolor\":\"white\",\"showbackground\":true,\"ticks\":\"\",\"zerolinecolor\":\"white\",\"gridwidth\":2},\"yaxis\":{\"backgroundcolor\":\"#E5ECF6\",\"gridcolor\":\"white\",\"linecolor\":\"white\",\"showbackground\":true,\"ticks\":\"\",\"zerolinecolor\":\"white\",\"gridwidth\":2},\"zaxis\":{\"backgroundcolor\":\"#E5ECF6\",\"gridcolor\":\"white\",\"linecolor\":\"white\",\"showbackground\":true,\"ticks\":\"\",\"zerolinecolor\":\"white\",\"gridwidth\":2}},\"shapedefaults\":{\"line\":{\"color\":\"#2a3f5f\"}},\"annotationdefaults\":{\"arrowcolor\":\"#2a3f5f\",\"arrowhead\":0,\"arrowwidth\":1},\"geo\":{\"bgcolor\":\"white\",\"landcolor\":\"#E5ECF6\",\"subunitcolor\":\"white\",\"showland\":true,\"showlakes\":true,\"lakecolor\":\"white\"},\"title\":{\"x\":0.05},\"mapbox\":{\"style\":\"light\"}}},\"font\":{\"family\":\"Courier New, monospace\",\"size\":18,\"color\":\"RebeccaPurple\"},\"title\":{\"text\":\"Model Loss\"},\"xaxis\":{\"title\":{\"text\":\"Epoch\"}},\"yaxis\":{\"title\":{\"text\":\"Loss\"}},\"legend\":{\"title\":{\"text\":\"Loss vs Epochs\"}}},                        {\"responsive\": true}                    ).then(function(){\n",
       "                            \n",
       "var gd = document.getElementById('4642bba8-00b0-4664-978d-2e89d806eeec');\n",
       "var x = new MutationObserver(function (mutations, observer) {{\n",
       "        var display = window.getComputedStyle(gd).display;\n",
       "        if (!display || display === 'none') {{\n",
       "            console.log([gd, 'removed!']);\n",
       "            Plotly.purge(gd);\n",
       "            observer.disconnect();\n",
       "        }}\n",
       "}});\n",
       "\n",
       "// Listen for the removal of the full notebook cells\n",
       "var notebookContainer = gd.closest('#notebook-container');\n",
       "if (notebookContainer) {{\n",
       "    x.observe(notebookContainer, {childList: true});\n",
       "}}\n",
       "\n",
       "// Listen for the clearing of the current output cell\n",
       "var outputEl = gd.closest('.output');\n",
       "if (outputEl) {{\n",
       "    x.observe(outputEl, {childList: true});\n",
       "}}\n",
       "\n",
       "                        })                };                });            </script>        </div>"
      ]
     },
     "metadata": {},
     "output_type": "display_data"
    }
   ],
   "source": [
    "fig = go.Figure()\n",
    "\n",
    "fig.add_trace(go.Scatter(\n",
    "    x=epochs,\n",
    "    y=loss,\n",
    "    name=\"Training\"       # this sets its legend entry\n",
    "))\n",
    "\n",
    "\n",
    "fig.add_trace(go.Scatter(\n",
    "    x=epochs,\n",
    "    y=val_loss,\n",
    "    name=\"Validation\"\n",
    "))\n",
    "\n",
    "fig.update_layout(\n",
    "    title=\"Model Loss\",\n",
    "    xaxis_title=\"Epoch\",\n",
    "    yaxis_title=\"Loss\",\n",
    "    legend_title=\"Loss vs Epochs\",\n",
    "    font=dict(\n",
    "        family=\"Courier New, monospace\",\n",
    "        size=18,\n",
    "        color=\"RebeccaPurple\"\n",
    "    )\n",
    ")\n",
    "\n",
    "fig.show()"
   ]
  },
  {
   "cell_type": "code",
   "execution_count": 32,
   "id": "a1cf1cf2",
   "metadata": {
    "execution": {
     "iopub.execute_input": "2022-04-26T03:52:19.952913Z",
     "iopub.status.busy": "2022-04-26T03:52:19.952649Z",
     "iopub.status.idle": "2022-04-26T03:52:23.283680Z",
     "shell.execute_reply": "2022-04-26T03:52:23.282759Z"
    },
    "papermill": {
     "duration": 12.907713,
     "end_time": "2022-04-26T03:52:23.285906",
     "exception": false,
     "start_time": "2022-04-26T03:52:10.378193",
     "status": "completed"
    },
    "tags": []
   },
   "outputs": [
    {
     "name": "stdout",
     "output_type": "stream",
     "text": [
      "Score: loss of 0.4361; accuracy of 87.7387%\n"
     ]
    }
   ],
   "source": [
    "# Evaluate model\n",
    "scores = model.evaluate(test_x, test_y, verbose=0)\n",
    "print(f'Score: {model.metrics_names[0]} of {round(scores[0], 4)}; '\n",
    "      f'{model.metrics_names[1]} of {round((scores[1]*100), 4)}%')"
   ]
  },
  {
   "cell_type": "code",
   "execution_count": 33,
   "id": "fc624403",
   "metadata": {
    "execution": {
     "iopub.execute_input": "2022-04-26T03:52:42.494094Z",
     "iopub.status.busy": "2022-04-26T03:52:42.493828Z",
     "iopub.status.idle": "2022-04-26T03:52:45.858741Z",
     "shell.execute_reply": "2022-04-26T03:52:45.857816Z"
    },
    "papermill": {
     "duration": 12.868152,
     "end_time": "2022-04-26T03:52:45.861237",
     "exception": false,
     "start_time": "2022-04-26T03:52:32.993085",
     "status": "completed"
    },
    "tags": []
   },
   "outputs": [],
   "source": [
    "y_pred = model.predict(test_x)"
   ]
  },
  {
   "cell_type": "code",
   "execution_count": 34,
   "id": "c92783f2",
   "metadata": {
    "execution": {
     "iopub.execute_input": "2022-04-26T03:53:05.143533Z",
     "iopub.status.busy": "2022-04-26T03:53:05.143220Z",
     "iopub.status.idle": "2022-04-26T03:53:05.163725Z",
     "shell.execute_reply": "2022-04-26T03:53:05.162926Z"
    },
    "papermill": {
     "duration": 9.658929,
     "end_time": "2022-04-26T03:53:05.165610",
     "exception": false,
     "start_time": "2022-04-26T03:52:55.506681",
     "status": "completed"
    },
    "tags": []
   },
   "outputs": [
    {
     "data": {
      "text/plain": [
       "array([[245,   0,   0, ...,   0,   0,   0],\n",
       "       [  0, 273,   0, ...,   0,   1,   0],\n",
       "       [  0,   0, 340, ...,   1,   0,   0],\n",
       "       ...,\n",
       "       [  0,   0,   0, ..., 245,   0,   0],\n",
       "       [  0,   0,   0, ...,   0, 381,   1],\n",
       "       [  0,   0,   0, ...,   0,   4, 363]])"
      ]
     },
     "execution_count": 34,
     "metadata": {},
     "output_type": "execute_result"
    }
   ],
   "source": [
    "# Confusion matrix (scikit-learn)\n",
    "cm = metrics.confusion_matrix(test_y.argmax(axis=1), y_pred.argmax(axis=1))\n",
    "cm"
   ]
  },
  {
   "cell_type": "code",
   "execution_count": 35,
   "id": "1bda911d",
   "metadata": {
    "execution": {
     "iopub.execute_input": "2022-04-26T03:53:24.434698Z",
     "iopub.status.busy": "2022-04-26T03:53:24.434394Z",
     "iopub.status.idle": "2022-04-26T03:53:24.550769Z",
     "shell.execute_reply": "2022-04-26T03:53:24.550135Z"
    },
    "papermill": {
     "duration": 9.682132,
     "end_time": "2022-04-26T03:53:24.552904",
     "exception": false,
     "start_time": "2022-04-26T03:53:14.870772",
     "status": "completed"
    },
    "tags": []
   },
   "outputs": [],
   "source": [
    "from tensorflow.keras.models import load_model\n",
    "saved_model = load_model(\"best_model_cnn_emnist.h5\")"
   ]
  },
  {
   "cell_type": "code",
   "execution_count": 36,
   "id": "d6a0b1ea",
   "metadata": {
    "execution": {
     "iopub.execute_input": "2022-04-26T03:53:43.847492Z",
     "iopub.status.busy": "2022-04-26T03:53:43.847166Z",
     "iopub.status.idle": "2022-04-26T03:53:47.590992Z",
     "shell.execute_reply": "2022-04-26T03:53:47.589995Z"
    },
    "papermill": {
     "duration": 13.340714,
     "end_time": "2022-04-26T03:53:47.593114",
     "exception": false,
     "start_time": "2022-04-26T03:53:34.252400",
     "status": "completed"
    },
    "tags": []
   },
   "outputs": [
    {
     "name": "stdout",
     "output_type": "stream",
     "text": [
      "588/588 [==============================] - 4s 6ms/step - loss: 0.3666 - accuracy: 0.8795\n",
      "Score: loss of 0.3666; accuracy of 87.9462%\n"
     ]
    }
   ],
   "source": [
    "# Evaluate the saved model\n",
    "scores = saved_model.evaluate(test_x, test_y, verbose = 1)\n",
    "print(f'Score: {saved_model.metrics_names[0]} of {round(scores[0], 4)}; '\n",
    "      f'{saved_model.metrics_names[1]} of {round((scores[1]*100), 4)}%')"
   ]
  }
 ],
 "metadata": {
  "kernelspec": {
   "display_name": "Python 3 (ipykernel)",
   "language": "python",
   "name": "python3"
  },
  "language_info": {
   "codemirror_mode": {
    "name": "ipython",
    "version": 3
   },
   "file_extension": ".py",
   "mimetype": "text/x-python",
   "name": "python",
   "nbconvert_exporter": "python",
   "pygments_lexer": "ipython3",
   "version": "3.8.8"
  },
  "papermill": {
   "default_parameters": {},
   "duration": 3242.938351,
   "end_time": "2022-04-26T03:54:00.020331",
   "environment_variables": {},
   "exception": null,
   "input_path": "__notebook__.ipynb",
   "output_path": "__notebook__.ipynb",
   "parameters": {},
   "start_time": "2022-04-26T02:59:57.081980",
   "version": "2.3.4"
  }
 },
 "nbformat": 4,
 "nbformat_minor": 5
}
