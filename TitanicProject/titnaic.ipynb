{
 "cells": [
  {
   "cell_type": "code",
   "execution_count": 1,
   "id": "c9f18577",
   "metadata": {},
   "outputs": [],
   "source": [
    "# Titanic Project"
   ]
  },
  {
   "cell_type": "code",
   "execution_count": 2,
   "id": "b9389238",
   "metadata": {},
   "outputs": [],
   "source": [
    "# Import Libraries "
   ]
  },
  {
   "cell_type": "code",
   "execution_count": 60,
   "id": "e953b9f1",
   "metadata": {},
   "outputs": [],
   "source": [
    "import numpy as np\n",
    "import pandas as pd\n",
    "import warnings\n",
    "\n",
    "import matplotlib.pyplot as plt\n",
    "import pandas as pd\n",
    "import seaborn as sns\n",
    "import scipy.stats as stats \n",
    "from sklearn import linear_model\n",
    "from sklearn.compose import ColumnTransformer\n",
    "from sklearn.ensemble import RandomForestClassifier\n",
    "from sklearn.linear_model import LogisticRegression, Perceptron\n",
    "from sklearn.model_selection import cross_val_score, cross_val_predict\n",
    "from sklearn.naive_bayes import GaussianNB\n",
    "from sklearn.neighbors import KNeighborsClassifier\n",
    "from sklearn.preprocessing import OrdinalEncoder\n",
    "from sklearn.preprocessing import StandardScaler\n",
    "from sklearn.svm import LinearSVC\n",
    "from sklearn.tree import DecisionTreeClassifier\n",
    "from tabulate import tabulate\n",
    "\n",
    "from sklearn.model_selection import GridSearchCV\n",
    "from sklearn.metrics import classification_report\n",
    "from sklearn.metrics import confusion_matrix\n",
    "%matplotlib inline\n"
   ]
  },
  {
   "cell_type": "code",
   "execution_count": 3,
   "id": "fd0afbc8",
   "metadata": {},
   "outputs": [],
   "source": [
    "def outliers(df, dt):\n",
    "    sorted(df[dt])\n",
    "    Q1 = df[dt].quantile(0.25)\n",
    "    Q3 = df[dt].quantile(0.75)\n",
    "    IQR = Q3 - Q1\n",
    "    print(\"Column:\", dt)\n",
    "    print(\"Old Shape\", df.shape)\n",
    "    upper_val = (Q3 + (1.5 * IQR))\n",
    "    lower_val = Q1 - (1.5 * IQR)\n",
    "    count = len(df[(df[dt] > upper_val) | (df[dt] < lower_val)])\n",
    "    df.drop(df[(df[dt] > upper_val) | (df[dt] < lower_val)].index, inplace=True)\n",
    "    print(\"New Shape\", df.shape)\n",
    "    print(\"Count of Item Removed:\", count)\n",
    "    print(\"Outliers ratio:\", count / len(df[dt]))\n",
    "\n",
    "\n",
    "def null_values(df):\n",
    "    null_value = df.isnull().sum().sort_values(ascending=False)\n",
    "    percent_1 = df.isnull().sum() / df.isnull().count() * 100\n",
    "    percent_2 = (round(percent_1, 1)).sort_values(ascending=False)\n",
    "    missing_data = pd.concat([null_value, percent_2], axis=1, keys=['Total', '%'])\n",
    "    print(missing_data)\n"
   ]
  },
  {
   "cell_type": "code",
   "execution_count": 4,
   "id": "ac6fbf91",
   "metadata": {},
   "outputs": [],
   "source": [
    "train_data = pd.read_csv(\"dataset/titanic_train.csv\")\n",
    "test_data = pd.read_csv(\"dataset/titanic_test.csv\")"
   ]
  },
  {
   "cell_type": "code",
   "execution_count": 5,
   "id": "20a304fe",
   "metadata": {},
   "outputs": [
    {
     "data": {
      "text/html": [
       "<div>\n",
       "<style scoped>\n",
       "    .dataframe tbody tr th:only-of-type {\n",
       "        vertical-align: middle;\n",
       "    }\n",
       "\n",
       "    .dataframe tbody tr th {\n",
       "        vertical-align: top;\n",
       "    }\n",
       "\n",
       "    .dataframe thead th {\n",
       "        text-align: right;\n",
       "    }\n",
       "</style>\n",
       "<table border=\"1\" class=\"dataframe\">\n",
       "  <thead>\n",
       "    <tr style=\"text-align: right;\">\n",
       "      <th></th>\n",
       "      <th>PassengerId</th>\n",
       "      <th>Survived</th>\n",
       "      <th>Pclass</th>\n",
       "      <th>Name</th>\n",
       "      <th>Sex</th>\n",
       "      <th>Age</th>\n",
       "      <th>SibSp</th>\n",
       "      <th>Parch</th>\n",
       "      <th>Ticket</th>\n",
       "      <th>Fare</th>\n",
       "      <th>Cabin</th>\n",
       "      <th>Embarked</th>\n",
       "    </tr>\n",
       "  </thead>\n",
       "  <tbody>\n",
       "    <tr>\n",
       "      <th>0</th>\n",
       "      <td>1</td>\n",
       "      <td>0</td>\n",
       "      <td>3</td>\n",
       "      <td>Braund, Mr. Owen Harris</td>\n",
       "      <td>male</td>\n",
       "      <td>22.0</td>\n",
       "      <td>1</td>\n",
       "      <td>0</td>\n",
       "      <td>A/5 21171</td>\n",
       "      <td>7.2500</td>\n",
       "      <td>NaN</td>\n",
       "      <td>S</td>\n",
       "    </tr>\n",
       "    <tr>\n",
       "      <th>1</th>\n",
       "      <td>2</td>\n",
       "      <td>1</td>\n",
       "      <td>1</td>\n",
       "      <td>Cumings, Mrs. John Bradley (Florence Briggs Th...</td>\n",
       "      <td>female</td>\n",
       "      <td>38.0</td>\n",
       "      <td>1</td>\n",
       "      <td>0</td>\n",
       "      <td>PC 17599</td>\n",
       "      <td>71.2833</td>\n",
       "      <td>C85</td>\n",
       "      <td>C</td>\n",
       "    </tr>\n",
       "    <tr>\n",
       "      <th>2</th>\n",
       "      <td>3</td>\n",
       "      <td>1</td>\n",
       "      <td>3</td>\n",
       "      <td>Heikkinen, Miss. Laina</td>\n",
       "      <td>female</td>\n",
       "      <td>26.0</td>\n",
       "      <td>0</td>\n",
       "      <td>0</td>\n",
       "      <td>STON/O2. 3101282</td>\n",
       "      <td>7.9250</td>\n",
       "      <td>NaN</td>\n",
       "      <td>S</td>\n",
       "    </tr>\n",
       "    <tr>\n",
       "      <th>3</th>\n",
       "      <td>4</td>\n",
       "      <td>1</td>\n",
       "      <td>1</td>\n",
       "      <td>Futrelle, Mrs. Jacques Heath (Lily May Peel)</td>\n",
       "      <td>female</td>\n",
       "      <td>35.0</td>\n",
       "      <td>1</td>\n",
       "      <td>0</td>\n",
       "      <td>113803</td>\n",
       "      <td>53.1000</td>\n",
       "      <td>C123</td>\n",
       "      <td>S</td>\n",
       "    </tr>\n",
       "    <tr>\n",
       "      <th>4</th>\n",
       "      <td>5</td>\n",
       "      <td>0</td>\n",
       "      <td>3</td>\n",
       "      <td>Allen, Mr. William Henry</td>\n",
       "      <td>male</td>\n",
       "      <td>35.0</td>\n",
       "      <td>0</td>\n",
       "      <td>0</td>\n",
       "      <td>373450</td>\n",
       "      <td>8.0500</td>\n",
       "      <td>NaN</td>\n",
       "      <td>S</td>\n",
       "    </tr>\n",
       "  </tbody>\n",
       "</table>\n",
       "</div>"
      ],
      "text/plain": [
       "   PassengerId  Survived  Pclass  \\\n",
       "0            1         0       3   \n",
       "1            2         1       1   \n",
       "2            3         1       3   \n",
       "3            4         1       1   \n",
       "4            5         0       3   \n",
       "\n",
       "                                                Name     Sex   Age  SibSp  \\\n",
       "0                            Braund, Mr. Owen Harris    male  22.0      1   \n",
       "1  Cumings, Mrs. John Bradley (Florence Briggs Th...  female  38.0      1   \n",
       "2                             Heikkinen, Miss. Laina  female  26.0      0   \n",
       "3       Futrelle, Mrs. Jacques Heath (Lily May Peel)  female  35.0      1   \n",
       "4                           Allen, Mr. William Henry    male  35.0      0   \n",
       "\n",
       "   Parch            Ticket     Fare Cabin Embarked  \n",
       "0      0         A/5 21171   7.2500   NaN        S  \n",
       "1      0          PC 17599  71.2833   C85        C  \n",
       "2      0  STON/O2. 3101282   7.9250   NaN        S  \n",
       "3      0            113803  53.1000  C123        S  \n",
       "4      0            373450   8.0500   NaN        S  "
      ]
     },
     "execution_count": 5,
     "metadata": {},
     "output_type": "execute_result"
    }
   ],
   "source": [
    "# display first 5 row in train data\n",
    "train_data.head()"
   ]
  },
  {
   "cell_type": "code",
   "execution_count": 6,
   "id": "aafc2c00",
   "metadata": {},
   "outputs": [
    {
     "data": {
      "text/html": [
       "<div>\n",
       "<style scoped>\n",
       "    .dataframe tbody tr th:only-of-type {\n",
       "        vertical-align: middle;\n",
       "    }\n",
       "\n",
       "    .dataframe tbody tr th {\n",
       "        vertical-align: top;\n",
       "    }\n",
       "\n",
       "    .dataframe thead th {\n",
       "        text-align: right;\n",
       "    }\n",
       "</style>\n",
       "<table border=\"1\" class=\"dataframe\">\n",
       "  <thead>\n",
       "    <tr style=\"text-align: right;\">\n",
       "      <th></th>\n",
       "      <th>PassengerId</th>\n",
       "      <th>Survived</th>\n",
       "      <th>Pclass</th>\n",
       "      <th>Age</th>\n",
       "      <th>SibSp</th>\n",
       "      <th>Parch</th>\n",
       "      <th>Fare</th>\n",
       "    </tr>\n",
       "  </thead>\n",
       "  <tbody>\n",
       "    <tr>\n",
       "      <th>count</th>\n",
       "      <td>891.000000</td>\n",
       "      <td>891.000000</td>\n",
       "      <td>891.000000</td>\n",
       "      <td>714.000000</td>\n",
       "      <td>891.000000</td>\n",
       "      <td>891.000000</td>\n",
       "      <td>891.000000</td>\n",
       "    </tr>\n",
       "    <tr>\n",
       "      <th>mean</th>\n",
       "      <td>446.000000</td>\n",
       "      <td>0.383838</td>\n",
       "      <td>2.308642</td>\n",
       "      <td>29.699118</td>\n",
       "      <td>0.523008</td>\n",
       "      <td>0.381594</td>\n",
       "      <td>32.204208</td>\n",
       "    </tr>\n",
       "    <tr>\n",
       "      <th>std</th>\n",
       "      <td>257.353842</td>\n",
       "      <td>0.486592</td>\n",
       "      <td>0.836071</td>\n",
       "      <td>14.526497</td>\n",
       "      <td>1.102743</td>\n",
       "      <td>0.806057</td>\n",
       "      <td>49.693429</td>\n",
       "    </tr>\n",
       "    <tr>\n",
       "      <th>min</th>\n",
       "      <td>1.000000</td>\n",
       "      <td>0.000000</td>\n",
       "      <td>1.000000</td>\n",
       "      <td>0.420000</td>\n",
       "      <td>0.000000</td>\n",
       "      <td>0.000000</td>\n",
       "      <td>0.000000</td>\n",
       "    </tr>\n",
       "    <tr>\n",
       "      <th>25%</th>\n",
       "      <td>223.500000</td>\n",
       "      <td>0.000000</td>\n",
       "      <td>2.000000</td>\n",
       "      <td>20.125000</td>\n",
       "      <td>0.000000</td>\n",
       "      <td>0.000000</td>\n",
       "      <td>7.910400</td>\n",
       "    </tr>\n",
       "    <tr>\n",
       "      <th>50%</th>\n",
       "      <td>446.000000</td>\n",
       "      <td>0.000000</td>\n",
       "      <td>3.000000</td>\n",
       "      <td>28.000000</td>\n",
       "      <td>0.000000</td>\n",
       "      <td>0.000000</td>\n",
       "      <td>14.454200</td>\n",
       "    </tr>\n",
       "    <tr>\n",
       "      <th>75%</th>\n",
       "      <td>668.500000</td>\n",
       "      <td>1.000000</td>\n",
       "      <td>3.000000</td>\n",
       "      <td>38.000000</td>\n",
       "      <td>1.000000</td>\n",
       "      <td>0.000000</td>\n",
       "      <td>31.000000</td>\n",
       "    </tr>\n",
       "    <tr>\n",
       "      <th>max</th>\n",
       "      <td>891.000000</td>\n",
       "      <td>1.000000</td>\n",
       "      <td>3.000000</td>\n",
       "      <td>80.000000</td>\n",
       "      <td>8.000000</td>\n",
       "      <td>6.000000</td>\n",
       "      <td>512.329200</td>\n",
       "    </tr>\n",
       "  </tbody>\n",
       "</table>\n",
       "</div>"
      ],
      "text/plain": [
       "       PassengerId    Survived      Pclass         Age       SibSp  \\\n",
       "count   891.000000  891.000000  891.000000  714.000000  891.000000   \n",
       "mean    446.000000    0.383838    2.308642   29.699118    0.523008   \n",
       "std     257.353842    0.486592    0.836071   14.526497    1.102743   \n",
       "min       1.000000    0.000000    1.000000    0.420000    0.000000   \n",
       "25%     223.500000    0.000000    2.000000   20.125000    0.000000   \n",
       "50%     446.000000    0.000000    3.000000   28.000000    0.000000   \n",
       "75%     668.500000    1.000000    3.000000   38.000000    1.000000   \n",
       "max     891.000000    1.000000    3.000000   80.000000    8.000000   \n",
       "\n",
       "            Parch        Fare  \n",
       "count  891.000000  891.000000  \n",
       "mean     0.381594   32.204208  \n",
       "std      0.806057   49.693429  \n",
       "min      0.000000    0.000000  \n",
       "25%      0.000000    7.910400  \n",
       "50%      0.000000   14.454200  \n",
       "75%      0.000000   31.000000  \n",
       "max      6.000000  512.329200  "
      ]
     },
     "execution_count": 6,
     "metadata": {},
     "output_type": "execute_result"
    }
   ],
   "source": [
    "# display description of train data\n",
    "train_data.describe()"
   ]
  },
  {
   "cell_type": "code",
   "execution_count": 7,
   "id": "63abe14b",
   "metadata": {},
   "outputs": [
    {
     "name": "stdout",
     "output_type": "stream",
     "text": [
      "<class 'pandas.core.frame.DataFrame'>\n",
      "RangeIndex: 891 entries, 0 to 890\n",
      "Data columns (total 12 columns):\n",
      " #   Column       Non-Null Count  Dtype  \n",
      "---  ------       --------------  -----  \n",
      " 0   PassengerId  891 non-null    int64  \n",
      " 1   Survived     891 non-null    int64  \n",
      " 2   Pclass       891 non-null    int64  \n",
      " 3   Name         891 non-null    object \n",
      " 4   Sex          891 non-null    object \n",
      " 5   Age          714 non-null    float64\n",
      " 6   SibSp        891 non-null    int64  \n",
      " 7   Parch        891 non-null    int64  \n",
      " 8   Ticket       891 non-null    object \n",
      " 9   Fare         891 non-null    float64\n",
      " 10  Cabin        204 non-null    object \n",
      " 11  Embarked     889 non-null    object \n",
      "dtypes: float64(2), int64(5), object(5)\n",
      "memory usage: 83.7+ KB\n"
     ]
    }
   ],
   "source": [
    "# display information about train data\n",
    "train_data.info()"
   ]
  },
  {
   "cell_type": "code",
   "execution_count": 8,
   "id": "58586b2a",
   "metadata": {},
   "outputs": [
    {
     "data": {
      "text/html": [
       "<div>\n",
       "<style scoped>\n",
       "    .dataframe tbody tr th:only-of-type {\n",
       "        vertical-align: middle;\n",
       "    }\n",
       "\n",
       "    .dataframe tbody tr th {\n",
       "        vertical-align: top;\n",
       "    }\n",
       "\n",
       "    .dataframe thead th {\n",
       "        text-align: right;\n",
       "    }\n",
       "</style>\n",
       "<table border=\"1\" class=\"dataframe\">\n",
       "  <thead>\n",
       "    <tr style=\"text-align: right;\">\n",
       "      <th></th>\n",
       "      <th>PassengerId</th>\n",
       "      <th>Pclass</th>\n",
       "      <th>Name</th>\n",
       "      <th>Sex</th>\n",
       "      <th>Age</th>\n",
       "      <th>SibSp</th>\n",
       "      <th>Parch</th>\n",
       "      <th>Ticket</th>\n",
       "      <th>Fare</th>\n",
       "      <th>Cabin</th>\n",
       "      <th>Embarked</th>\n",
       "    </tr>\n",
       "  </thead>\n",
       "  <tbody>\n",
       "    <tr>\n",
       "      <th>0</th>\n",
       "      <td>892</td>\n",
       "      <td>3</td>\n",
       "      <td>Kelly, Mr. James</td>\n",
       "      <td>male</td>\n",
       "      <td>34.5</td>\n",
       "      <td>0</td>\n",
       "      <td>0</td>\n",
       "      <td>330911</td>\n",
       "      <td>7.8292</td>\n",
       "      <td>NaN</td>\n",
       "      <td>Q</td>\n",
       "    </tr>\n",
       "    <tr>\n",
       "      <th>1</th>\n",
       "      <td>893</td>\n",
       "      <td>3</td>\n",
       "      <td>Wilkes, Mrs. James (Ellen Needs)</td>\n",
       "      <td>female</td>\n",
       "      <td>47.0</td>\n",
       "      <td>1</td>\n",
       "      <td>0</td>\n",
       "      <td>363272</td>\n",
       "      <td>7.0000</td>\n",
       "      <td>NaN</td>\n",
       "      <td>S</td>\n",
       "    </tr>\n",
       "    <tr>\n",
       "      <th>2</th>\n",
       "      <td>894</td>\n",
       "      <td>2</td>\n",
       "      <td>Myles, Mr. Thomas Francis</td>\n",
       "      <td>male</td>\n",
       "      <td>62.0</td>\n",
       "      <td>0</td>\n",
       "      <td>0</td>\n",
       "      <td>240276</td>\n",
       "      <td>9.6875</td>\n",
       "      <td>NaN</td>\n",
       "      <td>Q</td>\n",
       "    </tr>\n",
       "    <tr>\n",
       "      <th>3</th>\n",
       "      <td>895</td>\n",
       "      <td>3</td>\n",
       "      <td>Wirz, Mr. Albert</td>\n",
       "      <td>male</td>\n",
       "      <td>27.0</td>\n",
       "      <td>0</td>\n",
       "      <td>0</td>\n",
       "      <td>315154</td>\n",
       "      <td>8.6625</td>\n",
       "      <td>NaN</td>\n",
       "      <td>S</td>\n",
       "    </tr>\n",
       "    <tr>\n",
       "      <th>4</th>\n",
       "      <td>896</td>\n",
       "      <td>3</td>\n",
       "      <td>Hirvonen, Mrs. Alexander (Helga E Lindqvist)</td>\n",
       "      <td>female</td>\n",
       "      <td>22.0</td>\n",
       "      <td>1</td>\n",
       "      <td>1</td>\n",
       "      <td>3101298</td>\n",
       "      <td>12.2875</td>\n",
       "      <td>NaN</td>\n",
       "      <td>S</td>\n",
       "    </tr>\n",
       "  </tbody>\n",
       "</table>\n",
       "</div>"
      ],
      "text/plain": [
       "   PassengerId  Pclass                                          Name     Sex  \\\n",
       "0          892       3                              Kelly, Mr. James    male   \n",
       "1          893       3              Wilkes, Mrs. James (Ellen Needs)  female   \n",
       "2          894       2                     Myles, Mr. Thomas Francis    male   \n",
       "3          895       3                              Wirz, Mr. Albert    male   \n",
       "4          896       3  Hirvonen, Mrs. Alexander (Helga E Lindqvist)  female   \n",
       "\n",
       "    Age  SibSp  Parch   Ticket     Fare Cabin Embarked  \n",
       "0  34.5      0      0   330911   7.8292   NaN        Q  \n",
       "1  47.0      1      0   363272   7.0000   NaN        S  \n",
       "2  62.0      0      0   240276   9.6875   NaN        Q  \n",
       "3  27.0      0      0   315154   8.6625   NaN        S  \n",
       "4  22.0      1      1  3101298  12.2875   NaN        S  "
      ]
     },
     "execution_count": 8,
     "metadata": {},
     "output_type": "execute_result"
    }
   ],
   "source": [
    "# display first 5 row in test data\n",
    "test_data.head()"
   ]
  },
  {
   "cell_type": "code",
   "execution_count": 9,
   "id": "f190bb6f",
   "metadata": {},
   "outputs": [
    {
     "data": {
      "text/html": [
       "<div>\n",
       "<style scoped>\n",
       "    .dataframe tbody tr th:only-of-type {\n",
       "        vertical-align: middle;\n",
       "    }\n",
       "\n",
       "    .dataframe tbody tr th {\n",
       "        vertical-align: top;\n",
       "    }\n",
       "\n",
       "    .dataframe thead th {\n",
       "        text-align: right;\n",
       "    }\n",
       "</style>\n",
       "<table border=\"1\" class=\"dataframe\">\n",
       "  <thead>\n",
       "    <tr style=\"text-align: right;\">\n",
       "      <th></th>\n",
       "      <th>PassengerId</th>\n",
       "      <th>Pclass</th>\n",
       "      <th>Age</th>\n",
       "      <th>SibSp</th>\n",
       "      <th>Parch</th>\n",
       "      <th>Fare</th>\n",
       "    </tr>\n",
       "  </thead>\n",
       "  <tbody>\n",
       "    <tr>\n",
       "      <th>count</th>\n",
       "      <td>418.000000</td>\n",
       "      <td>418.000000</td>\n",
       "      <td>332.000000</td>\n",
       "      <td>418.000000</td>\n",
       "      <td>418.000000</td>\n",
       "      <td>417.000000</td>\n",
       "    </tr>\n",
       "    <tr>\n",
       "      <th>mean</th>\n",
       "      <td>1100.500000</td>\n",
       "      <td>2.265550</td>\n",
       "      <td>30.272590</td>\n",
       "      <td>0.447368</td>\n",
       "      <td>0.392344</td>\n",
       "      <td>35.627188</td>\n",
       "    </tr>\n",
       "    <tr>\n",
       "      <th>std</th>\n",
       "      <td>120.810458</td>\n",
       "      <td>0.841838</td>\n",
       "      <td>14.181209</td>\n",
       "      <td>0.896760</td>\n",
       "      <td>0.981429</td>\n",
       "      <td>55.907576</td>\n",
       "    </tr>\n",
       "    <tr>\n",
       "      <th>min</th>\n",
       "      <td>892.000000</td>\n",
       "      <td>1.000000</td>\n",
       "      <td>0.170000</td>\n",
       "      <td>0.000000</td>\n",
       "      <td>0.000000</td>\n",
       "      <td>0.000000</td>\n",
       "    </tr>\n",
       "    <tr>\n",
       "      <th>25%</th>\n",
       "      <td>996.250000</td>\n",
       "      <td>1.000000</td>\n",
       "      <td>21.000000</td>\n",
       "      <td>0.000000</td>\n",
       "      <td>0.000000</td>\n",
       "      <td>7.895800</td>\n",
       "    </tr>\n",
       "    <tr>\n",
       "      <th>50%</th>\n",
       "      <td>1100.500000</td>\n",
       "      <td>3.000000</td>\n",
       "      <td>27.000000</td>\n",
       "      <td>0.000000</td>\n",
       "      <td>0.000000</td>\n",
       "      <td>14.454200</td>\n",
       "    </tr>\n",
       "    <tr>\n",
       "      <th>75%</th>\n",
       "      <td>1204.750000</td>\n",
       "      <td>3.000000</td>\n",
       "      <td>39.000000</td>\n",
       "      <td>1.000000</td>\n",
       "      <td>0.000000</td>\n",
       "      <td>31.500000</td>\n",
       "    </tr>\n",
       "    <tr>\n",
       "      <th>max</th>\n",
       "      <td>1309.000000</td>\n",
       "      <td>3.000000</td>\n",
       "      <td>76.000000</td>\n",
       "      <td>8.000000</td>\n",
       "      <td>9.000000</td>\n",
       "      <td>512.329200</td>\n",
       "    </tr>\n",
       "  </tbody>\n",
       "</table>\n",
       "</div>"
      ],
      "text/plain": [
       "       PassengerId      Pclass         Age       SibSp       Parch        Fare\n",
       "count   418.000000  418.000000  332.000000  418.000000  418.000000  417.000000\n",
       "mean   1100.500000    2.265550   30.272590    0.447368    0.392344   35.627188\n",
       "std     120.810458    0.841838   14.181209    0.896760    0.981429   55.907576\n",
       "min     892.000000    1.000000    0.170000    0.000000    0.000000    0.000000\n",
       "25%     996.250000    1.000000   21.000000    0.000000    0.000000    7.895800\n",
       "50%    1100.500000    3.000000   27.000000    0.000000    0.000000   14.454200\n",
       "75%    1204.750000    3.000000   39.000000    1.000000    0.000000   31.500000\n",
       "max    1309.000000    3.000000   76.000000    8.000000    9.000000  512.329200"
      ]
     },
     "execution_count": 9,
     "metadata": {},
     "output_type": "execute_result"
    }
   ],
   "source": [
    "# display description of test data\n",
    "test_data.describe()"
   ]
  },
  {
   "cell_type": "code",
   "execution_count": 10,
   "id": "8d5d93bf",
   "metadata": {},
   "outputs": [
    {
     "name": "stdout",
     "output_type": "stream",
     "text": [
      "<class 'pandas.core.frame.DataFrame'>\n",
      "RangeIndex: 418 entries, 0 to 417\n",
      "Data columns (total 11 columns):\n",
      " #   Column       Non-Null Count  Dtype  \n",
      "---  ------       --------------  -----  \n",
      " 0   PassengerId  418 non-null    int64  \n",
      " 1   Pclass       418 non-null    int64  \n",
      " 2   Name         418 non-null    object \n",
      " 3   Sex          418 non-null    object \n",
      " 4   Age          332 non-null    float64\n",
      " 5   SibSp        418 non-null    int64  \n",
      " 6   Parch        418 non-null    int64  \n",
      " 7   Ticket       418 non-null    object \n",
      " 8   Fare         417 non-null    float64\n",
      " 9   Cabin        91 non-null     object \n",
      " 10  Embarked     418 non-null    object \n",
      "dtypes: float64(2), int64(4), object(5)\n",
      "memory usage: 36.0+ KB\n"
     ]
    }
   ],
   "source": [
    "# display information about test data\n",
    "test_data.info()"
   ]
  },
  {
   "cell_type": "code",
   "execution_count": 11,
   "id": "2efdb68d",
   "metadata": {},
   "outputs": [
    {
     "name": "stdout",
     "output_type": "stream",
     "text": [
      "             Total     %\n",
      "Cabin          687  77.1\n",
      "Age            177  19.9\n",
      "Embarked         2   0.2\n",
      "PassengerId      0   0.0\n",
      "Survived         0   0.0\n",
      "Pclass           0   0.0\n",
      "Name             0   0.0\n",
      "Sex              0   0.0\n",
      "SibSp            0   0.0\n",
      "Parch            0   0.0\n",
      "Ticket           0   0.0\n",
      "Fare             0   0.0\n"
     ]
    }
   ],
   "source": [
    "# check for the null train_data\n",
    "null_values(train_data)"
   ]
  },
  {
   "cell_type": "code",
   "execution_count": 12,
   "id": "2302c11e",
   "metadata": {},
   "outputs": [
    {
     "name": "stdout",
     "output_type": "stream",
     "text": [
      "             Total     %\n",
      "Cabin          327  78.2\n",
      "Age             86  20.6\n",
      "Fare             1   0.2\n",
      "PassengerId      0   0.0\n",
      "Pclass           0   0.0\n",
      "Name             0   0.0\n",
      "Sex              0   0.0\n",
      "SibSp            0   0.0\n",
      "Parch            0   0.0\n",
      "Ticket           0   0.0\n",
      "Embarked         0   0.0\n"
     ]
    }
   ],
   "source": [
    "# check for the null test data\n",
    "null_values(test_data)"
   ]
  },
  {
   "cell_type": "code",
   "execution_count": 13,
   "id": "8be3379c",
   "metadata": {},
   "outputs": [
    {
     "data": {
      "text/plain": [
       "Survived       1.000000\n",
       "Fare           0.257307\n",
       "Parch          0.081629\n",
       "PassengerId   -0.005007\n",
       "SibSp         -0.035322\n",
       "Age           -0.077221\n",
       "Pclass        -0.338481\n",
       "Name: Survived, dtype: float64"
      ]
     },
     "execution_count": 13,
     "metadata": {},
     "output_type": "execute_result"
    }
   ],
   "source": [
    "# Correlation for train data\n",
    "corr = train_data.corr()\n",
    "corr[\"Survived\"].sort_values(ascending=False)"
   ]
  },
  {
   "cell_type": "code",
   "execution_count": 14,
   "id": "b720f218",
   "metadata": {},
   "outputs": [],
   "source": [
    "# Data Visualization "
   ]
  },
  {
   "cell_type": "code",
   "execution_count": 15,
   "id": "713482fd",
   "metadata": {},
   "outputs": [],
   "source": [
    "plt.style.use(\"ggplot\")\n",
    "sns.set_style(\"darkgrid\")"
   ]
  },
  {
   "cell_type": "code",
   "execution_count": 16,
   "id": "ce46362a",
   "metadata": {},
   "outputs": [],
   "source": [
    "# histogram"
   ]
  },
  {
   "cell_type": "code",
   "execution_count": 17,
   "id": "f9a2c838",
   "metadata": {},
   "outputs": [],
   "source": [
    "# Shimazaki H. and Shinomoto S. rule to calculate optimal bins in histogram\n",
    "def optimal_bins(df, dt):\n",
    "    data_max = max(df[dt])  # lower end of data\n",
    "    data_min = min(df[dt])  # upper end of data\n",
    "    n_min = 2  # Minimum number of bins Ideal value = 2\n",
    "    n_max = 200  # Maximum number of bins  Ideal value =200\n",
    "    n_shift = 30  # number of shifts Ideal value = 30\n",
    "    N = np.array(range(n_min, n_max))\n",
    "    D = float(data_max - data_min) / N  # Bin width vector\n",
    "    Cs = np.zeros((len(D), n_shift))  # Cost function vector\n",
    "    for i in range(np.size(N)):\n",
    "        shift = np.linspace(0, D[i], n_shift)\n",
    "        for j in range(n_shift):\n",
    "            edges = np.linspace(data_min + shift[j] - D[i] / 2, data_max + shift[j] - D[i] / 2,\n",
    "                                N[i] + 1)  # shift the Bin edges\n",
    "            binindex = np.digitize(df[dt], edges)  # Find binindex of each data point\n",
    "            ki = np.bincount(binindex)[1:N[i] + 1]  # Find number of points in each bin\n",
    "            k = np.mean(ki)  # Mean of event count\n",
    "            v = sum((ki - k) ** 2) / N[i]  # Variance of event count\n",
    "            Cs[i, j] += (2 * k - v) / ((D[i]) ** 2)  # The cost Function\n",
    "    C = Cs.mean(1)\n",
    "    # Optimal Bin Size Selection\n",
    "    loc = np.argwhere(Cs == Cs.min())[0]\n",
    "    cmin = C.min()\n",
    "    idx = np.where(C == cmin)\n",
    "    idx = idx[0][0]\n",
    "    optD = D[idx]\n",
    "    return N[idx]"
   ]
  },
  {
   "cell_type": "code",
   "execution_count": 18,
   "id": "2949b0b1",
   "metadata": {},
   "outputs": [
    {
     "data": {
      "text/plain": [
       "Text(0, 0.5, 'Count')"
      ]
     },
     "execution_count": 18,
     "metadata": {},
     "output_type": "execute_result"
    },
    {
     "data": {
      "image/png": "[encoded data removed]",
      "text/plain": [
       "<Figure size 432x288 with 1 Axes>"
      ]
     },
     "metadata": {},
     "output_type": "display_data"
    }
   ],
   "source": [
    "# histogram for Age Series \n",
    "bin_count = optimal_bins(train_data,\"Age\")\n",
    "bin_count\n",
    "# calculate optimal bins numbers and display it\n",
    "plt.hist(train_data[\"Age\"], edgecolor='black', bins=bin_count, color=\"steelblue\")\n",
    "plt.xlabel(\"Age\")\n",
    "plt.ylabel(\"Count\")"
   ]
  },
  {
   "cell_type": "code",
   "execution_count": 19,
   "id": "4277329c",
   "metadata": {},
   "outputs": [],
   "source": [
    "# target train_data\n",
    "# Survived is our target train_data"
   ]
  },
  {
   "cell_type": "code",
   "execution_count": 20,
   "id": "0b33ebfe",
   "metadata": {},
   "outputs": [
    {
     "data": {
      "text/plain": [
       "<AxesSubplot:xlabel='Survived', ylabel='count'>"
      ]
     },
     "execution_count": 20,
     "metadata": {},
     "output_type": "execute_result"
    },
    {
     "data": {
      "image/png": "[encoded data removed]",
      "text/plain": [
       "<Figure size 432x288 with 1 Axes>"
      ]
     },
     "metadata": {},
     "output_type": "display_data"
    }
   ],
   "source": [
    "sns.countplot(x=\"Survived\", data=train_data, hue=\"Sex\")"
   ]
  },
  {
   "cell_type": "code",
   "execution_count": 21,
   "id": "77f3da4f",
   "metadata": {},
   "outputs": [
    {
     "data": {
      "text/plain": [
       "<AxesSubplot:xlabel='Survived', ylabel='count'>"
      ]
     },
     "execution_count": 21,
     "metadata": {},
     "output_type": "execute_result"
    },
    {
     "data": {
      "image/png": "[encoded data removed]",
      "text/plain": [
       "<Figure size 432x288 with 1 Axes>"
      ]
     },
     "metadata": {},
     "output_type": "display_data"
    }
   ],
   "source": [
    "sns.countplot(x=\"Survived\", data=train_data, hue=\"Pclass\")"
   ]
  },
  {
   "cell_type": "code",
   "execution_count": 22,
   "id": "93dbae91",
   "metadata": {},
   "outputs": [
    {
     "data": {
      "text/plain": [
       "<AxesSubplot:xlabel='Fare'>"
      ]
     },
     "execution_count": 22,
     "metadata": {},
     "output_type": "execute_result"
    },
    {
     "data": {
      "image/png": "[encoded data removed]",
      "text/plain": [
       "<Figure size 1080x288 with 4 Axes>"
      ]
     },
     "metadata": {},
     "output_type": "display_data"
    }
   ],
   "source": [
    "# show boxplot\n",
    "# Create a figure and a subplots, with size of figure 15X4\n",
    "# A box plot shows the distribution of quantitative data in a way that facilitates comparisons between variables\n",
    "# or across levels of a categorical variable\n",
    "fig, ax = plt.subplots(1, 4, figsize=(15, 4))\n",
    "sns.boxplot(data=train_data, x=\"Age\", color=\"#ce181f\", ax=ax[0], showmeans=True)\n",
    "sns.boxplot(data=train_data, x=\"SibSp\", color=\"#232f51\", ax=ax[1], showmeans=True)\n",
    "sns.boxplot(data=train_data, x=\"Parch\", color=\"#3b3742\", ax=ax[2], showmeans=True)\n",
    "sns.boxplot(data=train_data, x=\"Fare\", color=\"#70dc88\", ax=ax[3], showmeans=True)"
   ]
  },
  {
   "cell_type": "code",
   "execution_count": 62,
   "id": "0f08b6cb",
   "metadata": {},
   "outputs": [
    {
     "data": {
      "text/plain": [
       "<matplotlib.legend.Legend at 0x7f3fd8e8a4f0>"
      ]
     },
     "execution_count": 62,
     "metadata": {},
     "output_type": "execute_result"
    },
    {
     "data": {
      "image/png": "[encoded data removed]",
      "text/plain": [
       "<Figure size 432x432 with 3 Axes>"
      ]
     },
     "metadata": {
      "needs_background": "light"
     },
     "output_type": "display_data"
    }
   ],
   "source": [
    "# Jointplot\n",
    "r, p = stats.pearsonr(train_data[\"Age\"], train_data[\"Survived\"])\n",
    "j = sns.jointplot(x=\"Age\", y=\"Survived\", kind=\"kde\", fill=True,\n",
    "             thresh=0, data=train_data, color=\"blue\")\n",
    "phantom, = j.ax_joint.plot([], [], linestyle=\"\", alpha=0)\n",
    "j.ax_joint.legend([phantom],[\"p={:f},r={:f}\".format(r,p)])"
   ]
  },
  {
   "cell_type": "code",
   "execution_count": 65,
   "id": "b07a81c2",
   "metadata": {},
   "outputs": [
    {
     "data": {
      "text/plain": [
       "<matplotlib.legend.Legend at 0x7f3fd8cef070>"
      ]
     },
     "execution_count": 65,
     "metadata": {},
     "output_type": "execute_result"
    },
    {
     "data": {
      "image/png": "[encoded data removed]",
      "text/plain": [
       "<Figure size 432x432 with 3 Axes>"
      ]
     },
     "metadata": {
      "needs_background": "light"
     },
     "output_type": "display_data"
    }
   ],
   "source": [
    "r, p = stats.pearsonr(train_data[\"Fare\"], train_data[\"Survived\"])\n",
    "j = sns.jointplot(x=\"Fare\",y=\"Survived\",data= train_data, color='steelblue')\n",
    "phantom, = j.ax_joint.plot([], [], linestyle=\"\", alpha=0)\n",
    "j.ax_joint.legend([phantom],[\"p={:f},r={:f}\".format(r,p)])"
   ]
  },
  {
   "cell_type": "code",
   "execution_count": 23,
   "id": "02ec4634",
   "metadata": {},
   "outputs": [],
   "source": [
    "# Analyze Data and Preparing  Data"
   ]
  },
  {
   "cell_type": "code",
   "execution_count": 24,
   "id": "425bfd5a",
   "metadata": {},
   "outputs": [
    {
     "name": "stdout",
     "output_type": "stream",
     "text": [
      "Survived       1.000000\n",
      "Fare           0.257307\n",
      "Parch          0.081629\n",
      "PassengerId   -0.005007\n",
      "SibSp         -0.035322\n",
      "Age           -0.077221\n",
      "Pclass        -0.338481\n",
      "Name: Survived, dtype: float64\n"
     ]
    }
   ],
   "source": [
    "# Correlation\n",
    "corr = train_data.corr()\n",
    "print(corr[\"Survived\"].sort_values(ascending=False))\n"
   ]
  },
  {
   "cell_type": "code",
   "execution_count": 25,
   "id": "5e931bf3",
   "metadata": {},
   "outputs": [],
   "source": [
    "# PassengerId values\n",
    "# we don't need this feature, so we go to drop this\n",
    "train_data = train_data.drop(\"PassengerId\", axis=1)\n",
    "test_data = test_data.drop(\"PassengerId\", axis=1)"
   ]
  },
  {
   "cell_type": "code",
   "execution_count": 26,
   "id": "d0d30fe8",
   "metadata": {},
   "outputs": [],
   "source": [
    "# Name values\n",
    "# we don't need this feature, so we go to drop this\n",
    "train_data = train_data.drop(\"Name\", axis=1)\n",
    "test_data = test_data.drop(\"Name\", axis=1)"
   ]
  },
  {
   "cell_type": "code",
   "execution_count": 27,
   "id": "7c0ba2fb",
   "metadata": {},
   "outputs": [],
   "source": [
    "# Sex values\n",
    "# Convert from categorical to numerical\n",
    "enc = OrdinalEncoder()\n",
    "train_data[[\"Gender\"]] = enc.fit_transform(train_data[[\"Sex\"]])\n",
    "test_data[[\"Gender\"]] = enc.fit_transform(test_data[[\"Sex\"]])\n",
    "train_data = train_data.drop(\"Sex\", axis=1)\n",
    "test_data = test_data.drop(\"Sex\", axis=1)"
   ]
  },
  {
   "cell_type": "code",
   "execution_count": 28,
   "id": "1b652f9b",
   "metadata": {},
   "outputs": [
    {
     "name": "stdout",
     "output_type": "stream",
     "text": [
      "Column: Age\n",
      "Old Shape (891, 10)\n",
      "New Shape (883, 10)\n",
      "Count of Item Removed: 8\n",
      "Outliers ratio: 0.009060022650056626\n",
      "Column: Age\n",
      "Old Shape (418, 9)\n",
      "New Shape (416, 9)\n",
      "Count of Item Removed: 2\n",
      "Outliers ratio: 0.004807692307692308\n"
     ]
    }
   ],
   "source": [
    "# Age values\n",
    "# Fill null value\n",
    "train_data[\"Age\"] = train_data[\"Age\"].fillna(method=\"ffill\")\n",
    "# Cast data from type float to int\n",
    "train_data[\"Age\"] = train_data[\"Age\"].astype(int)\n",
    "# Drop outliers data\n",
    "outliers(train_data, \"Age\")\n",
    "test_data[\"Age\"] = test_data[\"Age\"].fillna(method=\"ffill\")\n",
    "test_data[\"Age\"] = test_data[\"Age\"].astype(int)\n",
    "outliers(test_data, \"Age\")"
   ]
  },
  {
   "cell_type": "code",
   "execution_count": 29,
   "id": "595463a3",
   "metadata": {},
   "outputs": [],
   "source": [
    "# Categorizing every age into a groups\n",
    "data_set = [train_data, test_data]\n",
    "for data in data_set:\n",
    "    data.loc[data[\"Age\"] <= 12, \"Age\"] = 0  # child passengers\n",
    "    data.loc[(data[\"Age\"] > 12) & (data[\"Age\"] <= 20), \"Age\"] = 1  # teenage passengers\n",
    "    data.loc[(data[\"Age\"] > 20) & (data[\"Age\"] <= 30), \"Age\"] = 2  # young passengers\n",
    "    data.loc[(data[\"Age\"] > 30) & (data[\"Age\"] <= 40), \"Age\"] = 3  # man passengers\n",
    "    data.loc[(data[\"Age\"] > 40) & (data[\"Age\"] <= 50), \"Age\"] = 4  # adult passengers\n",
    "    data.loc[(data[\"Age\"] > 50) & (data[\"Age\"] <= 60), \"Age\"] = 5  # old passengers\n",
    "    data.loc[(data[\"Age\"] > 60), \"Age\"] = 6  # very old passengers"
   ]
  },
  {
   "cell_type": "code",
   "execution_count": 30,
   "id": "6244ae41",
   "metadata": {},
   "outputs": [],
   "source": [
    "# check Relative between passengers and Relatives\n",
    "train_data[\"Relatives\"] = train_data[\"SibSp\"] + train_data[\"Parch\"]\n",
    "train_data.loc[train_data[\"Relatives\"] > 0, \"not_singular\"] = 0\n",
    "train_data.loc[train_data[\"Relatives\"] == 0, \"not_singular\"] = 1\n",
    "train_data[\"not_singular\"] = train_data[\"not_singular\"].astype(int)\n",
    "\n",
    "test_data[\"Relatives\"] = test_data[\"SibSp\"] + test_data[\"Parch\"]\n",
    "test_data.loc[test_data[\"Relatives\"] > 0, \"not_singular\"] = 0\n",
    "test_data.loc[test_data[\"Relatives\"] == 0, \"not_singular\"] = 1\n",
    "test_data[\"not_singular\"] = test_data[\"not_singular\"].astype(int)\n"
   ]
  },
  {
   "cell_type": "code",
   "execution_count": 31,
   "id": "19f44a47",
   "metadata": {},
   "outputs": [],
   "source": [
    "# Ticket values\n",
    "# drop this because we have many unique value\n",
    "train_data = train_data.drop(\"Ticket\", axis=1)\n",
    "test_data = test_data.drop(\"Ticket\", axis=1)"
   ]
  },
  {
   "cell_type": "code",
   "execution_count": 32,
   "id": "a41a69af",
   "metadata": {},
   "outputs": [
    {
     "name": "stdout",
     "output_type": "stream",
     "text": [
      "Column: Fare\n",
      "Old Shape (883, 11)\n",
      "New Shape (768, 11)\n",
      "Count of Item Removed: 115\n",
      "Outliers ratio: 0.14973958333333334\n",
      "Column: Fare\n",
      "Old Shape (416, 10)\n",
      "New Shape (363, 10)\n",
      "Count of Item Removed: 53\n",
      "Outliers ratio: 0.14600550964187328\n"
     ]
    }
   ],
   "source": [
    "# Fare values\n",
    "# Fill null value\n",
    "train_data[\"Fare\"] = train_data[\"Fare\"].fillna(method=\"ffill\")\n",
    "test_data[\"Fare\"] = test_data[\"Fare\"].fillna(method=\"ffill\")\n",
    "# Drop outliers data\n",
    "outliers(train_data, \"Fare\")\n",
    "outliers(test_data, \"Fare\")"
   ]
  },
  {
   "cell_type": "code",
   "execution_count": 33,
   "id": "6c93df8b",
   "metadata": {},
   "outputs": [],
   "source": [
    "# Cabin values\n",
    "# drop this becuse we have many null value\n",
    "train_data = train_data.drop(\"Cabin\", axis=1)\n",
    "test_data = test_data.drop(\"Cabin\", axis=1)"
   ]
  },
  {
   "cell_type": "code",
   "execution_count": 34,
   "id": "eb94020d",
   "metadata": {},
   "outputs": [],
   "source": [
    "# Embarked values\n",
    "# Fill null values\n",
    "train_data[\"Embarked\"] = train_data[\"Embarked\"].fillna(method=\"ffill\")\n",
    "test_data[\"Embarked\"] = test_data[\"Embarked\"].fillna(method=\"ffill\")\n",
    "# Convert from categorical to numerical\n",
    "enc = OrdinalEncoder()\n",
    "train_data[[\"Embarked_encode\"]] = enc.fit_transform(train_data[[\"Embarked\"]])\n",
    "test_data[[\"Embarked_encode\"]] = enc.fit_transform(test_data[[\"Embarked\"]])\n",
    "train_data = train_data.drop(\"Embarked\", axis=1)\n",
    "test_data = test_data.drop(\"Embarked\", axis=1)"
   ]
  },
  {
   "cell_type": "code",
   "execution_count": 35,
   "id": "68f406ef",
   "metadata": {},
   "outputs": [
    {
     "data": {
      "text/html": [
       "<div>\n",
       "<style scoped>\n",
       "    .dataframe tbody tr th:only-of-type {\n",
       "        vertical-align: middle;\n",
       "    }\n",
       "\n",
       "    .dataframe tbody tr th {\n",
       "        vertical-align: top;\n",
       "    }\n",
       "\n",
       "    .dataframe thead th {\n",
       "        text-align: right;\n",
       "    }\n",
       "</style>\n",
       "<table border=\"1\" class=\"dataframe\">\n",
       "  <thead>\n",
       "    <tr style=\"text-align: right;\">\n",
       "      <th></th>\n",
       "      <th>Survived</th>\n",
       "      <th>Pclass</th>\n",
       "      <th>Age</th>\n",
       "      <th>SibSp</th>\n",
       "      <th>Parch</th>\n",
       "      <th>Fare</th>\n",
       "      <th>Gender</th>\n",
       "      <th>Relatives</th>\n",
       "      <th>not_singular</th>\n",
       "      <th>Embarked_encode</th>\n",
       "    </tr>\n",
       "  </thead>\n",
       "  <tbody>\n",
       "    <tr>\n",
       "      <th>0</th>\n",
       "      <td>0</td>\n",
       "      <td>3</td>\n",
       "      <td>2</td>\n",
       "      <td>1</td>\n",
       "      <td>0</td>\n",
       "      <td>7.2500</td>\n",
       "      <td>1.0</td>\n",
       "      <td>1</td>\n",
       "      <td>0</td>\n",
       "      <td>2.0</td>\n",
       "    </tr>\n",
       "    <tr>\n",
       "      <th>2</th>\n",
       "      <td>1</td>\n",
       "      <td>3</td>\n",
       "      <td>2</td>\n",
       "      <td>0</td>\n",
       "      <td>0</td>\n",
       "      <td>7.9250</td>\n",
       "      <td>0.0</td>\n",
       "      <td>0</td>\n",
       "      <td>1</td>\n",
       "      <td>2.0</td>\n",
       "    </tr>\n",
       "    <tr>\n",
       "      <th>3</th>\n",
       "      <td>1</td>\n",
       "      <td>1</td>\n",
       "      <td>3</td>\n",
       "      <td>1</td>\n",
       "      <td>0</td>\n",
       "      <td>53.1000</td>\n",
       "      <td>0.0</td>\n",
       "      <td>1</td>\n",
       "      <td>0</td>\n",
       "      <td>2.0</td>\n",
       "    </tr>\n",
       "    <tr>\n",
       "      <th>4</th>\n",
       "      <td>0</td>\n",
       "      <td>3</td>\n",
       "      <td>3</td>\n",
       "      <td>0</td>\n",
       "      <td>0</td>\n",
       "      <td>8.0500</td>\n",
       "      <td>1.0</td>\n",
       "      <td>0</td>\n",
       "      <td>1</td>\n",
       "      <td>2.0</td>\n",
       "    </tr>\n",
       "    <tr>\n",
       "      <th>5</th>\n",
       "      <td>0</td>\n",
       "      <td>3</td>\n",
       "      <td>3</td>\n",
       "      <td>0</td>\n",
       "      <td>0</td>\n",
       "      <td>8.4583</td>\n",
       "      <td>1.0</td>\n",
       "      <td>0</td>\n",
       "      <td>1</td>\n",
       "      <td>1.0</td>\n",
       "    </tr>\n",
       "  </tbody>\n",
       "</table>\n",
       "</div>"
      ],
      "text/plain": [
       "   Survived  Pclass  Age  SibSp  Parch     Fare  Gender  Relatives  \\\n",
       "0         0       3    2      1      0   7.2500     1.0          1   \n",
       "2         1       3    2      0      0   7.9250     0.0          0   \n",
       "3         1       1    3      1      0  53.1000     0.0          1   \n",
       "4         0       3    3      0      0   8.0500     1.0          0   \n",
       "5         0       3    3      0      0   8.4583     1.0          0   \n",
       "\n",
       "   not_singular  Embarked_encode  \n",
       "0             0              2.0  \n",
       "2             1              2.0  \n",
       "3             0              2.0  \n",
       "4             1              2.0  \n",
       "5             1              1.0  "
      ]
     },
     "execution_count": 35,
     "metadata": {},
     "output_type": "execute_result"
    }
   ],
   "source": [
    "train_data.head()"
   ]
  },
  {
   "cell_type": "code",
   "execution_count": 36,
   "id": "41f5898a",
   "metadata": {},
   "outputs": [
    {
     "data": {
      "text/html": [
       "<div>\n",
       "<style scoped>\n",
       "    .dataframe tbody tr th:only-of-type {\n",
       "        vertical-align: middle;\n",
       "    }\n",
       "\n",
       "    .dataframe tbody tr th {\n",
       "        vertical-align: top;\n",
       "    }\n",
       "\n",
       "    .dataframe thead th {\n",
       "        text-align: right;\n",
       "    }\n",
       "</style>\n",
       "<table border=\"1\" class=\"dataframe\">\n",
       "  <thead>\n",
       "    <tr style=\"text-align: right;\">\n",
       "      <th></th>\n",
       "      <th>Pclass</th>\n",
       "      <th>Age</th>\n",
       "      <th>SibSp</th>\n",
       "      <th>Parch</th>\n",
       "      <th>Fare</th>\n",
       "      <th>Gender</th>\n",
       "      <th>Relatives</th>\n",
       "      <th>not_singular</th>\n",
       "      <th>Embarked_encode</th>\n",
       "    </tr>\n",
       "  </thead>\n",
       "  <tbody>\n",
       "    <tr>\n",
       "      <th>0</th>\n",
       "      <td>3</td>\n",
       "      <td>3</td>\n",
       "      <td>0</td>\n",
       "      <td>0</td>\n",
       "      <td>7.8292</td>\n",
       "      <td>1.0</td>\n",
       "      <td>0</td>\n",
       "      <td>1</td>\n",
       "      <td>1.0</td>\n",
       "    </tr>\n",
       "    <tr>\n",
       "      <th>1</th>\n",
       "      <td>3</td>\n",
       "      <td>4</td>\n",
       "      <td>1</td>\n",
       "      <td>0</td>\n",
       "      <td>7.0000</td>\n",
       "      <td>0.0</td>\n",
       "      <td>1</td>\n",
       "      <td>0</td>\n",
       "      <td>2.0</td>\n",
       "    </tr>\n",
       "    <tr>\n",
       "      <th>2</th>\n",
       "      <td>2</td>\n",
       "      <td>6</td>\n",
       "      <td>0</td>\n",
       "      <td>0</td>\n",
       "      <td>9.6875</td>\n",
       "      <td>1.0</td>\n",
       "      <td>0</td>\n",
       "      <td>1</td>\n",
       "      <td>1.0</td>\n",
       "    </tr>\n",
       "    <tr>\n",
       "      <th>3</th>\n",
       "      <td>3</td>\n",
       "      <td>2</td>\n",
       "      <td>0</td>\n",
       "      <td>0</td>\n",
       "      <td>8.6625</td>\n",
       "      <td>1.0</td>\n",
       "      <td>0</td>\n",
       "      <td>1</td>\n",
       "      <td>2.0</td>\n",
       "    </tr>\n",
       "    <tr>\n",
       "      <th>4</th>\n",
       "      <td>3</td>\n",
       "      <td>2</td>\n",
       "      <td>1</td>\n",
       "      <td>1</td>\n",
       "      <td>12.2875</td>\n",
       "      <td>0.0</td>\n",
       "      <td>2</td>\n",
       "      <td>0</td>\n",
       "      <td>2.0</td>\n",
       "    </tr>\n",
       "  </tbody>\n",
       "</table>\n",
       "</div>"
      ],
      "text/plain": [
       "   Pclass  Age  SibSp  Parch     Fare  Gender  Relatives  not_singular  \\\n",
       "0       3    3      0      0   7.8292     1.0          0             1   \n",
       "1       3    4      1      0   7.0000     0.0          1             0   \n",
       "2       2    6      0      0   9.6875     1.0          0             1   \n",
       "3       3    2      0      0   8.6625     1.0          0             1   \n",
       "4       3    2      1      1  12.2875     0.0          2             0   \n",
       "\n",
       "   Embarked_encode  \n",
       "0              1.0  \n",
       "1              2.0  \n",
       "2              1.0  \n",
       "3              2.0  \n",
       "4              2.0  "
      ]
     },
     "execution_count": 36,
     "metadata": {},
     "output_type": "execute_result"
    }
   ],
   "source": [
    "test_data.head()"
   ]
  },
  {
   "cell_type": "code",
   "execution_count": 37,
   "id": "ee19b638",
   "metadata": {},
   "outputs": [],
   "source": [
    "# Building Machine Learning Models"
   ]
  },
  {
   "cell_type": "code",
   "execution_count": 38,
   "id": "785e68bd",
   "metadata": {},
   "outputs": [],
   "source": [
    "# Standardization\n",
    "numeric_coloumns = [\"Pclass\", \"Age\", \"SibSp\", \"Parch\",\n",
    "                    \"Fare\", \"Gender\", \"Relatives\", \"not_singular\", \"Embarked_encode\"]\n",
    "pipeline = ColumnTransformer([\n",
    "    (\"num\", StandardScaler(), numeric_coloumns,)\n",
    "])\n",
    "train_data_scaled = pd.DataFrame(pipeline.fit_transform(train_data), columns=[\"Pclass\", \"Age\", \"SibSp\", \"Parch\",\n",
    "                                                                              \"Fare\", \"Gender\", \"Relatives\",\n",
    "                                                                              \"not_singular\", \"Embarked_encode\"])\n",
    "test_data_scaled = pd.DataFrame(pipeline.fit_transform(test_data), columns=[\"Pclass\", \"Age\", \"SibSp\", \"Parch\",\n",
    "                                                                            \"Fare\", \"Gender\", \"Relatives\",\n",
    "                                                                            \"not_singular\", \"Embarked_encode\"])"
   ]
  },
  {
   "cell_type": "code",
   "execution_count": 39,
   "id": "92f0ca2c",
   "metadata": {},
   "outputs": [],
   "source": [
    "train_y = train_data[\"Survived\"]\n",
    "train_x = train_data_scaled\n",
    "test_x = test_data_scaled"
   ]
  },
  {
   "cell_type": "code",
   "execution_count": 40,
   "id": "64a20156",
   "metadata": {},
   "outputs": [],
   "source": [
    "# Logistic Regression\n",
    "logistic_regression = LogisticRegression()\n",
    "logistic_regression.fit(train_x, train_y)\n",
    "logistic_regression_accuracy = round(logistic_regression.score(train_x, train_y) * 100, 3)"
   ]
  },
  {
   "cell_type": "code",
   "execution_count": 43,
   "id": "5e394cd3",
   "metadata": {},
   "outputs": [],
   "source": [
    "# Random Forest\n",
    "random_forest = RandomForestClassifier(n_estimators=100)\n",
    "random_forest.fit(train_x, train_y)\n",
    "random_forest_accuracy = round(random_forest.score(train_x, train_y) * 100, 3)"
   ]
  },
  {
   "cell_type": "code",
   "execution_count": 44,
   "id": "c368737a",
   "metadata": {},
   "outputs": [],
   "source": [
    "# KNN\n",
    "knn = KNeighborsClassifier(n_neighbors=5)\n",
    "knn.fit(train_x, train_y)\n",
    "knn_accuracy = round(knn.score(train_x, train_y) * 100, 3)"
   ]
  },
  {
   "cell_type": "code",
   "execution_count": 45,
   "id": "7b0c4a2f",
   "metadata": {},
   "outputs": [],
   "source": [
    "# Gaussian Naive Bayes\n",
    "gaussian_naive_bayes = GaussianNB()\n",
    "gaussian_naive_bayes.fit(train_x, train_y)\n",
    "gaussian_naive_bayes_accuracy = round(gaussian_naive_bayes.score(train_x, train_y) * 100, 3)"
   ]
  },
  {
   "cell_type": "code",
   "execution_count": 46,
   "id": "b051d936",
   "metadata": {},
   "outputs": [
    {
     "name": "stderr",
     "output_type": "stream",
     "text": [
      "/home/fayyad/anaconda3/lib/python3.8/site-packages/sklearn/linear_model/_stochastic_gradient.py:574: ConvergenceWarning: Maximum number of iteration reached before convergence. Consider increasing max_iter to improve the fit.\n",
      "  warnings.warn(\"Maximum number of iteration reached before \"\n"
     ]
    }
   ],
   "source": [
    "# Perceptron\n",
    "perceptron = Perceptron(max_iter=5)\n",
    "perceptron.fit(train_x, train_y)\n",
    "perceptron_accuracy = round(perceptron.score(train_x, train_y) * 100, 3)"
   ]
  },
  {
   "cell_type": "code",
   "execution_count": 47,
   "id": "72d79391",
   "metadata": {},
   "outputs": [
    {
     "name": "stderr",
     "output_type": "stream",
     "text": [
      "/home/fayyad/anaconda3/lib/python3.8/site-packages/sklearn/svm/_base.py:985: ConvergenceWarning: Liblinear failed to converge, increase the number of iterations.\n",
      "  warnings.warn(\"Liblinear failed to converge, increase \"\n"
     ]
    }
   ],
   "source": [
    "# Linear Support Vector Machine:\n",
    "linear_svc = LinearSVC()\n",
    "linear_svc.fit(train_x, train_y)\n",
    "linear_svc_accuracy = round(linear_svc.score(train_x, train_y) * 100, 3)"
   ]
  },
  {
   "cell_type": "code",
   "execution_count": 48,
   "id": "69ad7ac0",
   "metadata": {},
   "outputs": [],
   "source": [
    "# Decision Tree\n",
    "decision_tree = DecisionTreeClassifier()\n",
    "decision_tree.fit(train_x, train_y)\n",
    "decision_tree_accuracy = round(decision_tree.score(train_x, train_y) * 100, 3)"
   ]
  },
  {
   "cell_type": "code",
   "execution_count": 49,
   "id": "8f75b94b",
   "metadata": {},
   "outputs": [],
   "source": [
    "# Stochastic Gradient Descent (SGD)\n",
    "sgd = linear_model.SGDClassifier(max_iter=5, tol=None)\n",
    "sgd.fit(train_x, train_y)\n",
    "sgd_accuracy = round(sgd.score(train_x, train_y) * 100, 3)"
   ]
  },
  {
   "cell_type": "code",
   "execution_count": 50,
   "id": "b5dd2c4b",
   "metadata": {},
   "outputs": [
    {
     "name": "stdout",
     "output_type": "stream",
     "text": [
      "------------------------------  ------  -------------------  ------------------------  --------------------  ----------  --------------------------  -------------\n",
      "Linear Support Vector Machines  KNN     Logistic Regression  Random Forest Classifier  Gaussian Naive Bayes  Perceptron  Stochastic Gradient Decent  Decision Tree\n",
      "79.167                          85.677  78.125               94.401                    77.604                77.344      72.005                      94.401\n",
      "------------------------------  ------  -------------------  ------------------------  --------------------  ----------  --------------------------  -------------\n"
     ]
    }
   ],
   "source": [
    "# Display accuracy of Algorithms\n",
    "Algorithms = [\"Linear Support Vector Machines\", \"KNN\", \"Logistic Regression\",\n",
    "              \"Random Forest Classifier\", \"Gaussian Naive Bayes\", \"Perceptron\",\n",
    "              \"Stochastic Gradient Decent\",\n",
    "              \"Decision Tree\"]\n",
    "Scores = [linear_svc_accuracy, knn_accuracy, logistic_regression_accuracy, random_forest_accuracy,\n",
    "          gaussian_naive_bayes_accuracy, perceptron_accuracy, sgd_accuracy, decision_tree_accuracy]\n",
    "Accuracy = [Algorithms, Scores]\n",
    "print(tabulate(Accuracy))"
   ]
  },
  {
   "cell_type": "code",
   "execution_count": 51,
   "id": "6325e381",
   "metadata": {},
   "outputs": [
    {
     "name": "stdout",
     "output_type": "stream",
     "text": [
      "Scores: [0.74025974 0.74025974 0.76623377 0.72727273 0.87012987 0.79220779\n",
      " 0.83116883 0.77922078 0.84210526 0.82894737]\n",
      "Mean: 0.7917805878332194\n",
      "Standard Deviation: 0.04678099743328272\n"
     ]
    }
   ],
   "source": [
    "# Cross Validations Random Forest Classifier\n",
    "rf = RandomForestClassifier()\n",
    "scores = cross_val_score(rf, train_x, train_y, cv=10, scoring=\"accuracy\")\n",
    "print(\"Scores:\", scores)\n",
    "print(\"Mean:\", scores.mean())\n",
    "print(\"Standard Deviation:\", scores.std())"
   ]
  },
  {
   "cell_type": "code",
   "execution_count": 52,
   "id": "bf18057e",
   "metadata": {},
   "outputs": [
    {
     "name": "stdout",
     "output_type": "stream",
     "text": [
      "Scores: [0.71428571 0.75324675 0.68831169 0.72727273 0.83116883 0.80519481\n",
      " 0.84415584 0.79220779 0.78947368 0.81578947]\n",
      "Mean: 0.7761107313738893\n",
      "Standard Deviation: 0.049958401080165964\n"
     ]
    }
   ],
   "source": [
    "# Cross Validations Decision Tree\n",
    "dt = DecisionTreeClassifier()\n",
    "scores = cross_val_score(dt, train_x, train_y, cv=10, scoring=\"accuracy\")\n",
    "print(\"Scores:\", scores)\n",
    "print(\"Mean:\", scores.mean())\n",
    "print(\"Standard Deviation:\", scores.std())"
   ]
  },
  {
   "cell_type": "code",
   "execution_count": 73,
   "id": "d80b0f85",
   "metadata": {},
   "outputs": [
    {
     "name": "stdout",
     "output_type": "stream",
     "text": [
      " Results from Grid Search \n",
      "\n",
      " The best estimator across ALL searched params:\n",
      " RandomForestClassifier(min_samples_split=16, oob_score=True, random_state=42)\n",
      "\n",
      " The best score across ALL searched params:\n",
      " 0.828125\n",
      "\n",
      " The best parameters across ALL searched params:\n",
      " {'criterion': 'gini', 'min_samples_leaf': 1, 'min_samples_split': 16, 'n_estimators': 100}\n"
     ]
    }
   ],
   "source": [
    "# Grid Search\n",
    "param_grid = {\"criterion\": [\"gini\", \"entropy\"], \"min_samples_leaf\": [1, 5, 10, 25, 40],\n",
    "              \"min_samples_split\": [2, 4, 10, 12, 16, 18, 24, 30],\n",
    "              \"n_estimators\": [100, 400, 700]}\n",
    "\n",
    "rf_g = RandomForestClassifier(n_estimators=100, max_features='auto', oob_score=True, random_state=42)\n",
    "grid_rf = GridSearchCV(estimator=rf_g, param_grid=param_grid, n_jobs=5, cv=8)\n",
    "grid_rf.fit(train_x, train_y)\n",
    "print(\" Results from Grid Search \")\n",
    "print(\"\\n The best estimator across ALL searched params:\\n\", grid_rf.best_estimator_)\n",
    "print(\"\\n The best score across ALL searched params:\\n\", grid_rf.best_score_)\n",
    "print(\"\\n The best parameters across ALL searched params:\\n\", grid_rf.best_params_)"
   ]
  },
  {
   "cell_type": "code",
   "execution_count": 77,
   "id": "952232f4",
   "metadata": {},
   "outputs": [
    {
     "data": {
      "text/plain": [
       "88.021"
      ]
     },
     "execution_count": 77,
     "metadata": {},
     "output_type": "execute_result"
    }
   ],
   "source": [
    "# RFC with new parm\n",
    "random_forest = RandomForestClassifier(min_samples_split=16, n_estimators=100, oob_score=True,\n",
    "                                       random_state=42, criterion=\"gini\", min_samples_leaf=1,\n",
    "                                       max_features=\"auto\", n_jobs=5)\n",
    "random_forest.fit(train_x,train_y)\n",
    "random_forest_accuracy = round(random_forest.score(train_x, train_y) * 100, 3)\n",
    "random_forest_accuracy"
   ]
  },
  {
   "cell_type": "code",
   "execution_count": 78,
   "id": "9950a3dd",
   "metadata": {},
   "outputs": [
    {
     "name": "stdout",
     "output_type": "stream",
     "text": [
      "Confusion Matrix:\n",
      " [[458  48]\n",
      " [ 84 178]]\n",
      "Classification Report:\n",
      "               precision    recall  f1-score   support\n",
      "\n",
      "           0       0.85      0.91      0.87       506\n",
      "           1       0.79      0.68      0.73       262\n",
      "\n",
      "    accuracy                           0.83       768\n",
      "   macro avg       0.82      0.79      0.80       768\n",
      "weighted avg       0.83      0.83      0.82       768\n",
      "\n"
     ]
    }
   ],
   "source": [
    "# Classification Report\n",
    "# Confusion Matrix\n",
    "predictions = cross_val_predict(random_forest, train_x, train_y, cv=8)\n",
    "print(\"Confusion Matrix:\\n\", confusion_matrix(train_y, predictions))\n",
    "print(\"Classification Report:\\n\", classification_report(train_y, predictions))"
   ]
  },
  {
   "cell_type": "code",
   "execution_count": null,
   "id": "ba2f6f81",
   "metadata": {},
   "outputs": [],
   "source": []
  }
 ],
 "metadata": {
  "kernelspec": {
   "display_name": "Python 3 (ipykernel)",
   "language": "python",
   "name": "python3"
  },
  "language_info": {
   "codemirror_mode": {
    "name": "ipython",
    "version": 3
   },
   "file_extension": ".py",
   "mimetype": "text/x-python",
   "name": "python",
   "nbconvert_exporter": "python",
   "pygments_lexer": "ipython3",
   "version": "3.8.8"
  }
 },
 "nbformat": 4,
 "nbformat_minor": 5
}
