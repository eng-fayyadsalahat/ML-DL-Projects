{
 "cells": [
  {
   "cell_type": "code",
   "execution_count": null,
   "metadata": {
    "_cell_guid": "b1076dfc-b9ad-4769-8c92-a6c4dae69d19",
    "_uuid": "8f2839f25d086af736a60e9eeb907d3b93b6e0e5",
    "execution": {
     "iopub.execute_input": "2022-01-20T22:38:49.122106Z",
     "iopub.status.busy": "2022-01-20T22:38:49.121749Z",
     "iopub.status.idle": "2022-01-20T22:38:49.155341Z",
     "shell.execute_reply": "2022-01-20T22:38:49.154443Z",
     "shell.execute_reply.started": "2022-01-20T22:38:49.122016Z"
    }
   },
   "outputs": [],
   "source": [
    "import numpy as np\n",
    "import pandas as pd "
   ]
  },
  {
   "cell_type": "code",
   "execution_count": null,
   "metadata": {
    "execution": {
     "iopub.execute_input": "2022-01-20T22:38:49.157199Z",
     "iopub.status.busy": "2022-01-20T22:38:49.156974Z",
     "iopub.status.idle": "2022-01-20T22:38:49.202519Z",
     "shell.execute_reply": "2022-01-20T22:38:49.201867Z",
     "shell.execute_reply.started": "2022-01-20T22:38:49.157172Z"
    }
   },
   "outputs": [],
   "source": [
    "train =pd.read_csv(\"dataset/train.csv\")"
   ]
  },
  {
   "cell_type": "code",
   "execution_count": null,
   "metadata": {
    "execution": {
     "iopub.execute_input": "2022-01-20T22:38:49.204513Z",
     "iopub.status.busy": "2022-01-20T22:38:49.204009Z",
     "iopub.status.idle": "2022-01-20T22:38:49.242039Z",
     "shell.execute_reply": "2022-01-20T22:38:49.241055Z",
     "shell.execute_reply.started": "2022-01-20T22:38:49.204469Z"
    }
   },
   "outputs": [],
   "source": [
    "train.head()"
   ]
  },
  {
   "cell_type": "code",
   "execution_count": null,
   "metadata": {
    "execution": {
     "iopub.execute_input": "2022-01-20T22:38:49.244705Z",
     "iopub.status.busy": "2022-01-20T22:38:49.244242Z",
     "iopub.status.idle": "2022-01-20T22:38:49.28201Z",
     "shell.execute_reply": "2022-01-20T22:38:49.280806Z",
     "shell.execute_reply.started": "2022-01-20T22:38:49.244658Z"
    }
   },
   "outputs": [],
   "source": [
    "train.info()"
   ]
  },
  {
   "cell_type": "code",
   "execution_count": null,
   "metadata": {
    "execution": {
     "iopub.execute_input": "2022-01-20T22:38:49.285499Z",
     "iopub.status.busy": "2022-01-20T22:38:49.285279Z",
     "iopub.status.idle": "2022-01-20T22:38:50.873726Z",
     "shell.execute_reply": "2022-01-20T22:38:50.872876Z",
     "shell.execute_reply.started": "2022-01-20T22:38:49.285473Z"
    }
   },
   "outputs": [],
   "source": [
    "import plotly.express as px\n",
    "import plotly.graph_objects as go\n",
    "import plotly.io as pio "
   ]
  },
  {
   "cell_type": "code",
   "execution_count": null,
   "metadata": {
    "execution": {
     "iopub.execute_input": "2022-01-20T22:38:50.875687Z",
     "iopub.status.busy": "2022-01-20T22:38:50.87496Z",
     "iopub.status.idle": "2022-01-20T22:38:50.918945Z",
     "shell.execute_reply": "2022-01-20T22:38:50.918046Z",
     "shell.execute_reply.started": "2022-01-20T22:38:50.875656Z"
    }
   },
   "outputs": [],
   "source": [
    "pio.renderers.default = \"notebook\""
   ]
  },
  {
   "cell_type": "code",
   "execution_count": null,
   "metadata": {
    "execution": {
     "iopub.execute_input": "2022-01-20T22:38:50.920414Z",
     "iopub.status.busy": "2022-01-20T22:38:50.92018Z",
     "iopub.status.idle": "2022-01-20T22:38:50.929621Z",
     "shell.execute_reply": "2022-01-20T22:38:50.928624Z",
     "shell.execute_reply.started": "2022-01-20T22:38:50.920384Z"
    }
   },
   "outputs": [],
   "source": [
    "def outliers(df, dt):\n",
    "    sorted(df[dt])\n",
    "    Q1 = df[dt].quantile(0.25)\n",
    "    Q3 = df[dt].quantile(0.75)\n",
    "    IQR = Q3 - Q1\n",
    "    print(\"Column:\", dt)\n",
    "    upper_val = (Q3 + (1.5 * IQR))\n",
    "    lower_val = Q1 - (1.5 * IQR)\n",
    "    count = len(df[(df[dt] > upper_val) | (df[dt] < lower_val)])\n",
    "    df.replace(df[(df[dt] > upper_val) | (df[dt] < lower_val)].index, df[dt].mean(), inplace=True)\n",
    "    print(\"Count of Item Replace:\", count)\n",
    "    print(\"Outliers ratio:\", count / len(df[dt]))"
   ]
  },
  {
   "cell_type": "code",
   "execution_count": null,
   "metadata": {
    "execution": {
     "iopub.execute_input": "2022-01-20T22:38:50.931155Z",
     "iopub.status.busy": "2022-01-20T22:38:50.930894Z",
     "iopub.status.idle": "2022-01-20T22:38:50.943502Z",
     "shell.execute_reply": "2022-01-20T22:38:50.942605Z",
     "shell.execute_reply.started": "2022-01-20T22:38:50.931126Z"
    }
   },
   "outputs": [],
   "source": [
    "def null_values(df):\n",
    "    null_value = df.isnull().sum().sort_values(ascending=False)\n",
    "    percent_1 = df.isnull().sum() / df.isnull().count() * 100\n",
    "    percent_2 = (round(percent_1, 1)).sort_values(ascending=False)\n",
    "    missing_data = pd.concat([null_value, percent_2], axis=1, keys=['Total', '%'])\n",
    "    print(missing_data)"
   ]
  },
  {
   "cell_type": "code",
   "execution_count": null,
   "metadata": {
    "execution": {
     "iopub.execute_input": "2022-01-20T22:38:50.946449Z",
     "iopub.status.busy": "2022-01-20T22:38:50.945868Z",
     "iopub.status.idle": "2022-01-20T22:38:50.987965Z",
     "shell.execute_reply": "2022-01-20T22:38:50.987101Z",
     "shell.execute_reply.started": "2022-01-20T22:38:50.946417Z"
    }
   },
   "outputs": [],
   "source": [
    "null_values(train)"
   ]
  },
  {
   "cell_type": "code",
   "execution_count": null,
   "metadata": {
    "execution": {
     "iopub.execute_input": "2022-01-20T22:38:50.989421Z",
     "iopub.status.busy": "2022-01-20T22:38:50.989185Z",
     "iopub.status.idle": "2022-01-20T22:38:51.024722Z",
     "shell.execute_reply": "2022-01-20T22:38:51.024113Z",
     "shell.execute_reply.started": "2022-01-20T22:38:50.989392Z"
    }
   },
   "outputs": [],
   "source": [
    "train = train.ffill()\n",
    "train = train.bfill()"
   ]
  },
  {
   "cell_type": "code",
   "execution_count": null,
   "metadata": {
    "execution": {
     "iopub.execute_input": "2022-01-20T22:38:51.026306Z",
     "iopub.status.busy": "2022-01-20T22:38:51.025939Z",
     "iopub.status.idle": "2022-01-20T22:38:51.03417Z",
     "shell.execute_reply": "2022-01-20T22:38:51.03325Z",
     "shell.execute_reply.started": "2022-01-20T22:38:51.026277Z"
    }
   },
   "outputs": [],
   "source": [
    "train = train.drop(columns=[\"Id\", \"PoolQC\", \"Fence\",\"Alley\",\"MiscFeature\"], axis=1)"
   ]
  },
  {
   "cell_type": "code",
   "execution_count": null,
   "metadata": {
    "execution": {
     "iopub.execute_input": "2022-01-20T22:38:51.036972Z",
     "iopub.status.busy": "2022-01-20T22:38:51.03593Z",
     "iopub.status.idle": "2022-01-20T22:38:51.760713Z",
     "shell.execute_reply": "2022-01-20T22:38:51.760043Z",
     "shell.execute_reply.started": "2022-01-20T22:38:51.036918Z"
    }
   },
   "outputs": [],
   "source": [
    "from sklearn.preprocessing import OrdinalEncoder, OneHotEncoder"
   ]
  },
  {
   "cell_type": "code",
   "execution_count": null,
   "metadata": {
    "execution": {
     "iopub.execute_input": "2022-01-20T22:38:51.763183Z",
     "iopub.status.busy": "2022-01-20T22:38:51.762308Z",
     "iopub.status.idle": "2022-01-20T22:38:51.76848Z",
     "shell.execute_reply": "2022-01-20T22:38:51.767472Z",
     "shell.execute_reply.started": "2022-01-20T22:38:51.763145Z"
    }
   },
   "outputs": [],
   "source": [
    "def cat_to_num(df,dt):\n",
    "    enc = OrdinalEncoder()\n",
    "    df[[dt]] = enc.fit_transform(df[[dt]])\n",
    "    df[dt]=df[dt].astype(\"int64\")\n",
    "    outliers(df,dt)"
   ]
  },
  {
   "cell_type": "code",
   "execution_count": null,
   "metadata": {
    "execution": {
     "iopub.execute_input": "2022-01-20T22:38:51.769943Z",
     "iopub.status.busy": "2022-01-20T22:38:51.769671Z",
     "iopub.status.idle": "2022-01-20T22:38:57.441406Z",
     "shell.execute_reply": "2022-01-20T22:38:57.440409Z",
     "shell.execute_reply.started": "2022-01-20T22:38:51.769908Z"
    }
   },
   "outputs": [],
   "source": [
    "for item in (train.loc[:, train.dtypes == np.object].columns):\n",
    "    cat_to_num(train,item)"
   ]
  },
  {
   "cell_type": "code",
   "execution_count": null,
   "metadata": {
    "execution": {
     "iopub.execute_input": "2022-01-20T22:38:57.44323Z",
     "iopub.status.busy": "2022-01-20T22:38:57.442921Z",
     "iopub.status.idle": "2022-01-20T22:38:57.449024Z",
     "shell.execute_reply": "2022-01-20T22:38:57.448077Z",
     "shell.execute_reply.started": "2022-01-20T22:38:57.443188Z"
    }
   },
   "outputs": [],
   "source": [
    "train = train.astype(\"int64\")"
   ]
  },
  {
   "cell_type": "markdown",
   "metadata": {},
   "source": [
    "## Corrilation"
   ]
  },
  {
   "cell_type": "code",
   "execution_count": null,
   "metadata": {
    "execution": {
     "iopub.execute_input": "2022-01-20T22:38:57.45018Z",
     "iopub.status.busy": "2022-01-20T22:38:57.449978Z",
     "iopub.status.idle": "2022-01-20T22:38:57.491682Z",
     "shell.execute_reply": "2022-01-20T22:38:57.49096Z",
     "shell.execute_reply.started": "2022-01-20T22:38:57.450155Z"
    }
   },
   "outputs": [],
   "source": [
    "corr = train.corr()"
   ]
  },
  {
   "cell_type": "code",
   "execution_count": null,
   "metadata": {
    "execution": {
     "iopub.execute_input": "2022-01-20T22:38:57.493404Z",
     "iopub.status.busy": "2022-01-20T22:38:57.493076Z",
     "iopub.status.idle": "2022-01-20T22:38:57.500435Z",
     "shell.execute_reply": "2022-01-20T22:38:57.499477Z",
     "shell.execute_reply.started": "2022-01-20T22:38:57.493376Z"
    }
   },
   "outputs": [],
   "source": [
    "corr[\"SalePrice\"]"
   ]
  },
  {
   "cell_type": "code",
   "execution_count": null,
   "metadata": {
    "execution": {
     "iopub.execute_input": "2022-01-20T22:38:57.502275Z",
     "iopub.status.busy": "2022-01-20T22:38:57.50177Z",
     "iopub.status.idle": "2022-01-20T22:38:57.509891Z",
     "shell.execute_reply": "2022-01-20T22:38:57.509035Z",
     "shell.execute_reply.started": "2022-01-20T22:38:57.502246Z"
    }
   },
   "outputs": [],
   "source": [
    "columns_toremove = list(corr.index[ corr[\"SalePrice\"]<0])"
   ]
  },
  {
   "cell_type": "code",
   "execution_count": null,
   "metadata": {
    "execution": {
     "iopub.execute_input": "2022-01-20T22:38:57.51175Z",
     "iopub.status.busy": "2022-01-20T22:38:57.511234Z",
     "iopub.status.idle": "2022-01-20T22:38:57.524346Z",
     "shell.execute_reply": "2022-01-20T22:38:57.52345Z",
     "shell.execute_reply.started": "2022-01-20T22:38:57.511708Z"
    }
   },
   "outputs": [],
   "source": [
    "train = train.drop(columns= columns_toremove, axis=1)"
   ]
  },
  {
   "cell_type": "code",
   "execution_count": null,
   "metadata": {
    "execution": {
     "iopub.execute_input": "2022-01-20T22:38:57.52823Z",
     "iopub.status.busy": "2022-01-20T22:38:57.52559Z",
     "iopub.status.idle": "2022-01-20T22:38:57.684022Z",
     "shell.execute_reply": "2022-01-20T22:38:57.683294Z",
     "shell.execute_reply.started": "2022-01-20T22:38:57.528179Z"
    }
   },
   "outputs": [],
   "source": [
    "trace = go.Heatmap(z=corr.values,\n",
    "                  x=corr.index.values,\n",
    "                  y=corr.columns.values)\n",
    "traces=[trace]\n",
    "layout = go.Layout(title=\" Correlation\" ,width = 1050, height = 900,\n",
    "    autosize = False)\n",
    "fig_go = go.Figure(data=traces, layout=layout)\n",
    "fig_go.show()"
   ]
  },
  {
   "cell_type": "code",
   "execution_count": null,
   "metadata": {
    "execution": {
     "iopub.execute_input": "2022-01-20T22:38:57.685591Z",
     "iopub.status.busy": "2022-01-20T22:38:57.685048Z",
     "iopub.status.idle": "2022-01-20T22:38:57.690296Z",
     "shell.execute_reply": "2022-01-20T22:38:57.689722Z",
     "shell.execute_reply.started": "2022-01-20T22:38:57.685544Z"
    }
   },
   "outputs": [],
   "source": [
    "train.shape"
   ]
  },
  {
   "cell_type": "code",
   "execution_count": null,
   "metadata": {
    "execution": {
     "iopub.execute_input": "2022-01-20T22:38:57.69448Z",
     "iopub.status.busy": "2022-01-20T22:38:57.694111Z",
     "iopub.status.idle": "2022-01-20T22:38:57.704536Z",
     "shell.execute_reply": "2022-01-20T22:38:57.703885Z",
     "shell.execute_reply.started": "2022-01-20T22:38:57.694439Z"
    }
   },
   "outputs": [],
   "source": [
    "train.shape"
   ]
  },
  {
   "cell_type": "code",
   "execution_count": null,
   "metadata": {
    "execution": {
     "iopub.execute_input": "2022-01-20T22:38:57.706203Z",
     "iopub.status.busy": "2022-01-20T22:38:57.705799Z",
     "iopub.status.idle": "2022-01-20T22:38:57.723711Z",
     "shell.execute_reply": "2022-01-20T22:38:57.723018Z",
     "shell.execute_reply.started": "2022-01-20T22:38:57.706161Z"
    }
   },
   "outputs": [],
   "source": [
    "from sklearn.preprocessing import StandardScaler\n",
    "from sklearn.compose import ColumnTransformer"
   ]
  },
  {
   "cell_type": "code",
   "execution_count": null,
   "metadata": {
    "execution": {
     "iopub.execute_input": "2022-01-20T22:38:57.72557Z",
     "iopub.status.busy": "2022-01-20T22:38:57.72518Z",
     "iopub.status.idle": "2022-01-20T22:38:57.739747Z",
     "shell.execute_reply": "2022-01-20T22:38:57.739063Z",
     "shell.execute_reply.started": "2022-01-20T22:38:57.725524Z"
    }
   },
   "outputs": [],
   "source": [
    "numeric_coloumns = list(train.columns)\n",
    "pipeline = ColumnTransformer([\n",
    "    (\"Standred\", StandardScaler(), numeric_coloumns,)\n",
    "])\n",
    "scaled_data = pd.DataFrame(pipeline.fit_transform(train), columns=list(train.columns))"
   ]
  },
  {
   "cell_type": "code",
   "execution_count": null,
   "metadata": {
    "execution": {
     "iopub.execute_input": "2022-01-20T22:38:57.741593Z",
     "iopub.status.busy": "2022-01-20T22:38:57.74104Z",
     "iopub.status.idle": "2022-01-20T22:38:57.745915Z",
     "shell.execute_reply": "2022-01-20T22:38:57.745344Z",
     "shell.execute_reply.started": "2022-01-20T22:38:57.74156Z"
    }
   },
   "outputs": [],
   "source": [
    "label = train[\"SalePrice\"]\n",
    "scaled_data = scaled_data.drop(\"SalePrice\", axis=1)"
   ]
  },
  {
   "cell_type": "code",
   "execution_count": null,
   "metadata": {
    "execution": {
     "iopub.execute_input": "2022-01-20T22:38:57.747902Z",
     "iopub.status.busy": "2022-01-20T22:38:57.747425Z",
     "iopub.status.idle": "2022-01-20T22:38:57.809486Z",
     "shell.execute_reply": "2022-01-20T22:38:57.808855Z",
     "shell.execute_reply.started": "2022-01-20T22:38:57.747861Z"
    }
   },
   "outputs": [],
   "source": [
    "from sklearn.model_selection import cross_val_score, cross_val_predict, train_test_split"
   ]
  },
  {
   "cell_type": "code",
   "execution_count": null,
   "metadata": {
    "execution": {
     "iopub.execute_input": "2022-01-20T22:38:57.811079Z",
     "iopub.status.busy": "2022-01-20T22:38:57.810483Z",
     "iopub.status.idle": "2022-01-20T22:38:57.81868Z",
     "shell.execute_reply": "2022-01-20T22:38:57.818088Z",
     "shell.execute_reply.started": "2022-01-20T22:38:57.811044Z"
    }
   },
   "outputs": [],
   "source": [
    "train_x, test_x, train_y, test_y = train_test_split(scaled_data, label, test_size=0.2, random_state=42)"
   ]
  },
  {
   "cell_type": "code",
   "execution_count": null,
   "metadata": {
    "execution": {
     "iopub.execute_input": "2022-01-20T22:38:57.820809Z",
     "iopub.status.busy": "2022-01-20T22:38:57.820426Z",
     "iopub.status.idle": "2022-01-20T22:38:58.140883Z",
     "shell.execute_reply": "2022-01-20T22:38:58.140033Z",
     "shell.execute_reply.started": "2022-01-20T22:38:57.82078Z"
    }
   },
   "outputs": [],
   "source": [
    "from sklearn.ensemble import RandomForestRegressor"
   ]
  },
  {
   "cell_type": "code",
   "execution_count": null,
   "metadata": {
    "execution": {
     "iopub.execute_input": "2022-01-20T22:38:58.142382Z",
     "iopub.status.busy": "2022-01-20T22:38:58.142141Z",
     "iopub.status.idle": "2022-01-20T22:38:59.323855Z",
     "shell.execute_reply": "2022-01-20T22:38:59.322891Z",
     "shell.execute_reply.started": "2022-01-20T22:38:58.142348Z"
    }
   },
   "outputs": [],
   "source": [
    "regressor = RandomForestRegressor(n_estimators = 100, random_state = 42)\n",
    "regressor.fit(train_x, train_y)"
   ]
  },
  {
   "cell_type": "code",
   "execution_count": null,
   "metadata": {
    "execution": {
     "iopub.execute_input": "2022-01-20T22:38:59.325369Z",
     "iopub.status.busy": "2022-01-20T22:38:59.325149Z",
     "iopub.status.idle": "2022-01-20T22:38:59.346548Z",
     "shell.execute_reply": "2022-01-20T22:38:59.345654Z",
     "shell.execute_reply.started": "2022-01-20T22:38:59.325343Z"
    }
   },
   "outputs": [],
   "source": [
    "y_pred = regressor.predict(test_x)"
   ]
  },
  {
   "cell_type": "code",
   "execution_count": null,
   "metadata": {
    "execution": {
     "iopub.execute_input": "2022-01-20T22:38:59.34824Z",
     "iopub.status.busy": "2022-01-20T22:38:59.348028Z",
     "iopub.status.idle": "2022-01-20T22:38:59.35762Z",
     "shell.execute_reply": "2022-01-20T22:38:59.356866Z",
     "shell.execute_reply.started": "2022-01-20T22:38:59.348215Z"
    }
   },
   "outputs": [],
   "source": [
    "y_pred"
   ]
  },
  {
   "cell_type": "code",
   "execution_count": null,
   "metadata": {
    "execution": {
     "iopub.execute_input": "2022-01-20T22:38:59.359156Z",
     "iopub.status.busy": "2022-01-20T22:38:59.358849Z",
     "iopub.status.idle": "2022-01-20T22:38:59.375576Z",
     "shell.execute_reply": "2022-01-20T22:38:59.374702Z",
     "shell.execute_reply.started": "2022-01-20T22:38:59.359124Z"
    }
   },
   "outputs": [],
   "source": [
    "from sklearn import metrics\n",
    "print('Mean Absolute Error:', metrics.mean_absolute_error(test_y, y_pred))  \n",
    "print('Mean Squared Error:', metrics.mean_squared_error(test_y, y_pred))  \n",
    "print('Root Mean Squared Error:', np.sqrt(metrics.mean_squared_error(test_y, y_pred)))"
   ]
  },
  {
   "cell_type": "code",
   "execution_count": null,
   "metadata": {
    "execution": {
     "iopub.execute_input": "2022-01-20T22:38:59.376717Z",
     "iopub.status.busy": "2022-01-20T22:38:59.376476Z",
     "iopub.status.idle": "2022-01-20T22:42:19.89769Z",
     "shell.execute_reply": "2022-01-20T22:42:19.896657Z",
     "shell.execute_reply.started": "2022-01-20T22:38:59.376688Z"
    }
   },
   "outputs": [],
   "source": [
    "from sklearn.model_selection import GridSearchCV\n",
    "from sklearn.ensemble import RandomForestRegressor\n",
    "\n",
    "estimator = RandomForestRegressor(max_features='auto', oob_score=True, random_state=42)\n",
    "param_grid = { \n",
    "        \"n_estimators\"      : [200, 400, 700],\n",
    "        \"min_samples_split\" : [2,4,8,10],\n",
    "            }\n",
    "\n",
    "grid = GridSearchCV(estimator, param_grid, cv=10, n_jobs=6)\n",
    "\n",
    "grid.fit(train_x, train_y)"
   ]
  },
  {
   "cell_type": "code",
   "execution_count": null,
   "metadata": {
    "execution": {
     "iopub.execute_input": "2022-01-20T22:42:19.899763Z",
     "iopub.status.busy": "2022-01-20T22:42:19.899488Z",
     "iopub.status.idle": "2022-01-20T22:42:19.906578Z",
     "shell.execute_reply": "2022-01-20T22:42:19.905533Z",
     "shell.execute_reply.started": "2022-01-20T22:42:19.899732Z"
    }
   },
   "outputs": [],
   "source": [
    "print(\" Results from Grid Search \")\n",
    "print(\"\\n The best estimator across ALL searched params:\\n\", grid.best_estimator_)\n",
    "print(\"\\n The best score across ALL searched params:\\n\", grid.best_score_)\n",
    "print(\"\\n The best parameters across ALL searched params:\\n\", grid.best_params_)"
   ]
  },
  {
   "cell_type": "code",
   "execution_count": null,
   "metadata": {
    "execution": {
     "iopub.execute_input": "2022-01-20T22:42:19.908578Z",
     "iopub.status.busy": "2022-01-20T22:42:19.908079Z",
     "iopub.status.idle": "2022-01-20T22:42:32.432727Z",
     "shell.execute_reply": "2022-01-20T22:42:32.4319Z",
     "shell.execute_reply.started": "2022-01-20T22:42:19.908531Z"
    }
   },
   "outputs": [],
   "source": [
    "model = RandomForestRegressor(n_estimators=1000, oob_score=True, random_state=42)\n",
    "model.fit(train_x, train_y)"
   ]
  },
  {
   "cell_type": "code",
   "execution_count": null,
   "metadata": {
    "execution": {
     "iopub.execute_input": "2022-01-20T22:42:32.434896Z",
     "iopub.status.busy": "2022-01-20T22:42:32.43437Z",
     "iopub.status.idle": "2022-01-20T22:42:32.570096Z",
     "shell.execute_reply": "2022-01-20T22:42:32.569242Z",
     "shell.execute_reply.started": "2022-01-20T22:42:32.434851Z"
    }
   },
   "outputs": [],
   "source": [
    "model_pred = model.predict(test_x)"
   ]
  },
  {
   "cell_type": "code",
   "execution_count": null,
   "metadata": {
    "execution": {
     "iopub.execute_input": "2022-01-20T22:42:32.571923Z",
     "iopub.status.busy": "2022-01-20T22:42:32.571619Z",
     "iopub.status.idle": "2022-01-20T22:42:32.580979Z",
     "shell.execute_reply": "2022-01-20T22:42:32.580152Z",
     "shell.execute_reply.started": "2022-01-20T22:42:32.571883Z"
    }
   },
   "outputs": [],
   "source": [
    "print('Mean Absolute Error:', metrics.mean_absolute_error(test_y, model_pred))  \n",
    "print('Mean Squared Error:', metrics.mean_squared_error(test_y, model_pred))  \n",
    "print('Root Mean Squared Error:', np.sqrt(metrics.mean_squared_error(test_y, model_pred)))"
   ]
  },
  {
   "cell_type": "markdown",
   "metadata": {},
   "source": [
    "## Test"
   ]
  },
  {
   "cell_type": "code",
   "execution_count": null,
   "metadata": {
    "execution": {
     "iopub.execute_input": "2022-01-20T22:42:32.582433Z",
     "iopub.status.busy": "2022-01-20T22:42:32.582134Z",
     "iopub.status.idle": "2022-01-20T22:42:32.638027Z",
     "shell.execute_reply": "2022-01-20T22:42:32.637018Z",
     "shell.execute_reply.started": "2022-01-20T22:42:32.582402Z"
    }
   },
   "outputs": [],
   "source": [
    "test = pd.read_csv(\"dataset/test.csv\")"
   ]
  },
  {
   "cell_type": "code",
   "execution_count": null,
   "metadata": {
    "execution": {
     "iopub.execute_input": "2022-01-20T22:42:32.639429Z",
     "iopub.status.busy": "2022-01-20T22:42:32.639218Z",
     "iopub.status.idle": "2022-01-20T22:42:32.666299Z",
     "shell.execute_reply": "2022-01-20T22:42:32.665438Z",
     "shell.execute_reply.started": "2022-01-20T22:42:32.639404Z"
    }
   },
   "outputs": [],
   "source": [
    "test.info()"
   ]
  },
  {
   "cell_type": "code",
   "execution_count": null,
   "metadata": {
    "execution": {
     "iopub.execute_input": "2022-01-20T22:42:32.667737Z",
     "iopub.status.busy": "2022-01-20T22:42:32.667441Z",
     "iopub.status.idle": "2022-01-20T22:42:32.675072Z",
     "shell.execute_reply": "2022-01-20T22:42:32.674219Z",
     "shell.execute_reply.started": "2022-01-20T22:42:32.667699Z"
    }
   },
   "outputs": [],
   "source": [
    "test = test.drop(columns=[\"PoolQC\", \"Fence\",\"Alley\",\"MiscFeature\"], axis=1)"
   ]
  },
  {
   "cell_type": "code",
   "execution_count": null,
   "metadata": {
    "execution": {
     "iopub.execute_input": "2022-01-20T22:42:32.676985Z",
     "iopub.status.busy": "2022-01-20T22:42:32.676202Z",
     "iopub.status.idle": "2022-01-20T22:42:32.68648Z",
     "shell.execute_reply": "2022-01-20T22:42:32.685635Z",
     "shell.execute_reply.started": "2022-01-20T22:42:32.676943Z"
    }
   },
   "outputs": [],
   "source": [
    "test = test.drop(columns=columns_toremove, axis=1)"
   ]
  },
  {
   "cell_type": "code",
   "execution_count": null,
   "metadata": {
    "execution": {
     "iopub.execute_input": "2022-01-20T22:42:32.687765Z",
     "iopub.status.busy": "2022-01-20T22:42:32.687556Z",
     "iopub.status.idle": "2022-01-20T22:42:32.711423Z",
     "shell.execute_reply": "2022-01-20T22:42:32.710347Z",
     "shell.execute_reply.started": "2022-01-20T22:42:32.687741Z"
    }
   },
   "outputs": [],
   "source": [
    "test=test.ffill()\n",
    "test=test.bfill()"
   ]
  },
  {
   "cell_type": "code",
   "execution_count": null,
   "metadata": {
    "execution": {
     "iopub.execute_input": "2022-01-20T22:42:32.712839Z",
     "iopub.status.busy": "2022-01-20T22:42:32.712587Z",
     "iopub.status.idle": "2022-01-20T22:42:35.399531Z",
     "shell.execute_reply": "2022-01-20T22:42:35.398643Z",
     "shell.execute_reply.started": "2022-01-20T22:42:32.712788Z"
    }
   },
   "outputs": [],
   "source": [
    "for item in (test.loc[:, test.dtypes == np.object].columns):\n",
    "    cat_to_num(test,item)"
   ]
  },
  {
   "cell_type": "code",
   "execution_count": null,
   "metadata": {
    "execution": {
     "iopub.execute_input": "2022-01-20T22:42:35.403311Z",
     "iopub.status.busy": "2022-01-20T22:42:35.402972Z",
     "iopub.status.idle": "2022-01-20T22:42:35.408519Z",
     "shell.execute_reply": "2022-01-20T22:42:35.407678Z",
     "shell.execute_reply.started": "2022-01-20T22:42:35.403276Z"
    }
   },
   "outputs": [],
   "source": [
    "test = test.astype(\"int64\")"
   ]
  },
  {
   "cell_type": "code",
   "execution_count": null,
   "metadata": {
    "execution": {
     "iopub.execute_input": "2022-01-20T22:42:35.411796Z",
     "iopub.status.busy": "2022-01-20T22:42:35.410042Z",
     "iopub.status.idle": "2022-01-20T22:42:35.421959Z",
     "shell.execute_reply": "2022-01-20T22:42:35.421231Z",
     "shell.execute_reply.started": "2022-01-20T22:42:35.411759Z"
    }
   },
   "outputs": [],
   "source": [
    "test_id = test[\"Id\"].astype(\"int32\")\n",
    "test = test.drop(\"Id\",axis=1)"
   ]
  },
  {
   "cell_type": "code",
   "execution_count": null,
   "metadata": {
    "execution": {
     "iopub.execute_input": "2022-01-20T22:42:35.423495Z",
     "iopub.status.busy": "2022-01-20T22:42:35.423285Z",
     "iopub.status.idle": "2022-01-20T22:42:35.552846Z",
     "shell.execute_reply": "2022-01-20T22:42:35.552012Z",
     "shell.execute_reply.started": "2022-01-20T22:42:35.42347Z"
    }
   },
   "outputs": [],
   "source": [
    "pred = model.predict(test)"
   ]
  },
  {
   "cell_type": "code",
   "execution_count": null,
   "metadata": {
    "execution": {
     "iopub.execute_input": "2022-01-20T22:42:35.555033Z",
     "iopub.status.busy": "2022-01-20T22:42:35.554765Z",
     "iopub.status.idle": "2022-01-20T22:42:35.561669Z",
     "shell.execute_reply": "2022-01-20T22:42:35.560749Z",
     "shell.execute_reply.started": "2022-01-20T22:42:35.555006Z"
    }
   },
   "outputs": [],
   "source": [
    "pred"
   ]
  }
 ],
 "metadata": {
  "kernelspec": {
   "display_name": "Python 3 (ipykernel)",
   "language": "python",
   "name": "python3"
  },
  "language_info": {
   "codemirror_mode": {
    "name": "ipython",
    "version": 3
   },
   "file_extension": ".py",
   "mimetype": "text/x-python",
   "name": "python",
   "nbconvert_exporter": "python",
   "pygments_lexer": "ipython3",
   "version": "3.8.8"
  }
 },
 "nbformat": 4,
 "nbformat_minor": 4
}
